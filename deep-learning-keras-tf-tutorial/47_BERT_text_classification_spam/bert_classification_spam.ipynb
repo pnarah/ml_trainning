{
 "cells": [
  {
   "cell_type": "code",
   "execution_count": 22,
   "id": "848056c2-3eb9-4353-b8fe-a853efb61838",
   "metadata": {},
   "outputs": [],
   "source": [
    "import tensorflow as tf\n",
    "import tensorflow_hub as hub\n",
    "import tensorflow_text as text\n",
    "import pandas as pd"
   ]
  },
  {
   "cell_type": "code",
   "execution_count": 3,
   "id": "16d5cffe-88e7-472e-9fd6-a43029b4e6aa",
   "metadata": {},
   "outputs": [],
   "source": [
    "#!pip install -U \"tensorflow-text==2.13.*\""
   ]
  },
  {
   "cell_type": "code",
   "execution_count": 23,
   "id": "f8877596-299b-467c-9fe6-b4337dc86f5e",
   "metadata": {},
   "outputs": [
    {
     "data": {
      "text/html": [
       "<div>\n",
       "<style scoped>\n",
       "    .dataframe tbody tr th:only-of-type {\n",
       "        vertical-align: middle;\n",
       "    }\n",
       "\n",
       "    .dataframe tbody tr th {\n",
       "        vertical-align: top;\n",
       "    }\n",
       "\n",
       "    .dataframe thead th {\n",
       "        text-align: right;\n",
       "    }\n",
       "</style>\n",
       "<table border=\"1\" class=\"dataframe\">\n",
       "  <thead>\n",
       "    <tr style=\"text-align: right;\">\n",
       "      <th></th>\n",
       "      <th>Category</th>\n",
       "      <th>Message</th>\n",
       "    </tr>\n",
       "  </thead>\n",
       "  <tbody>\n",
       "    <tr>\n",
       "      <th>0</th>\n",
       "      <td>ham</td>\n",
       "      <td>Go until jurong point, crazy.. Available only ...</td>\n",
       "    </tr>\n",
       "    <tr>\n",
       "      <th>1</th>\n",
       "      <td>ham</td>\n",
       "      <td>Ok lar... Joking wif u oni...</td>\n",
       "    </tr>\n",
       "    <tr>\n",
       "      <th>2</th>\n",
       "      <td>spam</td>\n",
       "      <td>Free entry in 2 a wkly comp to win FA Cup fina...</td>\n",
       "    </tr>\n",
       "    <tr>\n",
       "      <th>3</th>\n",
       "      <td>ham</td>\n",
       "      <td>U dun say so early hor... U c already then say...</td>\n",
       "    </tr>\n",
       "    <tr>\n",
       "      <th>4</th>\n",
       "      <td>ham</td>\n",
       "      <td>Nah I don't think he goes to usf, he lives aro...</td>\n",
       "    </tr>\n",
       "  </tbody>\n",
       "</table>\n",
       "</div>"
      ],
      "text/plain": [
       "  Category                                            Message\n",
       "0      ham  Go until jurong point, crazy.. Available only ...\n",
       "1      ham                      Ok lar... Joking wif u oni...\n",
       "2     spam  Free entry in 2 a wkly comp to win FA Cup fina...\n",
       "3      ham  U dun say so early hor... U c already then say...\n",
       "4      ham  Nah I don't think he goes to usf, he lives aro..."
      ]
     },
     "execution_count": 23,
     "metadata": {},
     "output_type": "execute_result"
    }
   ],
   "source": [
    "df = pd.read_csv('./spam.csv')\n",
    "df.head(5)"
   ]
  },
  {
   "cell_type": "code",
   "execution_count": 24,
   "id": "6615fe69-bb35-440f-96a2-e959dd7f324f",
   "metadata": {},
   "outputs": [
    {
     "data": {
      "text/html": [
       "<div>\n",
       "<style scoped>\n",
       "    .dataframe tbody tr th:only-of-type {\n",
       "        vertical-align: middle;\n",
       "    }\n",
       "\n",
       "    .dataframe tbody tr th {\n",
       "        vertical-align: top;\n",
       "    }\n",
       "\n",
       "    .dataframe thead tr th {\n",
       "        text-align: left;\n",
       "    }\n",
       "\n",
       "    .dataframe thead tr:last-of-type th {\n",
       "        text-align: right;\n",
       "    }\n",
       "</style>\n",
       "<table border=\"1\" class=\"dataframe\">\n",
       "  <thead>\n",
       "    <tr>\n",
       "      <th></th>\n",
       "      <th colspan=\"4\" halign=\"left\">Message</th>\n",
       "    </tr>\n",
       "    <tr>\n",
       "      <th></th>\n",
       "      <th>count</th>\n",
       "      <th>unique</th>\n",
       "      <th>top</th>\n",
       "      <th>freq</th>\n",
       "    </tr>\n",
       "    <tr>\n",
       "      <th>Category</th>\n",
       "      <th></th>\n",
       "      <th></th>\n",
       "      <th></th>\n",
       "      <th></th>\n",
       "    </tr>\n",
       "  </thead>\n",
       "  <tbody>\n",
       "    <tr>\n",
       "      <th>ham</th>\n",
       "      <td>4825</td>\n",
       "      <td>4516</td>\n",
       "      <td>Sorry, I'll call later</td>\n",
       "      <td>30</td>\n",
       "    </tr>\n",
       "    <tr>\n",
       "      <th>spam</th>\n",
       "      <td>747</td>\n",
       "      <td>641</td>\n",
       "      <td>Please call our customer service representativ...</td>\n",
       "      <td>4</td>\n",
       "    </tr>\n",
       "  </tbody>\n",
       "</table>\n",
       "</div>"
      ],
      "text/plain": [
       "         Message                                                            \\\n",
       "           count unique                                                top   \n",
       "Category                                                                     \n",
       "ham         4825   4516                             Sorry, I'll call later   \n",
       "spam         747    641  Please call our customer service representativ...   \n",
       "\n",
       "               \n",
       "         freq  \n",
       "Category       \n",
       "ham        30  \n",
       "spam        4  "
      ]
     },
     "execution_count": 24,
     "metadata": {},
     "output_type": "execute_result"
    }
   ],
   "source": [
    "# Group by Catagory \n",
    "df.groupby('Category').describe()\n",
    "\n",
    "# ham 4825 and spam 747 so there are imbalance in dataset "
   ]
  },
  {
   "cell_type": "code",
   "execution_count": 25,
   "id": "d7a0225e-022a-43b5-ba26-5f3b57a2e264",
   "metadata": {},
   "outputs": [
    {
     "data": {
      "text/plain": [
       "Category\n",
       "ham     4825\n",
       "spam     747\n",
       "Name: count, dtype: int64"
      ]
     },
     "execution_count": 25,
     "metadata": {},
     "output_type": "execute_result"
    }
   ],
   "source": [
    "df['Category'].value_counts()"
   ]
  },
  {
   "cell_type": "markdown",
   "id": "4e4bed1a-a956-4e0a-941f-f4713b2a1ccb",
   "metadata": {},
   "source": [
    "# thre is imbalance in dataset \n",
    "# Do wownsample ham to 747 randomply, there is lost in training data in this approach"
   ]
  },
  {
   "cell_type": "code",
   "execution_count": 26,
   "id": "dde739ad-9b38-4258-9284-46cc7999dda7",
   "metadata": {},
   "outputs": [
    {
     "data": {
      "text/plain": [
       "(747, 2)"
      ]
     },
     "execution_count": 26,
     "metadata": {},
     "output_type": "execute_result"
    }
   ],
   "source": [
    "# get only the spam's\n",
    "df_spam = df[df['Category'] == 'spam']\n",
    "df_spam.shape"
   ]
  },
  {
   "cell_type": "code",
   "execution_count": 27,
   "id": "4b4897d6-196b-4b88-9505-1cb6e5ae7bb7",
   "metadata": {},
   "outputs": [
    {
     "data": {
      "text/plain": [
       "(4825, 2)"
      ]
     },
     "execution_count": 27,
     "metadata": {},
     "output_type": "execute_result"
    }
   ],
   "source": [
    "# get only the ham\n",
    "df_ham = df[df['Category'] == 'ham']\n",
    "df_ham.shape"
   ]
  },
  {
   "cell_type": "code",
   "execution_count": 28,
   "id": "7c9bccbf-555a-42ca-993e-53d1e105baa2",
   "metadata": {},
   "outputs": [
    {
     "data": {
      "text/plain": [
       "(747, 2)"
      ]
     },
     "execution_count": 28,
     "metadata": {},
     "output_type": "execute_result"
    }
   ],
   "source": [
    "# downsample ham dataset\n",
    "df_ham_downsampled = df_ham.sample(df_spam.shape[0])\n",
    "df_ham_downsampled.shape"
   ]
  },
  {
   "cell_type": "code",
   "execution_count": 29,
   "id": "a14e1574-9ddf-4a0c-bb67-9118c33508f6",
   "metadata": {},
   "outputs": [
    {
     "data": {
      "text/plain": [
       "(1494, 2)"
      ]
     },
     "execution_count": 29,
     "metadata": {},
     "output_type": "execute_result"
    }
   ],
   "source": [
    "# now concatenate the dataset which has ham and smap balanced\n",
    "df_balanced = pd.concat([df_spam, df_ham_downsampled])\n",
    "df_balanced.shape"
   ]
  },
  {
   "cell_type": "code",
   "execution_count": 30,
   "id": "55232e70-cdb7-443d-8208-e0b43851f11f",
   "metadata": {},
   "outputs": [
    {
     "data": {
      "text/plain": [
       "Category\n",
       "spam    747\n",
       "ham     747\n",
       "Name: count, dtype: int64"
      ]
     },
     "execution_count": 30,
     "metadata": {},
     "output_type": "execute_result"
    }
   ],
   "source": [
    "df_balanced['Category'].value_counts()"
   ]
  },
  {
   "cell_type": "markdown",
   "id": "1d4089be-c706-4b81-bee7-1430402f58ff",
   "metadata": {},
   "source": [
    "# Create a new column call spam and set 1 or 0 for true and false"
   ]
  },
  {
   "cell_type": "code",
   "execution_count": 31,
   "id": "8bc4f6df-eae1-44ee-b45b-dd27dabe2de5",
   "metadata": {},
   "outputs": [],
   "source": [
    "df_balanced['spam'] = df_balanced['Category'].apply(lambda x: 1 if x=='spam' else 0)"
   ]
  },
  {
   "cell_type": "code",
   "execution_count": 32,
   "id": "0eb5b465-15c6-45e2-b196-2ff77463b511",
   "metadata": {},
   "outputs": [
    {
     "data": {
      "text/html": [
       "<div>\n",
       "<style scoped>\n",
       "    .dataframe tbody tr th:only-of-type {\n",
       "        vertical-align: middle;\n",
       "    }\n",
       "\n",
       "    .dataframe tbody tr th {\n",
       "        vertical-align: top;\n",
       "    }\n",
       "\n",
       "    .dataframe thead th {\n",
       "        text-align: right;\n",
       "    }\n",
       "</style>\n",
       "<table border=\"1\" class=\"dataframe\">\n",
       "  <thead>\n",
       "    <tr style=\"text-align: right;\">\n",
       "      <th></th>\n",
       "      <th>Category</th>\n",
       "      <th>Message</th>\n",
       "      <th>spam</th>\n",
       "    </tr>\n",
       "  </thead>\n",
       "  <tbody>\n",
       "    <tr>\n",
       "      <th>1492</th>\n",
       "      <td>spam</td>\n",
       "      <td>Your account has been credited with 500 FREE T...</td>\n",
       "      <td>1</td>\n",
       "    </tr>\n",
       "    <tr>\n",
       "      <th>520</th>\n",
       "      <td>ham</td>\n",
       "      <td>Usually the person is unconscious that's in ch...</td>\n",
       "      <td>0</td>\n",
       "    </tr>\n",
       "    <tr>\n",
       "      <th>1830</th>\n",
       "      <td>spam</td>\n",
       "      <td>Hottest pics straight to your phone!! See me g...</td>\n",
       "      <td>1</td>\n",
       "    </tr>\n",
       "    <tr>\n",
       "      <th>1874</th>\n",
       "      <td>spam</td>\n",
       "      <td>You have WON a guaranteed £1000 cash or a £200...</td>\n",
       "      <td>1</td>\n",
       "    </tr>\n",
       "    <tr>\n",
       "      <th>44</th>\n",
       "      <td>ham</td>\n",
       "      <td>Great! I hope you like your man well endowed. ...</td>\n",
       "      <td>0</td>\n",
       "    </tr>\n",
       "    <tr>\n",
       "      <th>3906</th>\n",
       "      <td>spam</td>\n",
       "      <td>Do you want a new video handset? 750 anytime a...</td>\n",
       "      <td>1</td>\n",
       "    </tr>\n",
       "    <tr>\n",
       "      <th>2354</th>\n",
       "      <td>spam</td>\n",
       "      <td>Please CALL 08712402902 immediately as there i...</td>\n",
       "      <td>1</td>\n",
       "    </tr>\n",
       "    <tr>\n",
       "      <th>5141</th>\n",
       "      <td>spam</td>\n",
       "      <td>FREE for 1st week! No1 Nokia tone 4 ur mobile ...</td>\n",
       "      <td>1</td>\n",
       "    </tr>\n",
       "    <tr>\n",
       "      <th>2677</th>\n",
       "      <td>ham</td>\n",
       "      <td>* Am on a train back from northampton so i'm a...</td>\n",
       "      <td>0</td>\n",
       "    </tr>\n",
       "    <tr>\n",
       "      <th>3562</th>\n",
       "      <td>spam</td>\n",
       "      <td>Text BANNEDUK to 89555 to see! cost 150p texto...</td>\n",
       "      <td>1</td>\n",
       "    </tr>\n",
       "  </tbody>\n",
       "</table>\n",
       "</div>"
      ],
      "text/plain": [
       "     Category                                            Message  spam\n",
       "1492     spam  Your account has been credited with 500 FREE T...     1\n",
       "520       ham  Usually the person is unconscious that's in ch...     0\n",
       "1830     spam  Hottest pics straight to your phone!! See me g...     1\n",
       "1874     spam  You have WON a guaranteed £1000 cash or a £200...     1\n",
       "44        ham  Great! I hope you like your man well endowed. ...     0\n",
       "3906     spam  Do you want a new video handset? 750 anytime a...     1\n",
       "2354     spam  Please CALL 08712402902 immediately as there i...     1\n",
       "5141     spam  FREE for 1st week! No1 Nokia tone 4 ur mobile ...     1\n",
       "2677      ham  * Am on a train back from northampton so i'm a...     0\n",
       "3562     spam  Text BANNEDUK to 89555 to see! cost 150p texto...     1"
      ]
     },
     "execution_count": 32,
     "metadata": {},
     "output_type": "execute_result"
    }
   ],
   "source": [
    "df_balanced.sample(10)"
   ]
  },
  {
   "cell_type": "markdown",
   "id": "df642b6d-b93c-4cf5-93fb-0cb39e7d9c2b",
   "metadata": {},
   "source": [
    "# Create traininng and test dataset usning sklearn"
   ]
  },
  {
   "cell_type": "code",
   "execution_count": 33,
   "id": "9aecfd11-9619-4fa2-b001-266a0881fd28",
   "metadata": {},
   "outputs": [],
   "source": [
    "from sklearn.model_selection import train_test_split\n",
    "# df_balanced to get equal number of spam and ham distributed in the split\n",
    "X_train, X_test, y_train, y_test = train_test_split(df_balanced['Message'], df_balanced['spam'], stratify=df_balanced['spam']) "
   ]
  },
  {
   "cell_type": "code",
   "execution_count": 34,
   "id": "416b7412-7fb5-4169-b708-95cb2882881e",
   "metadata": {},
   "outputs": [
    {
     "data": {
      "text/plain": [
       "93      Please call our customer service representativ...\n",
       "78             Does not operate after  &lt;#&gt;  or what\n",
       "2693    Urgent Urgent! We have 800 FREE flights to Eur...\n",
       "1778    Buy Space Invaders 4 a chance 2 win orig Arcad...\n",
       "2153    Hi kindly give us back our documents which we ...\n",
       "3207                                        At home also.\n",
       "1456    Summers finally here! Fancy a chat or flirt wi...\n",
       "3765    Would me smoking you out help us work through ...\n",
       "5068    83039 62735=£450 UK Break AccommodationVoucher...\n",
       "5196    Spook up your mob with a Halloween collection ...\n",
       "Name: Message, dtype: object"
      ]
     },
     "execution_count": 34,
     "metadata": {},
     "output_type": "execute_result"
    }
   ],
   "source": [
    "X_train.sample(10)"
   ]
  },
  {
   "cell_type": "code",
   "execution_count": 35,
   "id": "bfd530a4-75fc-49b5-8ce0-e95032d5dc50",
   "metadata": {},
   "outputs": [],
   "source": [
    "bert_preprocess = hub.KerasLayer(\"https://tfhub.dev/tensorflow/bert_en_uncased_preprocess/3\")\n",
    "bert_encoder = hub.KerasLayer(\"https://tfhub.dev/tensorflow/bert_en_uncased_L-12_H-768_A-12/4\")"
   ]
  },
  {
   "cell_type": "code",
   "execution_count": 36,
   "id": "def4a995-cc82-44ad-86c8-6c9e4c68d667",
   "metadata": {},
   "outputs": [
    {
     "data": {
      "text/plain": [
       "<tf.Tensor: shape=(2, 768), dtype=float32, numpy=\n",
       "array([[-0.76042193, -0.4264824 , -0.773927  , ..., -0.4866681 ,\n",
       "        -0.632334  ,  0.7241167 ],\n",
       "       [-0.79849166, -0.5656234 , -0.9235822 , ..., -0.5869544 ,\n",
       "        -0.60568583,  0.86320144]], dtype=float32)>"
      ]
     },
     "execution_count": 36,
     "metadata": {},
     "output_type": "execute_result"
    }
   ],
   "source": [
    "def get_sentence_embeding(sentences):\n",
    "    preprocesed_text=bert_preprocess(sentences)\n",
    "    return bert_encoder(preprocesed_text)['pooled_output']\n",
    "\n",
    "\n",
    "get_sentence_embeding(['Hurry there are 50% discount on Apple decives',\n",
    "                       'Manoje is happy with his new bike'])"
   ]
  },
  {
   "cell_type": "markdown",
   "id": "05a5a164-d413-4b99-aebb-64cdb7b1a771",
   "metadata": {},
   "source": [
    "# Test to check similarities between words"
   ]
  },
  {
   "cell_type": "code",
   "execution_count": 37,
   "id": "6deaed5d-6cd2-4845-af9a-be030a6cdf92",
   "metadata": {},
   "outputs": [
    {
     "data": {
      "text/plain": [
       "<tf.Tensor: shape=(6, 768), dtype=float32, numpy=\n",
       "array([[-0.8196456 , -0.29609603,  0.20951797, ...,  0.255934  ,\n",
       "        -0.5874298 ,  0.8434556 ],\n",
       "       [-0.8363078 , -0.23830146,  0.38453507, ...,  0.45564735,\n",
       "        -0.6078617 ,  0.82788914],\n",
       "       [-0.86023223, -0.2124296 ,  0.49156845, ...,  0.39797997,\n",
       "        -0.6050631 ,  0.8447167 ],\n",
       "       [-0.8967278 , -0.42045587, -0.38606298, ..., -0.13228925,\n",
       "        -0.6666912 ,  0.9103784 ],\n",
       "       [-0.77388406, -0.18204877,  0.37464592, ...,  0.393602  ,\n",
       "        -0.46606255,  0.701598  ],\n",
       "       [-0.8693092 , -0.44143924, -0.15674907, ..., -0.17136651,\n",
       "        -0.58713514,  0.8397913 ]], dtype=float32)>"
      ]
     },
     "execution_count": 37,
     "metadata": {},
     "output_type": "execute_result"
    }
   ],
   "source": [
    "e = get_sentence_embeding([\n",
    "    'Apple',\n",
    "    'Orange',\n",
    "    'Grapes',\n",
    "    'Elon Mask',\n",
    "    'Ratan Tata',\n",
    "    'Satya Nadal'\n",
    "])\n",
    "e"
   ]
  },
  {
   "cell_type": "code",
   "execution_count": 39,
   "id": "358f96b8-9e21-4106-ab3f-70a017d01272",
   "metadata": {},
   "outputs": [
    {
     "data": {
      "text/plain": [
       "array([[0.8981739]], dtype=float32)"
      ]
     },
     "execution_count": 39,
     "metadata": {},
     "output_type": "execute_result"
    }
   ],
   "source": [
    "from sklearn.metrics.pairwise import cosine_similarity\n",
    "cosine_similarity([e[4]], [e[5]])"
   ]
  },
  {
   "cell_type": "markdown",
   "id": "996b7691-bbef-4656-aa78-7190981ae992",
   "metadata": {},
   "source": [
    "# Create the functional model"
   ]
  },
  {
   "cell_type": "code",
   "execution_count": 40,
   "id": "47076f8c-a62b-459c-8bb9-1643b8d1559b",
   "metadata": {},
   "outputs": [],
   "source": [
    "# Bert layers\n",
    "text_input = tf.keras.layers.Input(shape=(), dtype=tf.string, name='text')\n",
    "preprocessed_text = bert_preprocess(text_input)\n",
    "outputs = bert_encoder(preprocessed_text)\n",
    "\n",
    "# Neural network layers\n",
    "l = tf.keras.layers.Dropout(0.1, name=\"dropout\")(outputs['pooled_output'])\n",
    "l = tf.keras.layers.Dense(1, activation='sigmoid', name=\"output\")(l)\n",
    "\n",
    "# Use inputs and outputs to construct a final model\n",
    "model = tf.keras.Model(inputs=[text_input], outputs = [l])"
   ]
  },
  {
   "cell_type": "code",
   "execution_count": 41,
   "id": "c54ae3f8-8ec5-468d-bb35-c3dbe4401897",
   "metadata": {},
   "outputs": [
    {
     "name": "stdout",
     "output_type": "stream",
     "text": [
      "Model: \"model_1\"\n",
      "__________________________________________________________________________________________________\n",
      " Layer (type)                Output Shape                 Param #   Connected to                  \n",
      "==================================================================================================\n",
      " text (InputLayer)           [(None,)]                    0         []                            \n",
      "                                                                                                  \n",
      " keras_layer_2 (KerasLayer)  {'input_type_ids': (None,    0         ['text[0][0]']                \n",
      "                             128),                                                                \n",
      "                              'input_mask': (None, 128)                                           \n",
      "                             , 'input_word_ids': (None,                                           \n",
      "                              128)}                                                               \n",
      "                                                                                                  \n",
      " keras_layer_3 (KerasLayer)  {'pooled_output': (None, 7   1094822   ['keras_layer_2[0][0]',       \n",
      "                             68),                         41         'keras_layer_2[0][1]',       \n",
      "                              'sequence_output': (None,              'keras_layer_2[0][2]']       \n",
      "                              128, 768),                                                          \n",
      "                              'encoder_outputs': [(None                                           \n",
      "                             , 128, 768),                                                         \n",
      "                              (None, 128, 768),                                                   \n",
      "                              (None, 128, 768),                                                   \n",
      "                              (None, 128, 768),                                                   \n",
      "                              (None, 128, 768),                                                   \n",
      "                              (None, 128, 768),                                                   \n",
      "                              (None, 128, 768),                                                   \n",
      "                              (None, 128, 768),                                                   \n",
      "                              (None, 128, 768),                                                   \n",
      "                              (None, 128, 768),                                                   \n",
      "                              (None, 128, 768),                                                   \n",
      "                              (None, 128, 768)],                                                  \n",
      "                              'default': (None, 768)}                                             \n",
      "                                                                                                  \n",
      " dropout (Dropout)           (None, 768)                  0         ['keras_layer_3[0][13]']      \n",
      "                                                                                                  \n",
      " output (Dense)              (None, 1)                    769       ['dropout[0][0]']             \n",
      "                                                                                                  \n",
      "==================================================================================================\n",
      "Total params: 109483010 (417.64 MB)\n",
      "Trainable params: 769 (3.00 KB)\n",
      "Non-trainable params: 109482241 (417.64 MB)\n",
      "__________________________________________________________________________________________________\n"
     ]
    }
   ],
   "source": [
    "model.summary()"
   ]
  },
  {
   "cell_type": "code",
   "execution_count": 42,
   "id": "3ae7fb1b-c8e4-4870-843b-b29f26aace14",
   "metadata": {},
   "outputs": [
    {
     "name": "stdout",
     "output_type": "stream",
     "text": [
      "Epoch 1/5\n",
      "35/35 [==============================] - 161s 4s/step - loss: 0.5860 - accuracy: 0.7268 - precision: 0.7309 - recall: 0.7179\n",
      "Epoch 2/5\n",
      "35/35 [==============================] - 162s 5s/step - loss: 0.4780 - accuracy: 0.8205 - precision: 0.8100 - recall: 0.8375\n",
      "Epoch 3/5\n",
      "35/35 [==============================] - 162s 5s/step - loss: 0.4197 - accuracy: 0.8554 - precision: 0.8339 - recall: 0.8875\n",
      "Epoch 4/5\n",
      "35/35 [==============================] - 160s 5s/step - loss: 0.3822 - accuracy: 0.8705 - precision: 0.8621 - recall: 0.8821\n",
      "Epoch 5/5\n",
      "35/35 [==============================] - 168s 5s/step - loss: 0.3551 - accuracy: 0.8696 - precision: 0.8485 - recall: 0.9000\n"
     ]
    },
    {
     "data": {
      "text/plain": [
       "<keras.src.callbacks.History at 0x16cf55250>"
      ]
     },
     "execution_count": 42,
     "metadata": {},
     "output_type": "execute_result"
    }
   ],
   "source": [
    "METRICS = [\n",
    "      tf.keras.metrics.BinaryAccuracy(name='accuracy'),\n",
    "      tf.keras.metrics.Precision(name='precision'),\n",
    "      tf.keras.metrics.Recall(name='recall')\n",
    "]\n",
    "\n",
    "\n",
    "model.compile(optimizer='adam',\n",
    "             loss='binary_crossentropy',\n",
    "              metrics=METRICS\n",
    "             )\n",
    "\n",
    "model.fit(X_train, y_train, epochs=5)"
   ]
  },
  {
   "cell_type": "code",
   "execution_count": 43,
   "id": "5fa0dced-5fc5-4498-a356-64dac4db40cf",
   "metadata": {},
   "outputs": [
    {
     "name": "stdout",
     "output_type": "stream",
     "text": [
      "12/12 [==============================] - 54s 4s/step - loss: 0.3425 - accuracy: 0.8984 - precision: 0.8901 - recall: 0.9091\n"
     ]
    },
    {
     "data": {
      "text/plain": [
       "[0.34249258041381836,\n",
       " 0.8983957171440125,\n",
       " 0.8900523781776428,\n",
       " 0.9090909361839294]"
      ]
     },
     "execution_count": 43,
     "metadata": {},
     "output_type": "execute_result"
    }
   ],
   "source": [
    "model.evaluate(X_test, y_test)"
   ]
  },
  {
   "cell_type": "code",
   "execution_count": 44,
   "id": "0633c50c-9362-4237-b004-c42758fd6fae",
   "metadata": {},
   "outputs": [
    {
     "name": "stdout",
     "output_type": "stream",
     "text": [
      "1/1 [==============================] - 1s 1s/step\n"
     ]
    },
    {
     "data": {
      "text/plain": [
       "array([[0.6487068 ],\n",
       "       [0.72458136],\n",
       "       [0.7140499 ],\n",
       "       [0.24172936],\n",
       "       [0.1720283 ]], dtype=float32)"
      ]
     },
     "execution_count": 44,
     "metadata": {},
     "output_type": "execute_result"
    }
   ],
   "source": [
    "reviews = [\n",
    "    'Reply to win Â£100 weekly! Where will the 2006 FIFA World Cup be held? Send STOP to 87239 to end service',\n",
    "    'You are awarded a SiPix Digital Camera! call 09061221061 from landline. Delivery within 28days. T Cs Box177. M221BP. 2yr warranty. 150ppm. 16 . p pÂ£3.99',\n",
    "    'it to 80488. Your 500 free text messages are valid until 31 December 2005.',\n",
    "    'Hey Sam, Are you coming for a cricket game tomorrow',\n",
    "    \"Why don't you wait 'til at least wednesday to see if you get your .\"\n",
    "]\n",
    "model.predict(reviews)"
   ]
  },
  {
   "cell_type": "code",
   "execution_count": 45,
   "id": "ab320b58-1b8c-4094-b3ce-b74682989616",
   "metadata": {},
   "outputs": [
    {
     "name": "stdout",
     "output_type": "stream",
     "text": [
      "12/12 [==============================] - 53s 4s/step\n"
     ]
    },
    {
     "data": {
      "text/plain": [
       "array([0.14780243, 0.83616966, 0.895681  , 0.60874975, 0.79752743,\n",
       "       0.18940517, 0.20724918, 0.7186338 , 0.8110584 , 0.29038918,\n",
       "       0.06002934, 0.67704606, 0.26803395, 0.02421906, 0.23633616,\n",
       "       0.6713668 , 0.5536636 , 0.40734163, 0.96772015, 0.09920922,\n",
       "       0.8884241 , 0.67537236, 0.91609436, 0.4696977 , 0.73928213,\n",
       "       0.74214894, 0.27588227, 0.07367647, 0.12782654, 0.5778067 ,\n",
       "       0.8324596 , 0.2196789 , 0.45493597, 0.19588299, 0.7866631 ,\n",
       "       0.7048098 , 0.11822686, 0.7637519 , 0.9273894 , 0.63355464,\n",
       "       0.549252  , 0.63056713, 0.06819544, 0.21523462, 0.66108394,\n",
       "       0.72026026, 0.8240072 , 0.5442623 , 0.16691075, 0.18464717,\n",
       "       0.08623861, 0.18891117, 0.735622  , 0.36061302, 0.58253664,\n",
       "       0.8447066 , 0.0939879 , 0.19880396, 0.38330156, 0.42071605,\n",
       "       0.90478134, 0.22045818, 0.8760938 , 0.8760052 , 0.20388818,\n",
       "       0.53143543, 0.8398846 , 0.16708907, 0.6247618 , 0.47059914,\n",
       "       0.0551592 , 0.85209197, 0.81117636, 0.68284196, 0.38071823,\n",
       "       0.5328096 , 0.75931895, 0.68007994, 0.6983522 , 0.74669725,\n",
       "       0.2897455 , 0.22399506, 0.21365277, 0.36069927, 0.8541476 ,\n",
       "       0.5254683 , 0.5790515 , 0.39628708, 0.0958273 , 0.5328721 ,\n",
       "       0.11595351, 0.8578683 , 0.13515264, 0.12768117, 0.8516178 ,\n",
       "       0.32910648, 0.26249596, 0.887539  , 0.60189253, 0.09608054,\n",
       "       0.04938773, 0.0932065 , 0.5472972 , 0.8564322 , 0.8326229 ,\n",
       "       0.21303114, 0.5901243 , 0.8495427 , 0.24864452, 0.10866067,\n",
       "       0.6676289 , 0.16542742, 0.8307976 , 0.08308686, 0.8808278 ,\n",
       "       0.16614784, 0.18589665, 0.24954052, 0.6427867 , 0.18108332,\n",
       "       0.10733484, 0.2713538 , 0.02986314, 0.75097954, 0.23934606,\n",
       "       0.7297538 , 0.9550165 , 0.55040306, 0.34393805, 0.12343065,\n",
       "       0.54625094, 0.89622486, 0.80216575, 0.7904074 , 0.66422695,\n",
       "       0.86916816, 0.9261743 , 0.22144224, 0.4214155 , 0.08510181,\n",
       "       0.71242255, 0.14338748, 0.3241941 , 0.28670952, 0.16302279,\n",
       "       0.20577301, 0.7434961 , 0.16723755, 0.25319695, 0.1107323 ,\n",
       "       0.15815094, 0.61648834, 0.26916516, 0.25448972, 0.05615184,\n",
       "       0.57008666, 0.07598793, 0.4842825 , 0.708312  , 0.36613983,\n",
       "       0.05758783, 0.5307642 , 0.3394377 , 0.8108116 , 0.7807423 ,\n",
       "       0.48319817, 0.04941047, 0.7347791 , 0.05476408, 0.78038746,\n",
       "       0.16013254, 0.90042186, 0.41713732, 0.7028171 , 0.62696266,\n",
       "       0.05799769, 0.85547197, 0.11709641, 0.8086454 , 0.41550422,\n",
       "       0.79274917, 0.28585252, 0.09210259, 0.7392365 , 0.7610271 ,\n",
       "       0.5401463 , 0.91800493, 0.14189821, 0.17799567, 0.613483  ,\n",
       "       0.55335873, 0.40655625, 0.86323506, 0.36578217, 0.68893826,\n",
       "       0.8371378 , 0.77313477, 0.8590062 , 0.11626636, 0.88796574,\n",
       "       0.1753148 , 0.16533881, 0.16920237, 0.67227125, 0.7969996 ,\n",
       "       0.8511631 , 0.11689692, 0.11206783, 0.4842825 , 0.56454885,\n",
       "       0.8485161 , 0.1344542 , 0.06271816, 0.74719054, 0.12005432,\n",
       "       0.31094316, 0.15795809, 0.8129263 , 0.2829851 , 0.6835263 ,\n",
       "       0.36368728, 0.8432179 , 0.1343896 , 0.5737239 , 0.34798944,\n",
       "       0.84524477, 0.7038342 , 0.9356083 , 0.29639778, 0.10017952,\n",
       "       0.7326723 , 0.8141029 , 0.06327066, 0.9082987 , 0.12537253,\n",
       "       0.7353899 , 0.90478134, 0.64021915, 0.67261136, 0.19494586,\n",
       "       0.08800942, 0.07223602, 0.10065202, 0.15738113, 0.19373277,\n",
       "       0.20253465, 0.8518166 , 0.07555609, 0.0797824 , 0.11007454,\n",
       "       0.23266247, 0.78232205, 0.39628708, 0.14845215, 0.8183603 ,\n",
       "       0.1066675 , 0.27647847, 0.7297141 , 0.89725745, 0.807098  ,\n",
       "       0.8487676 , 0.7862462 , 0.76336694, 0.13284492, 0.3805017 ,\n",
       "       0.895759  , 0.21303114, 0.08692744, 0.76036155, 0.1575726 ,\n",
       "       0.14817902, 0.6032248 , 0.60476637, 0.88680184, 0.7947701 ,\n",
       "       0.6506502 , 0.6676289 , 0.8502275 , 0.8492574 , 0.88209736,\n",
       "       0.1754751 , 0.50008094, 0.1507781 , 0.05321042, 0.11587607,\n",
       "       0.39941937, 0.6616636 , 0.7674787 , 0.0608453 , 0.52396846,\n",
       "       0.15456808, 0.04992927, 0.92415726, 0.8334867 , 0.8657853 ,\n",
       "       0.07664856, 0.6237096 , 0.15790738, 0.72439605, 0.06656923,\n",
       "       0.18309045, 0.54908204, 0.72881144, 0.31139678, 0.6548822 ,\n",
       "       0.4307482 , 0.8158759 , 0.8298467 , 0.5872851 , 0.8322573 ,\n",
       "       0.13489261, 0.71077806, 0.40565497, 0.17060523, 0.16105421,\n",
       "       0.8175566 , 0.88292056, 0.09526586, 0.20056118, 0.26967916,\n",
       "       0.8866592 , 0.46371698, 0.22268206, 0.6799817 , 0.20264736,\n",
       "       0.65752375, 0.16530396, 0.33266848, 0.06437358, 0.6205177 ,\n",
       "       0.21678339, 0.7129824 , 0.11753264, 0.13233119, 0.07213467,\n",
       "       0.12464607, 0.21514659, 0.8322242 , 0.71676445, 0.9277653 ,\n",
       "       0.67457676, 0.09772806, 0.22267397, 0.50656694, 0.9235359 ,\n",
       "       0.6982423 , 0.895681  , 0.07271687, 0.6764367 , 0.77313477,\n",
       "       0.73374295, 0.38164747, 0.12091543, 0.9103711 , 0.89725745,\n",
       "       0.8705312 , 0.89436245, 0.94452554, 0.03867812, 0.5117295 ,\n",
       "       0.10055762, 0.8200501 , 0.4775595 , 0.71633583, 0.7186282 ,\n",
       "       0.90478134, 0.89253527, 0.05940846, 0.7967959 , 0.10564039,\n",
       "       0.2712933 , 0.7227334 , 0.73447365, 0.73937887], dtype=float32)"
      ]
     },
     "execution_count": 45,
     "metadata": {},
     "output_type": "execute_result"
    }
   ],
   "source": [
    "y_predicted = model.predict(X_test)\n",
    "y_predicted = y_predicted.flatten()\n",
    "y_predicted "
   ]
  },
  {
   "cell_type": "code",
   "execution_count": 47,
   "id": "4dda1410-0731-403e-9ea4-2dfafd0664f0",
   "metadata": {},
   "outputs": [
    {
     "data": {
      "text/plain": [
       "array([0, 1, 1, 1, 1, 0, 0, 1, 1, 0, 0, 1, 0, 0, 0, 1, 1, 0, 1, 0, 1, 1,\n",
       "       1, 0, 1, 1, 0, 0, 0, 1, 1, 0, 0, 0, 1, 1, 0, 1, 1, 1, 1, 1, 0, 0,\n",
       "       1, 1, 1, 1, 0, 0, 0, 0, 1, 0, 1, 1, 0, 0, 0, 0, 1, 0, 1, 1, 0, 1,\n",
       "       1, 0, 1, 0, 0, 1, 1, 1, 0, 1, 1, 1, 1, 1, 0, 0, 0, 0, 1, 1, 1, 0,\n",
       "       0, 1, 0, 1, 0, 0, 1, 0, 0, 1, 1, 0, 0, 0, 1, 1, 1, 0, 1, 1, 0, 0,\n",
       "       1, 0, 1, 0, 1, 0, 0, 0, 1, 0, 0, 0, 0, 1, 0, 1, 1, 1, 0, 0, 1, 1,\n",
       "       1, 1, 1, 1, 1, 0, 0, 0, 1, 0, 0, 0, 0, 0, 1, 0, 0, 0, 0, 1, 0, 0,\n",
       "       0, 1, 0, 0, 1, 0, 0, 1, 0, 1, 1, 0, 0, 1, 0, 1, 0, 1, 0, 1, 1, 0,\n",
       "       1, 0, 1, 0, 1, 0, 0, 1, 1, 1, 1, 0, 0, 1, 1, 0, 1, 0, 1, 1, 1, 1,\n",
       "       0, 1, 0, 0, 0, 1, 1, 1, 0, 0, 0, 1, 1, 0, 0, 1, 0, 0, 0, 1, 0, 1,\n",
       "       0, 1, 0, 1, 0, 1, 1, 1, 0, 0, 1, 1, 0, 1, 0, 1, 1, 1, 1, 0, 0, 0,\n",
       "       0, 0, 0, 0, 1, 0, 0, 0, 0, 1, 0, 0, 1, 0, 0, 1, 1, 1, 1, 1, 1, 0,\n",
       "       0, 1, 0, 0, 1, 0, 0, 1, 1, 1, 1, 1, 1, 1, 1, 1, 0, 1, 0, 0, 0, 0,\n",
       "       1, 1, 0, 1, 0, 0, 1, 1, 1, 0, 1, 0, 1, 0, 0, 1, 1, 0, 1, 0, 1, 1,\n",
       "       1, 1, 0, 1, 0, 0, 0, 1, 1, 0, 0, 0, 1, 0, 0, 1, 0, 1, 0, 0, 0, 1,\n",
       "       0, 1, 0, 0, 0, 0, 0, 1, 1, 1, 1, 0, 0, 1, 1, 1, 1, 0, 1, 1, 1, 0,\n",
       "       0, 1, 1, 1, 1, 1, 0, 1, 0, 1, 0, 1, 1, 1, 1, 0, 1, 0, 0, 1, 1, 1])"
      ]
     },
     "execution_count": 47,
     "metadata": {},
     "output_type": "execute_result"
    }
   ],
   "source": [
    "import numpy as np\n",
    "y_predicted = np.where(y_predicted > 0.5 ,1 ,0)\n",
    "y_predicted"
   ]
  },
  {
   "cell_type": "code",
   "execution_count": 48,
   "id": "3610ac7b-c63b-4f3e-83f9-36fdb87debce",
   "metadata": {},
   "outputs": [
    {
     "data": {
      "text/plain": [
       "array([[166,  21],\n",
       "       [ 17, 170]])"
      ]
     },
     "execution_count": 48,
     "metadata": {},
     "output_type": "execute_result"
    }
   ],
   "source": [
    "from sklearn.metrics import confusion_matrix, classification_report \n",
    "\n",
    "cm = confusion_matrix(y_test, y_predicted)\n",
    "cm"
   ]
  },
  {
   "cell_type": "code",
   "execution_count": 49,
   "id": "7b9459b7-c067-41a9-a719-22e67d7c17e1",
   "metadata": {},
   "outputs": [
    {
     "data": {
      "text/plain": [
       "Text(50.722222222222214, 0.5, 'Truth')"
      ]
     },
     "execution_count": 49,
     "metadata": {},
     "output_type": "execute_result"
    },
    {
     "data": {
      "image/png": "[encoded data removed]",
      "text/plain": [
       "<Figure size 640x480 with 2 Axes>"
      ]
     },
     "metadata": {},
     "output_type": "display_data"
    }
   ],
   "source": [
    "from matplotlib import pyplot as plt\n",
    "import seaborn as sn\n",
    "\n",
    "sn.heatmap(cm, annot=True, fmt='d')\n",
    "plt.xlabel('Predicted')\n",
    "plt.ylabel('Truth')"
   ]
  },
  {
   "cell_type": "code",
   "execution_count": 50,
   "id": "f2ae498f-319a-48d9-b1e4-81de85227539",
   "metadata": {},
   "outputs": [
    {
     "name": "stdout",
     "output_type": "stream",
     "text": [
      "              precision    recall  f1-score   support\n",
      "\n",
      "           0       0.91      0.89      0.90       187\n",
      "           1       0.89      0.91      0.90       187\n",
      "\n",
      "    accuracy                           0.90       374\n",
      "   macro avg       0.90      0.90      0.90       374\n",
      "weighted avg       0.90      0.90      0.90       374\n",
      "\n"
     ]
    }
   ],
   "source": [
    "print(classification_report(y_test, y_predicted))"
   ]
  },
  {
   "cell_type": "markdown",
   "id": "8305623c-37b3-4fc4-8a06-524111e5c68d",
   "metadata": {},
   "source": [
    "# Inference"
   ]
  },
  {
   "cell_type": "code",
   "execution_count": 52,
   "id": "de35e8db-bb3e-47fb-9522-9942c7da2fa6",
   "metadata": {},
   "outputs": [
    {
     "name": "stdout",
     "output_type": "stream",
     "text": [
      "1/1 [==============================] - 1s 729ms/step\n"
     ]
    }
   ],
   "source": [
    "reviews = [\n",
    "    'Enter a chance to win $5000, hurry up, offer valid until march 31, 2021',\n",
    "    'You are awarded a SiPix Digital Camera! call 09061221061 from landline. Delivery within 28days. T Cs Box177. M221BP. 2yr warranty. 150ppm. 16 . p pÂ£3.99',\n",
    "    'it to 80488. Your 500 free text messages are valid until 31 December 2005.',\n",
    "    'Hey Sam, Are you coming for a cricket game tomorrow',\n",
    "    \"Why don't you wait 'til at least wednesday to see if you get your .\"\n",
    "]\n",
    "inferered = model.predict(reviews)"
   ]
  },
  {
   "cell_type": "code",
   "execution_count": 54,
   "id": "5af15e7d-5b7a-4248-ae7d-4db908ece2a8",
   "metadata": {},
   "outputs": [
    {
     "data": {
      "text/plain": [
       "array([1, 1, 1, 0, 0])"
      ]
     },
     "execution_count": 54,
     "metadata": {},
     "output_type": "execute_result"
    }
   ],
   "source": [
    "inferered = np.where(inferered > 0.5, 1, 0)\n",
    "inferered = inferered.flatten()\n",
    "inferered"
   ]
  }
 ],
 "metadata": {
  "kernelspec": {
   "display_name": "Python 3 (ipykernel)",
   "language": "python",
   "name": "python3"
  },
  "language_info": {
   "codemirror_mode": {
    "name": "ipython",
    "version": 3
   },
   "file_extension": ".py",
   "mimetype": "text/x-python",
   "name": "python",
   "nbconvert_exporter": "python",
   "pygments_lexer": "ipython3",
   "version": "3.9.8"
  }
 },
 "nbformat": 4,
 "nbformat_minor": 5
}
