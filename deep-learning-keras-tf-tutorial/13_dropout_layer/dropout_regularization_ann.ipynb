{
 "cells": [
  {
   "cell_type": "code",
   "execution_count": 2,
   "id": "2998c6d8-f77c-44e4-8fd9-b2cb7fb3d442",
   "metadata": {},
   "outputs": [],
   "source": [
    "import numpy as np\n",
    "import pandas as pd\n",
    "import matplotlib.pyplot as plt\n",
    "import seaborn as sns \n",
    "import warnings \n",
    "warnings.filterwarnings('ignore')"
   ]
  },
  {
   "cell_type": "markdown",
   "id": "d61e2133-bab4-4d7c-b7a0-201cf848f0a4",
   "metadata": {},
   "source": [
    "# LOAD CSV FILE AND PRINT 5 SAMPLES"
   ]
  },
  {
   "cell_type": "code",
   "execution_count": 4,
   "id": "15526c1b-6cf9-4fc1-8ee0-c1810b8da7da",
   "metadata": {},
   "outputs": [
    {
     "data": {
      "text/html": [
       "<div>\n",
       "<style scoped>\n",
       "    .dataframe tbody tr th:only-of-type {\n",
       "        vertical-align: middle;\n",
       "    }\n",
       "\n",
       "    .dataframe tbody tr th {\n",
       "        vertical-align: top;\n",
       "    }\n",
       "\n",
       "    .dataframe thead th {\n",
       "        text-align: right;\n",
       "    }\n",
       "</style>\n",
       "<table border=\"1\" class=\"dataframe\">\n",
       "  <thead>\n",
       "    <tr style=\"text-align: right;\">\n",
       "      <th></th>\n",
       "      <th>0</th>\n",
       "      <th>1</th>\n",
       "      <th>2</th>\n",
       "      <th>3</th>\n",
       "      <th>4</th>\n",
       "      <th>5</th>\n",
       "      <th>6</th>\n",
       "      <th>7</th>\n",
       "      <th>8</th>\n",
       "      <th>9</th>\n",
       "      <th>...</th>\n",
       "      <th>51</th>\n",
       "      <th>52</th>\n",
       "      <th>53</th>\n",
       "      <th>54</th>\n",
       "      <th>55</th>\n",
       "      <th>56</th>\n",
       "      <th>57</th>\n",
       "      <th>58</th>\n",
       "      <th>59</th>\n",
       "      <th>60</th>\n",
       "    </tr>\n",
       "  </thead>\n",
       "  <tbody>\n",
       "    <tr>\n",
       "      <th>49</th>\n",
       "      <td>0.0119</td>\n",
       "      <td>0.0582</td>\n",
       "      <td>0.0623</td>\n",
       "      <td>0.0600</td>\n",
       "      <td>0.1397</td>\n",
       "      <td>0.1883</td>\n",
       "      <td>0.1422</td>\n",
       "      <td>0.1447</td>\n",
       "      <td>0.0487</td>\n",
       "      <td>0.0864</td>\n",
       "      <td>...</td>\n",
       "      <td>0.0025</td>\n",
       "      <td>0.0103</td>\n",
       "      <td>0.0074</td>\n",
       "      <td>0.0123</td>\n",
       "      <td>0.0069</td>\n",
       "      <td>0.0076</td>\n",
       "      <td>0.0073</td>\n",
       "      <td>0.0030</td>\n",
       "      <td>0.0138</td>\n",
       "      <td>R</td>\n",
       "    </tr>\n",
       "    <tr>\n",
       "      <th>195</th>\n",
       "      <td>0.0129</td>\n",
       "      <td>0.0141</td>\n",
       "      <td>0.0309</td>\n",
       "      <td>0.0375</td>\n",
       "      <td>0.0767</td>\n",
       "      <td>0.0787</td>\n",
       "      <td>0.0662</td>\n",
       "      <td>0.1108</td>\n",
       "      <td>0.1777</td>\n",
       "      <td>0.2245</td>\n",
       "      <td>...</td>\n",
       "      <td>0.0124</td>\n",
       "      <td>0.0093</td>\n",
       "      <td>0.0072</td>\n",
       "      <td>0.0019</td>\n",
       "      <td>0.0027</td>\n",
       "      <td>0.0054</td>\n",
       "      <td>0.0017</td>\n",
       "      <td>0.0024</td>\n",
       "      <td>0.0029</td>\n",
       "      <td>M</td>\n",
       "    </tr>\n",
       "    <tr>\n",
       "      <th>162</th>\n",
       "      <td>0.0217</td>\n",
       "      <td>0.0152</td>\n",
       "      <td>0.0346</td>\n",
       "      <td>0.0346</td>\n",
       "      <td>0.0484</td>\n",
       "      <td>0.0526</td>\n",
       "      <td>0.0773</td>\n",
       "      <td>0.0862</td>\n",
       "      <td>0.1451</td>\n",
       "      <td>0.2110</td>\n",
       "      <td>...</td>\n",
       "      <td>0.0123</td>\n",
       "      <td>0.0067</td>\n",
       "      <td>0.0011</td>\n",
       "      <td>0.0026</td>\n",
       "      <td>0.0049</td>\n",
       "      <td>0.0029</td>\n",
       "      <td>0.0022</td>\n",
       "      <td>0.0022</td>\n",
       "      <td>0.0032</td>\n",
       "      <td>M</td>\n",
       "    </tr>\n",
       "    <tr>\n",
       "      <th>193</th>\n",
       "      <td>0.0203</td>\n",
       "      <td>0.0121</td>\n",
       "      <td>0.0380</td>\n",
       "      <td>0.0128</td>\n",
       "      <td>0.0537</td>\n",
       "      <td>0.0874</td>\n",
       "      <td>0.1021</td>\n",
       "      <td>0.0852</td>\n",
       "      <td>0.1136</td>\n",
       "      <td>0.1747</td>\n",
       "      <td>...</td>\n",
       "      <td>0.0134</td>\n",
       "      <td>0.0094</td>\n",
       "      <td>0.0047</td>\n",
       "      <td>0.0045</td>\n",
       "      <td>0.0042</td>\n",
       "      <td>0.0028</td>\n",
       "      <td>0.0036</td>\n",
       "      <td>0.0013</td>\n",
       "      <td>0.0016</td>\n",
       "      <td>M</td>\n",
       "    </tr>\n",
       "    <tr>\n",
       "      <th>70</th>\n",
       "      <td>0.0065</td>\n",
       "      <td>0.0122</td>\n",
       "      <td>0.0068</td>\n",
       "      <td>0.0108</td>\n",
       "      <td>0.0217</td>\n",
       "      <td>0.0284</td>\n",
       "      <td>0.0527</td>\n",
       "      <td>0.0575</td>\n",
       "      <td>0.1054</td>\n",
       "      <td>0.1109</td>\n",
       "      <td>...</td>\n",
       "      <td>0.0069</td>\n",
       "      <td>0.0025</td>\n",
       "      <td>0.0027</td>\n",
       "      <td>0.0052</td>\n",
       "      <td>0.0036</td>\n",
       "      <td>0.0026</td>\n",
       "      <td>0.0036</td>\n",
       "      <td>0.0006</td>\n",
       "      <td>0.0035</td>\n",
       "      <td>R</td>\n",
       "    </tr>\n",
       "  </tbody>\n",
       "</table>\n",
       "<p>5 rows × 61 columns</p>\n",
       "</div>"
      ],
      "text/plain": [
       "         0       1       2       3       4       5       6       7       8   \\\n",
       "49   0.0119  0.0582  0.0623  0.0600  0.1397  0.1883  0.1422  0.1447  0.0487   \n",
       "195  0.0129  0.0141  0.0309  0.0375  0.0767  0.0787  0.0662  0.1108  0.1777   \n",
       "162  0.0217  0.0152  0.0346  0.0346  0.0484  0.0526  0.0773  0.0862  0.1451   \n",
       "193  0.0203  0.0121  0.0380  0.0128  0.0537  0.0874  0.1021  0.0852  0.1136   \n",
       "70   0.0065  0.0122  0.0068  0.0108  0.0217  0.0284  0.0527  0.0575  0.1054   \n",
       "\n",
       "         9   ...      51      52      53      54      55      56      57  \\\n",
       "49   0.0864  ...  0.0025  0.0103  0.0074  0.0123  0.0069  0.0076  0.0073   \n",
       "195  0.2245  ...  0.0124  0.0093  0.0072  0.0019  0.0027  0.0054  0.0017   \n",
       "162  0.2110  ...  0.0123  0.0067  0.0011  0.0026  0.0049  0.0029  0.0022   \n",
       "193  0.1747  ...  0.0134  0.0094  0.0047  0.0045  0.0042  0.0028  0.0036   \n",
       "70   0.1109  ...  0.0069  0.0025  0.0027  0.0052  0.0036  0.0026  0.0036   \n",
       "\n",
       "         58      59  60  \n",
       "49   0.0030  0.0138   R  \n",
       "195  0.0024  0.0029   M  \n",
       "162  0.0022  0.0032   M  \n",
       "193  0.0013  0.0016   M  \n",
       "70   0.0006  0.0035   R  \n",
       "\n",
       "[5 rows x 61 columns]"
      ]
     },
     "execution_count": 4,
     "metadata": {},
     "output_type": "execute_result"
    }
   ],
   "source": [
    "df = pd.read_csv('./sonar_dataset.csv', header=None)\n",
    "df.sample(5)"
   ]
  },
  {
   "cell_type": "code",
   "execution_count": 5,
   "id": "36a45ddb-01e9-460c-bd33-a071c74e0032",
   "metadata": {},
   "outputs": [
    {
     "data": {
      "text/plain": [
       "(208, 61)"
      ]
     },
     "execution_count": 5,
     "metadata": {},
     "output_type": "execute_result"
    }
   ],
   "source": [
    "df.shape"
   ]
  },
  {
   "cell_type": "markdown",
   "id": "dede111f-5e50-45ba-9251-585939cb8153",
   "metadata": {},
   "source": [
    "# Check if any cell is containing null"
   ]
  },
  {
   "cell_type": "code",
   "execution_count": 7,
   "id": "252080df-b20e-494f-98f6-2464d0d80401",
   "metadata": {},
   "outputs": [
    {
     "data": {
      "text/plain": [
       "0     0\n",
       "1     0\n",
       "2     0\n",
       "3     0\n",
       "4     0\n",
       "     ..\n",
       "56    0\n",
       "57    0\n",
       "58    0\n",
       "59    0\n",
       "60    0\n",
       "Length: 61, dtype: int64"
      ]
     },
     "execution_count": 7,
     "metadata": {},
     "output_type": "execute_result"
    }
   ],
   "source": [
    "df.isna().sum()"
   ]
  },
  {
   "cell_type": "markdown",
   "id": "1e88ea23-6002-410a-87ee-c3e1315f1f6c",
   "metadata": {},
   "source": [
    "# print column names"
   ]
  },
  {
   "cell_type": "code",
   "execution_count": 9,
   "id": "fe29ef72-9eee-456e-af25-e0e2240230ed",
   "metadata": {},
   "outputs": [
    {
     "data": {
      "text/plain": [
       "Index([ 0,  1,  2,  3,  4,  5,  6,  7,  8,  9, 10, 11, 12, 13, 14, 15, 16, 17,\n",
       "       18, 19, 20, 21, 22, 23, 24, 25, 26, 27, 28, 29, 30, 31, 32, 33, 34, 35,\n",
       "       36, 37, 38, 39, 40, 41, 42, 43, 44, 45, 46, 47, 48, 49, 50, 51, 52, 53,\n",
       "       54, 55, 56, 57, 58, 59, 60],\n",
       "      dtype='int64')"
      ]
     },
     "execution_count": 9,
     "metadata": {},
     "output_type": "execute_result"
    }
   ],
   "source": [
    "df.columns"
   ]
  },
  {
   "cell_type": "markdown",
   "id": "8f6e1297-970d-40d5-a422-431874864e6c",
   "metadata": {},
   "source": [
    "# Get the last column 60 which is the result and check how many are M and R"
   ]
  },
  {
   "cell_type": "code",
   "execution_count": 36,
   "id": "2906a7ad-a5b4-4770-a3c6-af05ace28b30",
   "metadata": {},
   "outputs": [
    {
     "data": {
      "text/plain": [
       "dtype('O')"
      ]
     },
     "execution_count": 36,
     "metadata": {},
     "output_type": "execute_result"
    }
   ],
   "source": [
    "df[60].value_counts()"
   ]
  },
  {
   "cell_type": "markdown",
   "id": "47e52360-6464-4a18-b37c-cf5610646760",
   "metadata": {},
   "source": [
    "# check data types for all the columns"
   ]
  },
  {
   "cell_type": "code",
   "execution_count": 37,
   "id": "a6245297-ab26-4a12-8ca0-900eb2abb9d4",
   "metadata": {},
   "outputs": [
    {
     "data": {
      "text/plain": [
       "0     float64\n",
       "1     float64\n",
       "2     float64\n",
       "3     float64\n",
       "4     float64\n",
       "       ...   \n",
       "56    float64\n",
       "57    float64\n",
       "58    float64\n",
       "59    float64\n",
       "60     object\n",
       "Length: 61, dtype: object"
      ]
     },
     "execution_count": 37,
     "metadata": {},
     "output_type": "execute_result"
    }
   ],
   "source": [
    "df.dtypes"
   ]
  },
  {
   "cell_type": "markdown",
   "id": "a5e07016-6f15-403a-8e57-bacd6c5fb8c6",
   "metadata": {},
   "source": [
    "# Split the data as X (data) and Y (Results)"
   ]
  },
  {
   "cell_type": "code",
   "execution_count": 20,
   "id": "0dbc1afb-2e36-4a91-9c08-8bbeb63af8d6",
   "metadata": {},
   "outputs": [],
   "source": [
    "x = df.drop(60, axis='columns')\n",
    "y = df[60]"
   ]
  },
  {
   "cell_type": "markdown",
   "id": "eaf2696d-7517-4f4b-ab0c-d47af307dfad",
   "metadata": {},
   "source": [
    "# y have M and R we need to do One hot encoding where with only one column and make R=1 and M=0"
   ]
  },
  {
   "cell_type": "code",
   "execution_count": 21,
   "id": "309f0d5e-be27-4b19-9465-7f175b2d07cf",
   "metadata": {},
   "outputs": [],
   "source": [
    "y = pd.get_dummies(y, drop_first=True) # drop_first drop first column"
   ]
  },
  {
   "cell_type": "code",
   "execution_count": 39,
   "id": "5a577b49-48ea-4fbf-9baf-4f775d7ce237",
   "metadata": {},
   "outputs": [
    {
     "data": {
      "text/html": [
       "<div>\n",
       "<style scoped>\n",
       "    .dataframe tbody tr th:only-of-type {\n",
       "        vertical-align: middle;\n",
       "    }\n",
       "\n",
       "    .dataframe tbody tr th {\n",
       "        vertical-align: top;\n",
       "    }\n",
       "\n",
       "    .dataframe thead th {\n",
       "        text-align: right;\n",
       "    }\n",
       "</style>\n",
       "<table border=\"1\" class=\"dataframe\">\n",
       "  <thead>\n",
       "    <tr style=\"text-align: right;\">\n",
       "      <th></th>\n",
       "      <th>R</th>\n",
       "    </tr>\n",
       "  </thead>\n",
       "  <tbody>\n",
       "    <tr>\n",
       "      <th>172</th>\n",
       "      <td>False</td>\n",
       "    </tr>\n",
       "    <tr>\n",
       "      <th>46</th>\n",
       "      <td>True</td>\n",
       "    </tr>\n",
       "    <tr>\n",
       "      <th>105</th>\n",
       "      <td>False</td>\n",
       "    </tr>\n",
       "    <tr>\n",
       "      <th>88</th>\n",
       "      <td>True</td>\n",
       "    </tr>\n",
       "    <tr>\n",
       "      <th>96</th>\n",
       "      <td>True</td>\n",
       "    </tr>\n",
       "  </tbody>\n",
       "</table>\n",
       "</div>"
      ],
      "text/plain": [
       "         R\n",
       "172  False\n",
       "46    True\n",
       "105  False\n",
       "88    True\n",
       "96    True"
      ]
     },
     "execution_count": 39,
     "metadata": {},
     "output_type": "execute_result"
    }
   ],
   "source": [
    "y.sample(5) # R values are True and False instead of 0 and 1"
   ]
  },
  {
   "cell_type": "markdown",
   "id": "ae98077d-6141-46de-9d1b-440d2835a5c7",
   "metadata": {},
   "source": [
    "# Change y data type from boolean to numeric which will change True =1 and False = 0 in y"
   ]
  },
  {
   "cell_type": "code",
   "execution_count": 41,
   "id": "a959ba44-7d82-4e94-acd2-640ed59f9960",
   "metadata": {},
   "outputs": [
    {
     "data": {
      "text/plain": [
       "R    bool\n",
       "dtype: object"
      ]
     },
     "execution_count": 41,
     "metadata": {},
     "output_type": "execute_result"
    }
   ],
   "source": [
    "y.dtypes"
   ]
  },
  {
   "cell_type": "code",
   "execution_count": 45,
   "id": "c3945c83-d81f-48b6-8bb0-e05a779ecaf9",
   "metadata": {},
   "outputs": [],
   "source": [
    "y = y.astype(int)"
   ]
  },
  {
   "cell_type": "code",
   "execution_count": 46,
   "id": "887a6746-b748-4c2c-a086-f75c6614e947",
   "metadata": {},
   "outputs": [
    {
     "data": {
      "text/html": [
       "<div>\n",
       "<style scoped>\n",
       "    .dataframe tbody tr th:only-of-type {\n",
       "        vertical-align: middle;\n",
       "    }\n",
       "\n",
       "    .dataframe tbody tr th {\n",
       "        vertical-align: top;\n",
       "    }\n",
       "\n",
       "    .dataframe thead th {\n",
       "        text-align: right;\n",
       "    }\n",
       "</style>\n",
       "<table border=\"1\" class=\"dataframe\">\n",
       "  <thead>\n",
       "    <tr style=\"text-align: right;\">\n",
       "      <th></th>\n",
       "      <th>R</th>\n",
       "    </tr>\n",
       "  </thead>\n",
       "  <tbody>\n",
       "    <tr>\n",
       "      <th>12</th>\n",
       "      <td>1</td>\n",
       "    </tr>\n",
       "    <tr>\n",
       "      <th>133</th>\n",
       "      <td>0</td>\n",
       "    </tr>\n",
       "    <tr>\n",
       "      <th>25</th>\n",
       "      <td>1</td>\n",
       "    </tr>\n",
       "    <tr>\n",
       "      <th>205</th>\n",
       "      <td>0</td>\n",
       "    </tr>\n",
       "    <tr>\n",
       "      <th>128</th>\n",
       "      <td>0</td>\n",
       "    </tr>\n",
       "  </tbody>\n",
       "</table>\n",
       "</div>"
      ],
      "text/plain": [
       "     R\n",
       "12   1\n",
       "133  0\n",
       "25   1\n",
       "205  0\n",
       "128  0"
      ]
     },
     "execution_count": 46,
     "metadata": {},
     "output_type": "execute_result"
    }
   ],
   "source": [
    "y.sample(5)"
   ]
  },
  {
   "cell_type": "code",
   "execution_count": 47,
   "id": "ddc9ca0c-5fd8-453f-9125-44796bafe51b",
   "metadata": {},
   "outputs": [
    {
     "data": {
      "text/plain": [
       "R\n",
       "0    111\n",
       "1     97\n",
       "Name: count, dtype: int64"
      ]
     },
     "execution_count": 47,
     "metadata": {},
     "output_type": "execute_result"
    }
   ],
   "source": [
    "y.value_counts()"
   ]
  },
  {
   "cell_type": "markdown",
   "id": "5b1012db-74f7-49c7-abaa-0adc6372a495",
   "metadata": {},
   "source": [
    "# Split the data into training and test sets"
   ]
  },
  {
   "cell_type": "code",
   "execution_count": 51,
   "id": "c9eb4a4d-57d4-47b0-9cc9-3ac6f941204c",
   "metadata": {},
   "outputs": [],
   "source": [
    "from sklearn.model_selection import train_test_split\n",
    "X_train, X_test, y_train, y_test = train_test_split(x, y, test_size=0.2, random_state=1)"
   ]
  },
  {
   "cell_type": "markdown",
   "id": "341ead24-9e8d-4a53-8686-202920973e2b",
   "metadata": {},
   "source": [
    "# Create the model with hidden layes and train model with MINI BATCH"
   ]
  },
  {
   "cell_type": "code",
   "execution_count": 58,
   "id": "227c7755-351d-4a9a-93ac-1daa8b7d9ae6",
   "metadata": {},
   "outputs": [
    {
     "name": "stdout",
     "output_type": "stream",
     "text": [
      "Epoch 1/100\n",
      "21/21 [==============================] - 1s 1ms/step - loss: 0.6820 - accuracy: 0.5602\n",
      "Epoch 2/100\n",
      "21/21 [==============================] - 0s 1ms/step - loss: 0.6468 - accuracy: 0.5542\n",
      "Epoch 3/100\n",
      "21/21 [==============================] - 0s 1ms/step - loss: 0.6219 - accuracy: 0.6566\n",
      "Epoch 4/100\n",
      "21/21 [==============================] - 0s 1ms/step - loss: 0.5820 - accuracy: 0.7289\n",
      "Epoch 5/100\n",
      "21/21 [==============================] - 0s 1ms/step - loss: 0.5652 - accuracy: 0.7530\n",
      "Epoch 6/100\n",
      "21/21 [==============================] - 0s 1ms/step - loss: 0.5223 - accuracy: 0.7590\n",
      "Epoch 7/100\n",
      "21/21 [==============================] - 0s 1ms/step - loss: 0.5476 - accuracy: 0.7169\n",
      "Epoch 8/100\n",
      "21/21 [==============================] - 0s 1ms/step - loss: 0.4941 - accuracy: 0.8072\n",
      "Epoch 9/100\n",
      "21/21 [==============================] - 0s 1ms/step - loss: 0.4485 - accuracy: 0.7952\n",
      "Epoch 10/100\n",
      "21/21 [==============================] - 0s 1ms/step - loss: 0.4240 - accuracy: 0.8193\n",
      "Epoch 11/100\n",
      "21/21 [==============================] - 0s 1ms/step - loss: 0.4101 - accuracy: 0.8313\n",
      "Epoch 12/100\n",
      "21/21 [==============================] - 0s 1ms/step - loss: 0.3792 - accuracy: 0.8554\n",
      "Epoch 13/100\n",
      "21/21 [==============================] - 0s 1ms/step - loss: 0.3726 - accuracy: 0.8313\n",
      "Epoch 14/100\n",
      "21/21 [==============================] - 0s 1ms/step - loss: 0.3704 - accuracy: 0.8554\n",
      "Epoch 15/100\n",
      "21/21 [==============================] - 0s 1ms/step - loss: 0.3470 - accuracy: 0.8675\n",
      "Epoch 16/100\n",
      "21/21 [==============================] - 0s 1ms/step - loss: 0.3258 - accuracy: 0.8735\n",
      "Epoch 17/100\n",
      "21/21 [==============================] - 0s 1ms/step - loss: 0.3256 - accuracy: 0.8614\n",
      "Epoch 18/100\n",
      "21/21 [==============================] - 0s 1ms/step - loss: 0.3099 - accuracy: 0.8916\n",
      "Epoch 19/100\n",
      "21/21 [==============================] - 0s 1ms/step - loss: 0.2990 - accuracy: 0.8675\n",
      "Epoch 20/100\n",
      "21/21 [==============================] - 0s 1ms/step - loss: 0.3148 - accuracy: 0.8735\n",
      "Epoch 21/100\n",
      "21/21 [==============================] - 0s 1ms/step - loss: 0.2701 - accuracy: 0.8976\n",
      "Epoch 22/100\n",
      "21/21 [==============================] - 0s 1ms/step - loss: 0.2733 - accuracy: 0.8855\n",
      "Epoch 23/100\n",
      "21/21 [==============================] - 0s 1ms/step - loss: 0.2415 - accuracy: 0.9036\n",
      "Epoch 24/100\n",
      "21/21 [==============================] - 0s 1ms/step - loss: 0.2293 - accuracy: 0.9157\n",
      "Epoch 25/100\n",
      "21/21 [==============================] - 0s 1ms/step - loss: 0.2220 - accuracy: 0.9337\n",
      "Epoch 26/100\n",
      "21/21 [==============================] - 0s 1ms/step - loss: 0.2137 - accuracy: 0.9157\n",
      "Epoch 27/100\n",
      "21/21 [==============================] - 0s 1ms/step - loss: 0.1962 - accuracy: 0.9337\n",
      "Epoch 28/100\n",
      "21/21 [==============================] - 0s 1ms/step - loss: 0.1862 - accuracy: 0.9518\n",
      "Epoch 29/100\n",
      "21/21 [==============================] - 0s 1ms/step - loss: 0.1916 - accuracy: 0.9337\n",
      "Epoch 30/100\n",
      "21/21 [==============================] - 0s 1ms/step - loss: 0.1907 - accuracy: 0.9518\n",
      "Epoch 31/100\n",
      "21/21 [==============================] - 0s 1ms/step - loss: 0.1724 - accuracy: 0.9337\n",
      "Epoch 32/100\n",
      "21/21 [==============================] - 0s 1ms/step - loss: 0.1736 - accuracy: 0.9518\n",
      "Epoch 33/100\n",
      "21/21 [==============================] - 0s 1ms/step - loss: 0.1426 - accuracy: 0.9458\n",
      "Epoch 34/100\n",
      "21/21 [==============================] - 0s 1ms/step - loss: 0.1323 - accuracy: 0.9518\n",
      "Epoch 35/100\n",
      "21/21 [==============================] - 0s 1ms/step - loss: 0.1215 - accuracy: 0.9639\n",
      "Epoch 36/100\n",
      "21/21 [==============================] - 0s 1ms/step - loss: 0.1137 - accuracy: 0.9639\n",
      "Epoch 37/100\n",
      "21/21 [==============================] - 0s 1ms/step - loss: 0.1045 - accuracy: 0.9699\n",
      "Epoch 38/100\n",
      "21/21 [==============================] - 0s 1ms/step - loss: 0.1127 - accuracy: 0.9699\n",
      "Epoch 39/100\n",
      "21/21 [==============================] - 0s 1ms/step - loss: 0.1081 - accuracy: 0.9759\n",
      "Epoch 40/100\n",
      "21/21 [==============================] - 0s 1ms/step - loss: 0.1325 - accuracy: 0.9518\n",
      "Epoch 41/100\n",
      "21/21 [==============================] - 0s 1ms/step - loss: 0.0955 - accuracy: 0.9759\n",
      "Epoch 42/100\n",
      "21/21 [==============================] - 0s 1ms/step - loss: 0.1013 - accuracy: 0.9578\n",
      "Epoch 43/100\n",
      "21/21 [==============================] - 0s 1ms/step - loss: 0.0813 - accuracy: 0.9819\n",
      "Epoch 44/100\n",
      "21/21 [==============================] - 0s 1ms/step - loss: 0.0812 - accuracy: 0.9819\n",
      "Epoch 45/100\n",
      "21/21 [==============================] - 0s 1ms/step - loss: 0.0604 - accuracy: 0.9880\n",
      "Epoch 46/100\n",
      "21/21 [==============================] - 0s 1ms/step - loss: 0.0610 - accuracy: 0.9940\n",
      "Epoch 47/100\n",
      "21/21 [==============================] - 0s 1ms/step - loss: 0.0622 - accuracy: 0.9819\n",
      "Epoch 48/100\n",
      "21/21 [==============================] - 0s 1ms/step - loss: 0.0990 - accuracy: 0.9578\n",
      "Epoch 49/100\n",
      "21/21 [==============================] - 0s 1ms/step - loss: 0.0517 - accuracy: 0.9940\n",
      "Epoch 50/100\n",
      "21/21 [==============================] - 0s 1ms/step - loss: 0.0466 - accuracy: 1.0000\n",
      "Epoch 51/100\n",
      "21/21 [==============================] - 0s 1ms/step - loss: 0.0367 - accuracy: 0.9940\n",
      "Epoch 52/100\n",
      "21/21 [==============================] - 0s 1ms/step - loss: 0.0468 - accuracy: 0.9880\n",
      "Epoch 53/100\n",
      "21/21 [==============================] - 0s 1ms/step - loss: 0.0368 - accuracy: 1.0000\n",
      "Epoch 54/100\n",
      "21/21 [==============================] - 0s 1ms/step - loss: 0.0283 - accuracy: 1.0000\n",
      "Epoch 55/100\n",
      "21/21 [==============================] - 0s 1ms/step - loss: 0.0347 - accuracy: 1.0000\n",
      "Epoch 56/100\n",
      "21/21 [==============================] - 0s 1ms/step - loss: 0.0288 - accuracy: 1.0000\n",
      "Epoch 57/100\n",
      "21/21 [==============================] - 0s 1ms/step - loss: 0.0547 - accuracy: 0.9880\n",
      "Epoch 58/100\n",
      "21/21 [==============================] - 0s 2ms/step - loss: 0.0476 - accuracy: 0.9880\n",
      "Epoch 59/100\n",
      "21/21 [==============================] - 0s 2ms/step - loss: 0.0259 - accuracy: 1.0000\n",
      "Epoch 60/100\n",
      "21/21 [==============================] - 0s 2ms/step - loss: 0.0184 - accuracy: 1.0000\n",
      "Epoch 61/100\n",
      "21/21 [==============================] - 0s 2ms/step - loss: 0.0171 - accuracy: 1.0000\n",
      "Epoch 62/100\n",
      "21/21 [==============================] - 0s 1ms/step - loss: 0.0166 - accuracy: 1.0000\n",
      "Epoch 63/100\n",
      "21/21 [==============================] - 0s 1ms/step - loss: 0.0223 - accuracy: 1.0000\n",
      "Epoch 64/100\n",
      "21/21 [==============================] - 0s 1ms/step - loss: 0.0189 - accuracy: 1.0000\n",
      "Epoch 65/100\n",
      "21/21 [==============================] - 0s 1ms/step - loss: 0.0133 - accuracy: 1.0000\n",
      "Epoch 66/100\n",
      "21/21 [==============================] - 0s 1ms/step - loss: 0.0123 - accuracy: 1.0000\n",
      "Epoch 67/100\n",
      "21/21 [==============================] - 0s 1ms/step - loss: 0.0126 - accuracy: 1.0000\n",
      "Epoch 68/100\n",
      "21/21 [==============================] - 0s 1ms/step - loss: 0.0113 - accuracy: 1.0000\n",
      "Epoch 69/100\n",
      "21/21 [==============================] - 0s 1ms/step - loss: 0.0124 - accuracy: 1.0000\n",
      "Epoch 70/100\n",
      "21/21 [==============================] - 0s 1ms/step - loss: 0.0107 - accuracy: 1.0000\n",
      "Epoch 71/100\n",
      "21/21 [==============================] - 0s 1ms/step - loss: 0.0099 - accuracy: 1.0000\n",
      "Epoch 72/100\n",
      "21/21 [==============================] - 0s 1ms/step - loss: 0.0096 - accuracy: 1.0000\n",
      "Epoch 73/100\n",
      "21/21 [==============================] - 0s 1ms/step - loss: 0.0129 - accuracy: 1.0000\n",
      "Epoch 74/100\n",
      "21/21 [==============================] - 0s 1ms/step - loss: 0.0100 - accuracy: 1.0000\n",
      "Epoch 75/100\n",
      "21/21 [==============================] - 0s 1ms/step - loss: 0.0084 - accuracy: 1.0000\n",
      "Epoch 76/100\n",
      "21/21 [==============================] - 0s 1ms/step - loss: 0.0108 - accuracy: 1.0000\n",
      "Epoch 77/100\n",
      "21/21 [==============================] - 0s 1ms/step - loss: 0.0094 - accuracy: 1.0000\n",
      "Epoch 78/100\n",
      "21/21 [==============================] - 0s 1ms/step - loss: 0.0070 - accuracy: 1.0000\n",
      "Epoch 79/100\n",
      "21/21 [==============================] - 0s 1ms/step - loss: 0.0071 - accuracy: 1.0000\n",
      "Epoch 80/100\n",
      "21/21 [==============================] - 0s 1ms/step - loss: 0.0062 - accuracy: 1.0000\n",
      "Epoch 81/100\n",
      "21/21 [==============================] - 0s 1ms/step - loss: 0.0056 - accuracy: 1.0000\n",
      "Epoch 82/100\n",
      "21/21 [==============================] - 0s 1ms/step - loss: 0.0051 - accuracy: 1.0000\n",
      "Epoch 83/100\n",
      "21/21 [==============================] - 0s 1ms/step - loss: 0.0048 - accuracy: 1.0000\n",
      "Epoch 84/100\n",
      "21/21 [==============================] - 0s 1ms/step - loss: 0.0055 - accuracy: 1.0000\n",
      "Epoch 85/100\n",
      "21/21 [==============================] - 0s 1ms/step - loss: 0.0051 - accuracy: 1.0000\n",
      "Epoch 86/100\n",
      "21/21 [==============================] - 0s 1ms/step - loss: 0.0048 - accuracy: 1.0000\n",
      "Epoch 87/100\n",
      "21/21 [==============================] - 0s 1ms/step - loss: 0.0043 - accuracy: 1.0000\n",
      "Epoch 88/100\n",
      "21/21 [==============================] - 0s 1ms/step - loss: 0.0044 - accuracy: 1.0000\n",
      "Epoch 89/100\n",
      "21/21 [==============================] - 0s 1ms/step - loss: 0.0044 - accuracy: 1.0000\n",
      "Epoch 90/100\n",
      "21/21 [==============================] - 0s 1ms/step - loss: 0.0039 - accuracy: 1.0000\n",
      "Epoch 91/100\n",
      "21/21 [==============================] - 0s 1ms/step - loss: 0.0041 - accuracy: 1.0000\n",
      "Epoch 92/100\n",
      "21/21 [==============================] - 0s 1ms/step - loss: 0.0037 - accuracy: 1.0000\n",
      "Epoch 93/100\n",
      "21/21 [==============================] - 0s 1ms/step - loss: 0.0035 - accuracy: 1.0000\n",
      "Epoch 94/100\n",
      "21/21 [==============================] - 0s 1ms/step - loss: 0.0033 - accuracy: 1.0000\n",
      "Epoch 95/100\n",
      "21/21 [==============================] - 0s 1ms/step - loss: 0.0031 - accuracy: 1.0000\n",
      "Epoch 96/100\n",
      "21/21 [==============================] - 0s 1ms/step - loss: 0.0029 - accuracy: 1.0000\n",
      "Epoch 97/100\n",
      "21/21 [==============================] - 0s 1ms/step - loss: 0.0028 - accuracy: 1.0000\n",
      "Epoch 98/100\n",
      "21/21 [==============================] - 0s 1ms/step - loss: 0.0028 - accuracy: 1.0000\n",
      "Epoch 99/100\n",
      "21/21 [==============================] - 0s 1ms/step - loss: 0.0026 - accuracy: 1.0000\n",
      "Epoch 100/100\n",
      "21/21 [==============================] - 0s 1ms/step - loss: 0.0036 - accuracy: 1.0000\n"
     ]
    },
    {
     "data": {
      "text/plain": [
       "<keras.src.callbacks.History at 0x13f87e130>"
      ]
     },
     "execution_count": 58,
     "metadata": {},
     "output_type": "execute_result"
    }
   ],
   "source": [
    "import tensorflow as tf \n",
    "from tensorflow import keras \n",
    "\n",
    "model = keras.Sequential([\n",
    "    keras.layers.Dense(60, input_dim=60, activation='relu'),\n",
    "    keras.layers.Dense(30,  activation='relu'),\n",
    "    keras.layers.Dense(15,  activation='relu'),\n",
    "    keras.layers.Dense(1, activation='sigmoid')\n",
    "])\n",
    "\n",
    "model.compile(\n",
    "    optimizer='adam',\n",
    "    loss='binary_crossentropy',\n",
    "    metrics=['accuracy']\n",
    ")\n",
    "\n",
    "model.fit(X_train, y_train, epochs=100, batch_size=8)"
   ]
  },
  {
   "cell_type": "code",
   "execution_count": 60,
   "id": "1f466d0e-5eb9-4ff5-8828-eb0b8efa8e91",
   "metadata": {},
   "outputs": [
    {
     "name": "stdout",
     "output_type": "stream",
     "text": [
      "2/2 [==============================] - 0s 3ms/step - loss: 1.0179 - accuracy: 0.7381\n"
     ]
    },
    {
     "data": {
      "text/plain": [
       "[1.01786208152771, 0.738095223903656]"
      ]
     },
     "execution_count": 60,
     "metadata": {},
     "output_type": "execute_result"
    }
   ],
   "source": [
    "model.evaluate(X_test, y_test)"
   ]
  },
  {
   "cell_type": "markdown",
   "id": "12aa6acc-c97c-4cce-a8a4-9fd81e9017b1",
   "metadata": {},
   "source": [
    "# Predict"
   ]
  },
  {
   "cell_type": "code",
   "execution_count": 63,
   "id": "665fd599-260d-4c18-bfa6-7012104313af",
   "metadata": {},
   "outputs": [
    {
     "name": "stdout",
     "output_type": "stream",
     "text": [
      "2/2 [==============================] - 0s 2ms/step\n",
      "[1.1316617e-09 8.8948107e-01 9.9750769e-01 2.5904335e-06 9.9997628e-01\n",
      " 9.9978840e-01 5.4463267e-01 9.9998665e-01 1.1247299e-06 9.9999315e-01\n",
      " 1.7978868e-01 2.7596866e-04 2.2031942e-04 3.6505195e-03 1.4605242e-02\n",
      " 3.3971885e-01 9.9384755e-01 1.9537043e-05 1.0819623e-02 9.9880654e-01\n",
      " 1.8447749e-07 9.9998683e-01 3.9415634e-03 9.9984276e-01 1.1305119e-04\n",
      " 1.3015963e-08 3.3630792e-02 2.0902330e-02 9.9995744e-01 4.1276917e-06\n",
      " 9.2757231e-01 4.8076516e-09 5.4611963e-01 8.6336732e-01 9.9943870e-01\n",
      " 9.9931669e-01 9.9976867e-01 9.2524797e-02 9.9989849e-01 7.8677615e-05\n",
      " 2.8180179e-01 8.5964735e-04]\n"
     ]
    }
   ],
   "source": [
    "y_pred = model.predict(X_test).reshape(-1)\n",
    "print(y_pred)"
   ]
  },
  {
   "cell_type": "markdown",
   "id": "dbcdaa36-e6cf-49df-8bf5-eddac9bb35ec",
   "metadata": {},
   "source": [
    "# Roundoff the values"
   ]
  },
  {
   "cell_type": "code",
   "execution_count": 64,
   "id": "d6d91e48-b2aa-4c07-9ef9-82c570ed53fe",
   "metadata": {},
   "outputs": [
    {
     "name": "stdout",
     "output_type": "stream",
     "text": [
      "[0. 1. 1. 0. 1. 1. 1. 1. 0. 1. 0. 0. 0. 0. 0. 0. 1. 0. 0. 1. 0. 1. 0. 1.\n",
      " 0. 0. 0. 0. 1. 0. 1. 0. 1. 1. 1. 1. 1. 0. 1. 0. 0. 0.]\n"
     ]
    }
   ],
   "source": [
    "y_pred = np.round(y_pred)\n",
    "print(y_pred)"
   ]
  },
  {
   "cell_type": "markdown",
   "id": "db10dcb9-3732-48df-86fb-7272e4e05fc2",
   "metadata": {},
   "source": [
    "# Compare y_test and y_pred"
   ]
  },
  {
   "cell_type": "code",
   "execution_count": 65,
   "id": "9853d62f-6e25-4ffd-b07e-715b5a7d6ae1",
   "metadata": {},
   "outputs": [
    {
     "name": "stdout",
     "output_type": "stream",
     "text": [
      "[0. 1. 1. 0. 1. 1. 1. 1. 0. 1.]\n"
     ]
    }
   ],
   "source": [
    "print(y_pred[:10])"
   ]
  },
  {
   "cell_type": "code",
   "execution_count": 66,
   "id": "7c802779-36df-4106-b967-eb651ef67cca",
   "metadata": {},
   "outputs": [
    {
     "name": "stdout",
     "output_type": "stream",
     "text": [
      "     R\n",
      "186  0\n",
      "155  0\n",
      "165  0\n",
      "200  0\n",
      "58   1\n",
      "34   1\n",
      "151  0\n",
      "18   1\n",
      "202  0\n",
      "62   1\n"
     ]
    }
   ],
   "source": [
    "print(y_test[:10])"
   ]
  },
  {
   "cell_type": "markdown",
   "id": "54c07191-6eac-43a2-9398-9231da331be8",
   "metadata": {},
   "source": [
    "# Print and check the classification report"
   ]
  },
  {
   "cell_type": "code",
   "execution_count": 68,
   "id": "32b8a2e3-1ea9-49fd-a5fa-26abe76ab1e6",
   "metadata": {},
   "outputs": [
    {
     "name": "stdout",
     "output_type": "stream",
     "text": [
      "              precision    recall  f1-score   support\n",
      "\n",
      "           0       0.70      0.80      0.74        20\n",
      "           1       0.79      0.68      0.73        22\n",
      "\n",
      "    accuracy                           0.74        42\n",
      "   macro avg       0.74      0.74      0.74        42\n",
      "weighted avg       0.74      0.74      0.74        42\n",
      "\n"
     ]
    }
   ],
   "source": [
    "from sklearn.metrics import confusion_matrix, classification_report\n",
    "print(classification_report(y_test, y_pred))"
   ]
  },
  {
   "cell_type": "markdown",
   "id": "71bf121e-14fd-4042-8c33-300b2f041c61",
   "metadata": {},
   "source": [
    "# Test with dropout layer"
   ]
  },
  {
   "cell_type": "code",
   "execution_count": 70,
   "id": "cea4cc4c-fa2a-4391-8f5d-dae442581abe",
   "metadata": {},
   "outputs": [
    {
     "name": "stdout",
     "output_type": "stream",
     "text": [
      "Epoch 1/100\n",
      "21/21 [==============================] - 1s 1ms/step - loss: 0.7425 - accuracy: 0.4880\n",
      "Epoch 2/100\n",
      "21/21 [==============================] - 0s 1ms/step - loss: 0.6976 - accuracy: 0.5120\n",
      "Epoch 3/100\n",
      "21/21 [==============================] - 0s 1ms/step - loss: 0.7033 - accuracy: 0.4578\n",
      "Epoch 4/100\n",
      "21/21 [==============================] - 0s 1ms/step - loss: 0.6939 - accuracy: 0.5361\n",
      "Epoch 5/100\n",
      "21/21 [==============================] - 0s 1ms/step - loss: 0.6962 - accuracy: 0.5361\n",
      "Epoch 6/100\n",
      "21/21 [==============================] - 0s 1ms/step - loss: 0.6778 - accuracy: 0.5663\n",
      "Epoch 7/100\n",
      "21/21 [==============================] - 0s 1ms/step - loss: 0.6815 - accuracy: 0.5723\n",
      "Epoch 8/100\n",
      "21/21 [==============================] - 0s 1ms/step - loss: 0.6852 - accuracy: 0.5301\n",
      "Epoch 9/100\n",
      "21/21 [==============================] - 0s 1ms/step - loss: 0.6611 - accuracy: 0.6024\n",
      "Epoch 10/100\n",
      "21/21 [==============================] - 0s 1ms/step - loss: 0.6406 - accuracy: 0.6084\n",
      "Epoch 11/100\n",
      "21/21 [==============================] - 0s 1ms/step - loss: 0.6759 - accuracy: 0.5542\n",
      "Epoch 12/100\n",
      "21/21 [==============================] - 0s 1ms/step - loss: 0.6574 - accuracy: 0.5542\n",
      "Epoch 13/100\n",
      "21/21 [==============================] - 0s 1ms/step - loss: 0.6508 - accuracy: 0.5783\n",
      "Epoch 14/100\n",
      "21/21 [==============================] - 0s 1ms/step - loss: 0.6596 - accuracy: 0.5843\n",
      "Epoch 15/100\n",
      "21/21 [==============================] - 0s 1ms/step - loss: 0.6487 - accuracy: 0.6084\n",
      "Epoch 16/100\n",
      "21/21 [==============================] - 0s 1ms/step - loss: 0.6291 - accuracy: 0.6747\n",
      "Epoch 17/100\n",
      "21/21 [==============================] - 0s 1ms/step - loss: 0.6489 - accuracy: 0.6145\n",
      "Epoch 18/100\n",
      "21/21 [==============================] - 0s 1ms/step - loss: 0.6278 - accuracy: 0.6205\n",
      "Epoch 19/100\n",
      "21/21 [==============================] - 0s 1ms/step - loss: 0.6258 - accuracy: 0.6084\n",
      "Epoch 20/100\n",
      "21/21 [==============================] - 0s 1ms/step - loss: 0.6259 - accuracy: 0.6867\n",
      "Epoch 21/100\n",
      "21/21 [==============================] - 0s 1ms/step - loss: 0.6520 - accuracy: 0.6687\n",
      "Epoch 22/100\n",
      "21/21 [==============================] - 0s 1ms/step - loss: 0.6187 - accuracy: 0.6928\n",
      "Epoch 23/100\n",
      "21/21 [==============================] - 0s 1ms/step - loss: 0.6442 - accuracy: 0.6566\n",
      "Epoch 24/100\n",
      "21/21 [==============================] - 0s 1ms/step - loss: 0.6032 - accuracy: 0.6687\n",
      "Epoch 25/100\n",
      "21/21 [==============================] - 0s 1ms/step - loss: 0.6021 - accuracy: 0.6446\n",
      "Epoch 26/100\n",
      "21/21 [==============================] - 0s 1ms/step - loss: 0.5938 - accuracy: 0.7108\n",
      "Epoch 27/100\n",
      "21/21 [==============================] - 0s 1ms/step - loss: 0.6315 - accuracy: 0.6687\n",
      "Epoch 28/100\n",
      "21/21 [==============================] - 0s 1ms/step - loss: 0.6086 - accuracy: 0.6325\n",
      "Epoch 29/100\n",
      "21/21 [==============================] - 0s 1ms/step - loss: 0.5725 - accuracy: 0.6988\n",
      "Epoch 30/100\n",
      "21/21 [==============================] - 0s 1ms/step - loss: 0.5485 - accuracy: 0.7530\n",
      "Epoch 31/100\n",
      "21/21 [==============================] - 0s 1ms/step - loss: 0.5283 - accuracy: 0.7530\n",
      "Epoch 32/100\n",
      "21/21 [==============================] - 0s 1ms/step - loss: 0.5389 - accuracy: 0.7470\n",
      "Epoch 33/100\n",
      "21/21 [==============================] - 0s 1ms/step - loss: 0.5296 - accuracy: 0.7771\n",
      "Epoch 34/100\n",
      "21/21 [==============================] - 0s 1ms/step - loss: 0.5801 - accuracy: 0.7108\n",
      "Epoch 35/100\n",
      "21/21 [==============================] - 0s 1ms/step - loss: 0.5318 - accuracy: 0.6867\n",
      "Epoch 36/100\n",
      "21/21 [==============================] - 0s 1ms/step - loss: 0.5754 - accuracy: 0.7229\n",
      "Epoch 37/100\n",
      "21/21 [==============================] - 0s 2ms/step - loss: 0.5243 - accuracy: 0.7470\n",
      "Epoch 38/100\n",
      "21/21 [==============================] - 0s 1ms/step - loss: 0.5780 - accuracy: 0.7590\n",
      "Epoch 39/100\n",
      "21/21 [==============================] - 0s 1ms/step - loss: 0.4890 - accuracy: 0.7892\n",
      "Epoch 40/100\n",
      "21/21 [==============================] - 0s 1ms/step - loss: 0.4971 - accuracy: 0.7711\n",
      "Epoch 41/100\n",
      "21/21 [==============================] - 0s 1ms/step - loss: 0.4769 - accuracy: 0.8012\n",
      "Epoch 42/100\n",
      "21/21 [==============================] - 0s 1ms/step - loss: 0.4438 - accuracy: 0.8072\n",
      "Epoch 43/100\n",
      "21/21 [==============================] - 0s 1ms/step - loss: 0.4667 - accuracy: 0.7952\n",
      "Epoch 44/100\n",
      "21/21 [==============================] - 0s 1ms/step - loss: 0.4492 - accuracy: 0.8133\n",
      "Epoch 45/100\n",
      "21/21 [==============================] - 0s 1ms/step - loss: 0.5163 - accuracy: 0.7530\n",
      "Epoch 46/100\n",
      "21/21 [==============================] - 0s 1ms/step - loss: 0.4975 - accuracy: 0.7711\n",
      "Epoch 47/100\n",
      "21/21 [==============================] - 0s 1ms/step - loss: 0.4532 - accuracy: 0.7711\n",
      "Epoch 48/100\n",
      "21/21 [==============================] - 0s 1ms/step - loss: 0.4493 - accuracy: 0.8012\n",
      "Epoch 49/100\n",
      "21/21 [==============================] - 0s 1ms/step - loss: 0.4224 - accuracy: 0.7831\n",
      "Epoch 50/100\n",
      "21/21 [==============================] - 0s 1ms/step - loss: 0.4311 - accuracy: 0.8193\n",
      "Epoch 51/100\n",
      "21/21 [==============================] - 0s 1ms/step - loss: 0.3794 - accuracy: 0.8434\n",
      "Epoch 52/100\n",
      "21/21 [==============================] - 0s 1ms/step - loss: 0.4100 - accuracy: 0.8193\n",
      "Epoch 53/100\n",
      "21/21 [==============================] - 0s 1ms/step - loss: 0.3589 - accuracy: 0.8434\n",
      "Epoch 54/100\n",
      "21/21 [==============================] - 0s 1ms/step - loss: 0.3258 - accuracy: 0.8916\n",
      "Epoch 55/100\n",
      "21/21 [==============================] - 0s 1ms/step - loss: 0.4311 - accuracy: 0.7711\n",
      "Epoch 56/100\n",
      "21/21 [==============================] - 0s 1ms/step - loss: 0.4520 - accuracy: 0.7892\n",
      "Epoch 57/100\n",
      "21/21 [==============================] - 0s 1ms/step - loss: 0.4037 - accuracy: 0.8193\n",
      "Epoch 58/100\n",
      "21/21 [==============================] - 0s 1ms/step - loss: 0.4472 - accuracy: 0.8012\n",
      "Epoch 59/100\n",
      "21/21 [==============================] - 0s 1ms/step - loss: 0.3559 - accuracy: 0.8494\n",
      "Epoch 60/100\n",
      "21/21 [==============================] - 0s 1ms/step - loss: 0.3752 - accuracy: 0.8554\n",
      "Epoch 61/100\n",
      "21/21 [==============================] - 0s 1ms/step - loss: 0.3720 - accuracy: 0.8434\n",
      "Epoch 62/100\n",
      "21/21 [==============================] - 0s 1ms/step - loss: 0.2818 - accuracy: 0.8795\n",
      "Epoch 63/100\n",
      "21/21 [==============================] - 0s 1ms/step - loss: 0.3976 - accuracy: 0.8253\n",
      "Epoch 64/100\n",
      "21/21 [==============================] - 0s 1ms/step - loss: 0.3656 - accuracy: 0.8253\n",
      "Epoch 65/100\n",
      "21/21 [==============================] - 0s 1ms/step - loss: 0.3644 - accuracy: 0.8313\n",
      "Epoch 66/100\n",
      "21/21 [==============================] - 0s 1ms/step - loss: 0.3678 - accuracy: 0.8373\n",
      "Epoch 67/100\n",
      "21/21 [==============================] - 0s 3ms/step - loss: 0.3613 - accuracy: 0.8193\n",
      "Epoch 68/100\n",
      "21/21 [==============================] - 0s 1ms/step - loss: 0.2814 - accuracy: 0.9036\n",
      "Epoch 69/100\n",
      "21/21 [==============================] - 0s 1ms/step - loss: 0.3271 - accuracy: 0.8494\n",
      "Epoch 70/100\n",
      "21/21 [==============================] - 0s 1ms/step - loss: 0.3636 - accuracy: 0.8434\n",
      "Epoch 71/100\n",
      "21/21 [==============================] - 0s 1ms/step - loss: 0.3466 - accuracy: 0.8554\n",
      "Epoch 72/100\n",
      "21/21 [==============================] - 0s 2ms/step - loss: 0.3593 - accuracy: 0.8253\n",
      "Epoch 73/100\n",
      "21/21 [==============================] - 0s 1ms/step - loss: 0.3279 - accuracy: 0.8313\n",
      "Epoch 74/100\n",
      "21/21 [==============================] - 0s 1ms/step - loss: 0.3380 - accuracy: 0.8434\n",
      "Epoch 75/100\n",
      "21/21 [==============================] - 0s 1ms/step - loss: 0.3368 - accuracy: 0.8554\n",
      "Epoch 76/100\n",
      "21/21 [==============================] - 0s 1ms/step - loss: 0.3231 - accuracy: 0.8735\n",
      "Epoch 77/100\n",
      "21/21 [==============================] - 0s 1ms/step - loss: 0.3009 - accuracy: 0.8976\n",
      "Epoch 78/100\n",
      "21/21 [==============================] - 0s 1ms/step - loss: 0.2973 - accuracy: 0.8795\n",
      "Epoch 79/100\n",
      "21/21 [==============================] - 0s 1ms/step - loss: 0.2727 - accuracy: 0.8976\n",
      "Epoch 80/100\n",
      "21/21 [==============================] - 0s 1ms/step - loss: 0.3515 - accuracy: 0.8373\n",
      "Epoch 81/100\n",
      "21/21 [==============================] - 0s 1ms/step - loss: 0.3103 - accuracy: 0.8855\n",
      "Epoch 82/100\n",
      "21/21 [==============================] - 0s 1ms/step - loss: 0.2781 - accuracy: 0.8976\n",
      "Epoch 83/100\n",
      "21/21 [==============================] - 0s 1ms/step - loss: 0.2622 - accuracy: 0.9096\n",
      "Epoch 84/100\n",
      "21/21 [==============================] - 0s 1ms/step - loss: 0.3358 - accuracy: 0.8373\n",
      "Epoch 85/100\n",
      "21/21 [==============================] - 0s 1ms/step - loss: 0.2605 - accuracy: 0.8855\n",
      "Epoch 86/100\n",
      "21/21 [==============================] - 0s 1ms/step - loss: 0.2958 - accuracy: 0.8675\n",
      "Epoch 87/100\n",
      "21/21 [==============================] - 0s 1ms/step - loss: 0.2938 - accuracy: 0.8855\n",
      "Epoch 88/100\n",
      "21/21 [==============================] - 0s 1ms/step - loss: 0.3166 - accuracy: 0.8916\n",
      "Epoch 89/100\n",
      "21/21 [==============================] - 0s 2ms/step - loss: 0.3062 - accuracy: 0.8675\n",
      "Epoch 90/100\n",
      "21/21 [==============================] - 0s 2ms/step - loss: 0.2895 - accuracy: 0.8795\n",
      "Epoch 91/100\n",
      "21/21 [==============================] - 0s 1ms/step - loss: 0.2380 - accuracy: 0.9096\n",
      "Epoch 92/100\n",
      "21/21 [==============================] - 0s 1ms/step - loss: 0.2597 - accuracy: 0.8614\n",
      "Epoch 93/100\n",
      "21/21 [==============================] - 0s 1ms/step - loss: 0.2660 - accuracy: 0.8795\n",
      "Epoch 94/100\n",
      "21/21 [==============================] - 0s 1ms/step - loss: 0.2530 - accuracy: 0.9036\n",
      "Epoch 95/100\n",
      "21/21 [==============================] - 0s 1ms/step - loss: 0.2441 - accuracy: 0.9096\n",
      "Epoch 96/100\n",
      "21/21 [==============================] - 0s 1ms/step - loss: 0.2373 - accuracy: 0.9036\n",
      "Epoch 97/100\n",
      "21/21 [==============================] - 0s 1ms/step - loss: 0.2307 - accuracy: 0.9157\n",
      "Epoch 98/100\n",
      "21/21 [==============================] - 0s 1ms/step - loss: 0.2668 - accuracy: 0.8976\n",
      "Epoch 99/100\n",
      "21/21 [==============================] - 0s 1ms/step - loss: 0.2294 - accuracy: 0.8976\n",
      "Epoch 100/100\n",
      "21/21 [==============================] - 0s 1ms/step - loss: 0.2194 - accuracy: 0.9096\n"
     ]
    },
    {
     "data": {
      "text/plain": [
       "<keras.src.callbacks.History at 0x13fc7d3a0>"
      ]
     },
     "execution_count": 70,
     "metadata": {},
     "output_type": "execute_result"
    }
   ],
   "source": [
    "model = keras.Sequential([\n",
    "    keras.layers.Dense(60, input_dim=60, activation='relu'),\n",
    "    keras.layers.Dropout(0.5),\n",
    "    keras.layers.Dense(30,  activation='relu'),\n",
    "    keras.layers.Dropout(0.5),\n",
    "    keras.layers.Dense(15,  activation='relu'),\n",
    "    keras.layers.Dropout(0.5),\n",
    "    keras.layers.Dense(1, activation='sigmoid')\n",
    "])\n",
    "\n",
    "model.compile(\n",
    "    optimizer='adam',\n",
    "    loss='binary_crossentropy',\n",
    "    metrics=['accuracy']\n",
    ")\n",
    "\n",
    "model.fit(X_train, y_train, epochs=100, batch_size=8)"
   ]
  },
  {
   "cell_type": "code",
   "execution_count": 71,
   "id": "10f72327-bdff-4f0c-9f22-3d115c3825ca",
   "metadata": {},
   "outputs": [
    {
     "name": "stdout",
     "output_type": "stream",
     "text": [
      "2/2 [==============================] - 0s 4ms/step - loss: 0.5692 - accuracy: 0.7857\n"
     ]
    },
    {
     "data": {
      "text/plain": [
       "[0.5691805481910706, 0.7857142686843872]"
      ]
     },
     "execution_count": 71,
     "metadata": {},
     "output_type": "execute_result"
    }
   ],
   "source": [
    "model.evaluate(X_test, y_test)"
   ]
  },
  {
   "cell_type": "code",
   "execution_count": 72,
   "id": "62a11d36-0f7c-4113-ba17-73d71d2001b1",
   "metadata": {},
   "outputs": [
    {
     "name": "stdout",
     "output_type": "stream",
     "text": [
      "2/2 [==============================] - 0s 2ms/step\n",
      "              precision    recall  f1-score   support\n",
      "\n",
      "           0       0.76      0.80      0.78        20\n",
      "           1       0.81      0.77      0.79        22\n",
      "\n",
      "    accuracy                           0.79        42\n",
      "   macro avg       0.79      0.79      0.79        42\n",
      "weighted avg       0.79      0.79      0.79        42\n",
      "\n"
     ]
    }
   ],
   "source": [
    "y_pred = model.predict(X_test).reshape(-1)\n",
    "y_pred = np.round(y_pred)\n",
    "from sklearn.metrics import confusion_matrix, classification_report\n",
    "print(classification_report(y_test, y_pred))"
   ]
  }
 ],
 "metadata": {
  "kernelspec": {
   "display_name": "Python 3 (ipykernel)",
   "language": "python",
   "name": "python3"
  },
  "language_info": {
   "codemirror_mode": {
    "name": "ipython",
    "version": 3
   },
   "file_extension": ".py",
   "mimetype": "text/x-python",
   "name": "python",
   "nbconvert_exporter": "python",
   "pygments_lexer": "ipython3",
   "version": "3.9.8"
  }
 },
 "nbformat": 4,
 "nbformat_minor": 5
}
