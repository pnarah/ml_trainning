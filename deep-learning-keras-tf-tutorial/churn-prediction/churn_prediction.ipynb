{
 "cells": [
  {
   "cell_type": "code",
   "execution_count": 126,
   "id": "ba2d8a78-079d-4945-9000-e834a95a3ee7",
   "metadata": {},
   "outputs": [
    {
     "name": "stdout",
     "output_type": "stream",
     "text": [
      "Collecting seaborn\n",
      "  Downloading seaborn-0.13.0-py3-none-any.whl.metadata (5.3 kB)\n",
      "Requirement already satisfied: numpy!=1.24.0,>=1.20 in /Library/Frameworks/Python.framework/Versions/3.9/lib/python3.9/site-packages (from seaborn) (1.24.3)\n",
      "Collecting pandas>=1.2 (from seaborn)\n",
      "  Downloading pandas-2.1.4-cp39-cp39-macosx_10_9_x86_64.whl.metadata (18 kB)\n",
      "Requirement already satisfied: matplotlib!=3.6.1,>=3.3 in /Library/Frameworks/Python.framework/Versions/3.9/lib/python3.9/site-packages (from seaborn) (3.8.0)\n",
      "Requirement already satisfied: contourpy>=1.0.1 in /Library/Frameworks/Python.framework/Versions/3.9/lib/python3.9/site-packages (from matplotlib!=3.6.1,>=3.3->seaborn) (1.1.1)\n",
      "Requirement already satisfied: cycler>=0.10 in /Library/Frameworks/Python.framework/Versions/3.9/lib/python3.9/site-packages (from matplotlib!=3.6.1,>=3.3->seaborn) (0.12.1)\n",
      "Requirement already satisfied: fonttools>=4.22.0 in /Library/Frameworks/Python.framework/Versions/3.9/lib/python3.9/site-packages (from matplotlib!=3.6.1,>=3.3->seaborn) (4.43.1)\n",
      "Requirement already satisfied: kiwisolver>=1.0.1 in /Library/Frameworks/Python.framework/Versions/3.9/lib/python3.9/site-packages (from matplotlib!=3.6.1,>=3.3->seaborn) (1.4.5)\n",
      "Requirement already satisfied: packaging>=20.0 in /Library/Frameworks/Python.framework/Versions/3.9/lib/python3.9/site-packages (from matplotlib!=3.6.1,>=3.3->seaborn) (21.3)\n",
      "Requirement already satisfied: pillow>=6.2.0 in /Library/Frameworks/Python.framework/Versions/3.9/lib/python3.9/site-packages (from matplotlib!=3.6.1,>=3.3->seaborn) (10.0.1)\n",
      "Requirement already satisfied: pyparsing>=2.3.1 in /Library/Frameworks/Python.framework/Versions/3.9/lib/python3.9/site-packages (from matplotlib!=3.6.1,>=3.3->seaborn) (3.0.9)\n",
      "Requirement already satisfied: python-dateutil>=2.7 in /Library/Frameworks/Python.framework/Versions/3.9/lib/python3.9/site-packages (from matplotlib!=3.6.1,>=3.3->seaborn) (2.8.2)\n",
      "Requirement already satisfied: importlib-resources>=3.2.0 in /Library/Frameworks/Python.framework/Versions/3.9/lib/python3.9/site-packages (from matplotlib!=3.6.1,>=3.3->seaborn) (6.1.0)\n",
      "Requirement already satisfied: pytz>=2020.1 in /Library/Frameworks/Python.framework/Versions/3.9/lib/python3.9/site-packages (from pandas>=1.2->seaborn) (2021.3)\n",
      "Collecting tzdata>=2022.1 (from pandas>=1.2->seaborn)\n",
      "  Downloading tzdata-2023.3-py2.py3-none-any.whl (341 kB)\n",
      "\u001b[2K     \u001b[90m━━━━━━━━━━━━━━━━━━━━━━━━━━━━━━━━━━━━━\u001b[0m \u001b[32m341.8/341.8 kB\u001b[0m \u001b[31m819.2 kB/s\u001b[0m eta \u001b[36m0:00:00\u001b[0m00:01\u001b[0m00:01\u001b[0m\n",
      "\u001b[?25hRequirement already satisfied: zipp>=3.1.0 in /Library/Frameworks/Python.framework/Versions/3.9/lib/python3.9/site-packages (from importlib-resources>=3.2.0->matplotlib!=3.6.1,>=3.3->seaborn) (3.17.0)\n",
      "Requirement already satisfied: six>=1.5 in /Library/Frameworks/Python.framework/Versions/3.9/lib/python3.9/site-packages (from python-dateutil>=2.7->matplotlib!=3.6.1,>=3.3->seaborn) (1.16.0)\n",
      "Downloading seaborn-0.13.0-py3-none-any.whl (294 kB)\n",
      "\u001b[2K   \u001b[90m━━━━━━━━━━━━━━━━━━━━━━━━━━━━━━━━━━━━━━━━\u001b[0m \u001b[32m294.6/294.6 kB\u001b[0m \u001b[31m1.0 MB/s\u001b[0m eta \u001b[36m0:00:00\u001b[0ma \u001b[36m0:00:01\u001b[0m\n",
      "\u001b[?25hDownloading pandas-2.1.4-cp39-cp39-macosx_10_9_x86_64.whl (11.8 MB)\n",
      "\u001b[2K   \u001b[90m━━━━━━━━━━━━━━━━━━━━━━━━━━━━━━━━━━━━━━━━\u001b[0m \u001b[32m11.8/11.8 MB\u001b[0m \u001b[31m1.8 MB/s\u001b[0m eta \u001b[36m0:00:00\u001b[0m00:01\u001b[0m00:01\u001b[0m\n",
      "\u001b[?25hInstalling collected packages: tzdata, pandas, seaborn\n",
      "  Attempting uninstall: pandas\n",
      "    Found existing installation: pandas 1.1.5\n",
      "    Uninstalling pandas-1.1.5:\n",
      "      Successfully uninstalled pandas-1.1.5\n",
      "Successfully installed pandas-2.1.4 seaborn-0.13.0 tzdata-2023.3\n",
      "Note: you may need to restart the kernel to use updated packages.\n"
     ]
    }
   ],
   "source": [
    "pip install seaborn"
   ]
  },
  {
   "cell_type": "code",
   "execution_count": null,
   "id": "d1a8d22b-c971-413e-94dc-e9fa552d96f2",
   "metadata": {},
   "outputs": [],
   "source": [
    "import pandas as pd\n",
    "from matplotlib import pyplot as plt\n",
    "import numpy as np\n",
    "%matplotlib inline"
   ]
  },
  {
   "cell_type": "code",
   "execution_count": null,
   "id": "364db265-5fc3-4f97-b473-eabb3e2594c6",
   "metadata": {},
   "outputs": [],
   "source": [
    "df = pd.read_csv('customer_churn.csv')\n",
    "df.sample(5)"
   ]
  },
  {
   "cell_type": "code",
   "execution_count": null,
   "id": "481e7a0e-3d7d-4032-b9f6-efc3d39b2e34",
   "metadata": {},
   "outputs": [],
   "source": [
    "df.drop('customerID',axis='columns',inplace=True)"
   ]
  },
  {
   "cell_type": "code",
   "execution_count": null,
   "id": "7ece1eaf-8b1b-4ee7-8cd0-5d415bf11347",
   "metadata": {},
   "outputs": [],
   "source": [
    "df.sample(5)"
   ]
  },
  {
   "cell_type": "code",
   "execution_count": null,
   "id": "425df00c-4851-412d-9a05-296cd5b353d6",
   "metadata": {},
   "outputs": [],
   "source": [
    "df.dtypes"
   ]
  },
  {
   "cell_type": "code",
   "execution_count": null,
   "id": "451da4a8-54e9-442b-94a6-47af53e77437",
   "metadata": {},
   "outputs": [],
   "source": [
    "df.TotalCharges.values"
   ]
  },
  {
   "cell_type": "code",
   "execution_count": null,
   "id": "5c7ecc2b-4c90-451c-8bd9-1422236ad6e9",
   "metadata": {},
   "outputs": [],
   "source": [
    "pd.to_numeric(df.TotalCharges) "
   ]
  },
  {
   "cell_type": "code",
   "execution_count": null,
   "id": "b03a2cf3-57a9-42cd-843b-f797cac62080",
   "metadata": {},
   "outputs": [],
   "source": [
    "pd.to_numeric(df.TotalCharges,errors='coerce').isnull()"
   ]
  },
  {
   "cell_type": "code",
   "execution_count": null,
   "id": "a951adff-b2f7-41cf-b04b-b082257b1b5e",
   "metadata": {},
   "outputs": [],
   "source": [
    "df[pd.to_numeric(df.TotalCharges,errors='coerce').isnull()]"
   ]
  },
  {
   "cell_type": "code",
   "execution_count": null,
   "id": "623910f7-3739-41d6-96f5-c3f553d2cf83",
   "metadata": {},
   "outputs": [],
   "source": [
    "df.shape"
   ]
  },
  {
   "cell_type": "code",
   "execution_count": null,
   "id": "dae1ad8c-88ab-46d2-a87f-c932fc818bdb",
   "metadata": {},
   "outputs": [],
   "source": [
    "df.iloc[936].TotalCharges"
   ]
  },
  {
   "cell_type": "code",
   "execution_count": null,
   "id": "40198033-ffae-4364-af2a-07419571fdb4",
   "metadata": {},
   "outputs": [],
   "source": [
    "df[df.TotalCharges!=' '].shape"
   ]
  },
  {
   "cell_type": "code",
   "execution_count": null,
   "id": "bfcf57ce-a0c4-4746-964b-b6fddd7a22eb",
   "metadata": {},
   "outputs": [],
   "source": [
    "df1 = df[df.TotalCharges!=' ']"
   ]
  },
  {
   "cell_type": "code",
   "execution_count": null,
   "id": "74a596f3-d3b2-4b97-b85a-8874310d60c9",
   "metadata": {},
   "outputs": [],
   "source": [
    "df1.shape"
   ]
  },
  {
   "cell_type": "code",
   "execution_count": null,
   "id": "e9076b37-1ae3-4113-91d0-55b7a0ada501",
   "metadata": {},
   "outputs": [],
   "source": [
    "df1.dtypes"
   ]
  },
  {
   "cell_type": "code",
   "execution_count": null,
   "id": "1ba006c4-3c01-41d4-ab73-9966849f641e",
   "metadata": {},
   "outputs": [],
   "source": [
    "df1.TotalCharges = pd.to_numeric(df1.TotalCharges)"
   ]
  },
  {
   "cell_type": "code",
   "execution_count": null,
   "id": "67aeac0d-bd1f-4d73-be2b-f8f337f93af2",
   "metadata": {},
   "outputs": [],
   "source": [
    "df1.dtypes"
   ]
  },
  {
   "cell_type": "code",
   "execution_count": null,
   "id": "01fe546d-6ef2-4196-9f09-871550c41137",
   "metadata": {},
   "outputs": [],
   "source": [
    "df1.TotalCharges.values"
   ]
  },
  {
   "cell_type": "code",
   "execution_count": null,
   "id": "61037b41-4d8d-4884-bb4a-6809e1e94430",
   "metadata": {},
   "outputs": [],
   "source": [
    "tenure_churn_no = df1[df1.Churn=='No'].tenure\n",
    "tenure_churn_yes = df1[df1.Churn=='Yes'].tenure"
   ]
  },
  {
   "cell_type": "code",
   "execution_count": null,
   "id": "087ea416-9645-4152-8d55-39d9c9c49e88",
   "metadata": {},
   "outputs": [],
   "source": [
    "tenure_churn_no"
   ]
  },
  {
   "cell_type": "code",
   "execution_count": 55,
   "id": "eb777f49-76ba-4742-9c0b-0b0e06f5022c",
   "metadata": {},
   "outputs": [
    {
     "data": {
      "text/plain": [
       "<matplotlib.legend.Legend at 0x124502f10>"
      ]
     },
     "execution_count": 55,
     "metadata": {},
     "output_type": "execute_result"
    },
    {
     "data": {
      "image/png": "[encoded data removed]",
      "text/plain": [
       "<Figure size 640x480 with 1 Axes>"
      ]
     },
     "metadata": {},
     "output_type": "display_data"
    }
   ],
   "source": [
    "plt.xlabel(\"tenure\")\n",
    "plt.ylabel(\"Number Of Customers\")\n",
    "plt.title(\"Customer Churn Prediction Visualiztion\")\n",
    "plt.hist([tenure_churn_yes, tenure_churn_no], rwidth=0.95, color=['green','red'],label=['Churn=Yes','Churn=No'])\n",
    "plt.legend()"
   ]
  },
  {
   "cell_type": "code",
   "execution_count": 56,
   "id": "e647ff30-792c-4ccf-90de-2db499ca6cbe",
   "metadata": {},
   "outputs": [
    {
     "data": {
      "text/plain": [
       "<matplotlib.legend.Legend at 0x1245cb940>"
      ]
     },
     "execution_count": 56,
     "metadata": {},
     "output_type": "execute_result"
    },
    {
     "data": {
      "image/png": "[encoded data removed]",
      "text/plain": [
       "<Figure size 640x480 with 1 Axes>"
      ]
     },
     "metadata": {},
     "output_type": "display_data"
    }
   ],
   "source": [
    "mc_churn_no = df1[df1.Churn=='No'].MonthlyCharges\n",
    "mc_churn_yes = df1[df1.Churn=='Yes'].MonthlyCharges\n",
    "plt.xlabel('MonthlyCharges')\n",
    "plt.ylabel('Number of customers')\n",
    "plt.title(\"Customer Churn Prediction Visualiztion\")\n",
    "plt.hist([mc_churn_yes, mc_churn_no], rwidth=0.95, color=['green', 'red'], label=['Churn=Yes','Churn=No'])\n",
    "plt.legend()"
   ]
  },
  {
   "cell_type": "code",
   "execution_count": 67,
   "id": "a0779dd2-0cd8-477b-aa69-748df40c8d6e",
   "metadata": {},
   "outputs": [],
   "source": [
    "def print_unique_col_values(df):\n",
    "       for column in df:\n",
    "            # if df[column].dtypes=='object':\n",
    "                print(f'{column}: {df[column].unique()}') "
   ]
  },
  {
   "cell_type": "code",
   "execution_count": 61,
   "id": "7852305c-2ecc-497d-85c8-d752fab4ebc8",
   "metadata": {},
   "outputs": [
    {
     "name": "stdout",
     "output_type": "stream",
     "text": [
      "gender: ['Female' 'Male']\n",
      "Partner: ['Yes' 'No']\n",
      "Dependents: ['No' 'Yes']\n",
      "PhoneService: ['No' 'Yes']\n",
      "MultipleLines: ['No' 'Yes']\n",
      "InternetService: ['DSL' 'Fiber optic' 'No']\n",
      "OnlineSecurity: ['No' 'Yes']\n",
      "OnlineBackup: ['Yes' 'No']\n",
      "DeviceProtection: ['No' 'Yes']\n",
      "TechSupport: ['No' 'Yes']\n",
      "StreamingTV: ['No' 'Yes']\n",
      "StreamingMovies: ['No' 'Yes']\n",
      "Contract: ['Month-to-month' 'One year' 'Two year']\n",
      "PaperlessBilling: ['Yes' 'No']\n",
      "PaymentMethod: ['Electronic check' 'Mailed check' 'Bank transfer (automatic)'\n",
      " 'Credit card (automatic)']\n",
      "Churn: ['No' 'Yes']\n"
     ]
    }
   ],
   "source": [
    "print_unique_col_values(df1)"
   ]
  },
  {
   "cell_type": "code",
   "execution_count": 60,
   "id": "ffb30a29-9758-4fb7-9336-91843176ebd6",
   "metadata": {},
   "outputs": [
    {
     "name": "stderr",
     "output_type": "stream",
     "text": [
      "/Library/Frameworks/Python.framework/Versions/3.9/lib/python3.9/site-packages/pandas/core/frame.py:4383: SettingWithCopyWarning: \n",
      "A value is trying to be set on a copy of a slice from a DataFrame\n",
      "\n",
      "See the caveats in the documentation: https://pandas.pydata.org/pandas-docs/stable/user_guide/indexing.html#returning-a-view-versus-a-copy\n",
      "  return super().replace(\n"
     ]
    }
   ],
   "source": [
    "df1.replace('No internet service', 'No', inplace=True)\n",
    "df1.replace('No phone service', 'No', inplace=True)"
   ]
  },
  {
   "cell_type": "code",
   "execution_count": 63,
   "id": "6933a29f-ae10-4b44-a635-18d5116e353b",
   "metadata": {},
   "outputs": [],
   "source": [
    "yes_no_columns_list = ['Partner', 'Dependents', 'PhoneService', 'MultipleLines', 'OnlineSecurity', \n",
    "                       'OnlineBackup', 'DeviceProtection', 'TechSupport', 'StreamingTV', \n",
    "                       'StreamingMovies', 'PaperlessBilling', 'Churn']\n",
    "\n",
    "for col in yes_no_columns_list:\n",
    "    df1.replace({'Yes': 1, 'No' : 0}, inplace=True)"
   ]
  },
  {
   "cell_type": "code",
   "execution_count": 72,
   "id": "fafdbc4a-ffa9-4d8f-84b1-aa0282671365",
   "metadata": {},
   "outputs": [
    {
     "name": "stdout",
     "output_type": "stream",
     "text": [
      "gender: [1 0]\n",
      "SeniorCitizen: [0 1]\n",
      "Partner: [1 0]\n",
      "Dependents: [0 1]\n",
      "tenure: [ 1 34  2 45  8 22 10 28 62 13 16 58 49 25 69 52 71 21 12 30 47 72 17 27\n",
      "  5 46 11 70 63 43 15 60 18 66  9  3 31 50 64 56  7 42 35 48 29 65 38 68\n",
      " 32 55 37 36 41  6  4 33 67 23 57 61 14 20 53 40 59 24 44 19 54 51 26 39]\n",
      "PhoneService: [0 1]\n",
      "MultipleLines: [0 1]\n",
      "InternetService: ['DSL' 'Fiber optic' 0]\n",
      "OnlineSecurity: [0 1]\n",
      "OnlineBackup: [1 0]\n",
      "DeviceProtection: [0 1]\n",
      "TechSupport: [0 1]\n",
      "StreamingTV: [0 1]\n",
      "StreamingMovies: [0 1]\n",
      "Contract: ['Month-to-month' 'One year' 'Two year']\n",
      "PaperlessBilling: [1 0]\n",
      "PaymentMethod: ['Electronic check' 'Mailed check' 'Bank transfer (automatic)'\n",
      " 'Credit card (automatic)']\n",
      "MonthlyCharges: [29.85 56.95 53.85 ... 63.1  44.2  78.7 ]\n",
      "TotalCharges: [  29.85 1889.5   108.15 ...  346.45  306.6  6844.5 ]\n",
      "Churn: [0 1]\n"
     ]
    }
   ],
   "source": [
    "print_unique_col_values(df1)"
   ]
  },
  {
   "cell_type": "code",
   "execution_count": 69,
   "id": "250765dd-e151-49a5-9049-6dadb0ac4fd2",
   "metadata": {},
   "outputs": [
    {
     "name": "stdout",
     "output_type": "stream",
     "text": [
      "gender: ['Female' 'Male']\n",
      "SeniorCitizen: [0 1]\n",
      "Partner: [1 0]\n",
      "Dependents: [0 1]\n",
      "tenure: [ 1 34  2 45  8 22 10 28 62 13 16 58 49 25 69 52 71 21 12 30 47 72 17 27\n",
      "  5 46 11 70 63 43 15 60 18 66  9  3 31 50 64 56  7 42 35 48 29 65 38 68\n",
      " 32 55 37 36 41  6  4 33 67 23 57 61 14 20 53 40 59 24 44 19 54 51 26 39]\n",
      "PhoneService: [0 1]\n",
      "MultipleLines: [0 1]\n",
      "InternetService: ['DSL' 'Fiber optic' 0]\n",
      "OnlineSecurity: [0 1]\n",
      "OnlineBackup: [1 0]\n",
      "DeviceProtection: [0 1]\n",
      "TechSupport: [0 1]\n",
      "StreamingTV: [0 1]\n",
      "StreamingMovies: [0 1]\n",
      "Contract: ['Month-to-month' 'One year' 'Two year']\n",
      "PaperlessBilling: [1 0]\n",
      "PaymentMethod: ['Electronic check' 'Mailed check' 'Bank transfer (automatic)'\n",
      " 'Credit card (automatic)']\n",
      "MonthlyCharges: [29.85 56.95 53.85 ... 63.1  44.2  78.7 ]\n",
      "TotalCharges: [  29.85 1889.5   108.15 ...  346.45  306.6  6844.5 ]\n",
      "Churn: [0 1]\n"
     ]
    }
   ],
   "source": [
    "for col in df1:\n",
    "    print(f'{col}: {df1[col].unique()}') "
   ]
  },
  {
   "cell_type": "code",
   "execution_count": 73,
   "id": "e7b68578-e409-4688-b8da-c4500563ef1e",
   "metadata": {},
   "outputs": [
    {
     "ename": "TypeError",
     "evalue": "Cannot compare types 'ndarray(dtype=int64)' and 'str'",
     "output_type": "error",
     "traceback": [
      "\u001b[0;31m---------------------------------------------------------------------------\u001b[0m",
      "\u001b[0;31mTypeError\u001b[0m                                 Traceback (most recent call last)",
      "Cell \u001b[0;32mIn[73], line 1\u001b[0m\n\u001b[0;32m----> 1\u001b[0m \u001b[43mdf1\u001b[49m\u001b[43m[\u001b[49m\u001b[38;5;124;43m'\u001b[39;49m\u001b[38;5;124;43mgender\u001b[39;49m\u001b[38;5;124;43m'\u001b[39;49m\u001b[43m]\u001b[49m\u001b[38;5;241;43m.\u001b[39;49m\u001b[43mreplace\u001b[49m\u001b[43m(\u001b[49m\u001b[43m{\u001b[49m\u001b[38;5;124;43m'\u001b[39;49m\u001b[38;5;124;43mFemale\u001b[39;49m\u001b[38;5;124;43m'\u001b[39;49m\u001b[43m:\u001b[49m\u001b[43m \u001b[49m\u001b[38;5;241;43m1\u001b[39;49m\u001b[43m,\u001b[49m\u001b[43m \u001b[49m\u001b[38;5;124;43m'\u001b[39;49m\u001b[38;5;124;43mMale\u001b[39;49m\u001b[38;5;124;43m'\u001b[39;49m\u001b[43m:\u001b[49m\u001b[43m \u001b[49m\u001b[38;5;241;43m0\u001b[39;49m\u001b[43m}\u001b[49m\u001b[43m,\u001b[49m\u001b[43m \u001b[49m\u001b[43minplace\u001b[49m\u001b[38;5;241;43m=\u001b[39;49m\u001b[38;5;28;43;01mTrue\u001b[39;49;00m\u001b[43m)\u001b[49m\n",
      "File \u001b[0;32m/Library/Frameworks/Python.framework/Versions/3.9/lib/python3.9/site-packages/pandas/core/series.py:4576\u001b[0m, in \u001b[0;36mSeries.replace\u001b[0;34m(self, to_replace, value, inplace, limit, regex, method)\u001b[0m\n\u001b[1;32m   4566\u001b[0m \u001b[38;5;129m@doc\u001b[39m(NDFrame\u001b[38;5;241m.\u001b[39mreplace, klass\u001b[38;5;241m=\u001b[39m_shared_doc_kwargs[\u001b[38;5;124m\"\u001b[39m\u001b[38;5;124mklass\u001b[39m\u001b[38;5;124m\"\u001b[39m])\n\u001b[1;32m   4567\u001b[0m \u001b[38;5;28;01mdef\u001b[39;00m \u001b[38;5;21mreplace\u001b[39m(\n\u001b[1;32m   4568\u001b[0m     \u001b[38;5;28mself\u001b[39m,\n\u001b[0;32m   (...)\u001b[0m\n\u001b[1;32m   4574\u001b[0m     method\u001b[38;5;241m=\u001b[39m\u001b[38;5;124m\"\u001b[39m\u001b[38;5;124mpad\u001b[39m\u001b[38;5;124m\"\u001b[39m,\n\u001b[1;32m   4575\u001b[0m ):\n\u001b[0;32m-> 4576\u001b[0m     \u001b[38;5;28;01mreturn\u001b[39;00m \u001b[38;5;28;43msuper\u001b[39;49m\u001b[43m(\u001b[49m\u001b[43m)\u001b[49m\u001b[38;5;241;43m.\u001b[39;49m\u001b[43mreplace\u001b[49m\u001b[43m(\u001b[49m\n\u001b[1;32m   4577\u001b[0m \u001b[43m        \u001b[49m\u001b[43mto_replace\u001b[49m\u001b[38;5;241;43m=\u001b[39;49m\u001b[43mto_replace\u001b[49m\u001b[43m,\u001b[49m\n\u001b[1;32m   4578\u001b[0m \u001b[43m        \u001b[49m\u001b[43mvalue\u001b[49m\u001b[38;5;241;43m=\u001b[39;49m\u001b[43mvalue\u001b[49m\u001b[43m,\u001b[49m\n\u001b[1;32m   4579\u001b[0m \u001b[43m        \u001b[49m\u001b[43minplace\u001b[49m\u001b[38;5;241;43m=\u001b[39;49m\u001b[43minplace\u001b[49m\u001b[43m,\u001b[49m\n\u001b[1;32m   4580\u001b[0m \u001b[43m        \u001b[49m\u001b[43mlimit\u001b[49m\u001b[38;5;241;43m=\u001b[39;49m\u001b[43mlimit\u001b[49m\u001b[43m,\u001b[49m\n\u001b[1;32m   4581\u001b[0m \u001b[43m        \u001b[49m\u001b[43mregex\u001b[49m\u001b[38;5;241;43m=\u001b[39;49m\u001b[43mregex\u001b[49m\u001b[43m,\u001b[49m\n\u001b[1;32m   4582\u001b[0m \u001b[43m        \u001b[49m\u001b[43mmethod\u001b[49m\u001b[38;5;241;43m=\u001b[39;49m\u001b[43mmethod\u001b[49m\u001b[43m,\u001b[49m\n\u001b[1;32m   4583\u001b[0m \u001b[43m    \u001b[49m\u001b[43m)\u001b[49m\n",
      "File \u001b[0;32m/Library/Frameworks/Python.framework/Versions/3.9/lib/python3.9/site-packages/pandas/core/generic.py:6506\u001b[0m, in \u001b[0;36mNDFrame.replace\u001b[0;34m(self, to_replace, value, inplace, limit, regex, method)\u001b[0m\n\u001b[1;32m   6503\u001b[0m     \u001b[38;5;28;01melse\u001b[39;00m:\n\u001b[1;32m   6504\u001b[0m         to_replace, value \u001b[38;5;241m=\u001b[39m keys, values\n\u001b[0;32m-> 6506\u001b[0m     \u001b[38;5;28;01mreturn\u001b[39;00m \u001b[38;5;28;43mself\u001b[39;49m\u001b[38;5;241;43m.\u001b[39;49m\u001b[43mreplace\u001b[49m\u001b[43m(\u001b[49m\n\u001b[1;32m   6507\u001b[0m \u001b[43m        \u001b[49m\u001b[43mto_replace\u001b[49m\u001b[43m,\u001b[49m\u001b[43m \u001b[49m\u001b[43mvalue\u001b[49m\u001b[43m,\u001b[49m\u001b[43m \u001b[49m\u001b[43minplace\u001b[49m\u001b[38;5;241;43m=\u001b[39;49m\u001b[43minplace\u001b[49m\u001b[43m,\u001b[49m\u001b[43m \u001b[49m\u001b[43mlimit\u001b[49m\u001b[38;5;241;43m=\u001b[39;49m\u001b[43mlimit\u001b[49m\u001b[43m,\u001b[49m\u001b[43m \u001b[49m\u001b[43mregex\u001b[49m\u001b[38;5;241;43m=\u001b[39;49m\u001b[43mregex\u001b[49m\n\u001b[1;32m   6508\u001b[0m \u001b[43m    \u001b[49m\u001b[43m)\u001b[49m\n\u001b[1;32m   6509\u001b[0m \u001b[38;5;28;01melse\u001b[39;00m:\n\u001b[1;32m   6510\u001b[0m \n\u001b[1;32m   6511\u001b[0m     \u001b[38;5;66;03m# need a non-zero len on all axes\u001b[39;00m\n\u001b[1;32m   6512\u001b[0m     \u001b[38;5;28;01mif\u001b[39;00m \u001b[38;5;129;01mnot\u001b[39;00m \u001b[38;5;28mself\u001b[39m\u001b[38;5;241m.\u001b[39msize:\n",
      "File \u001b[0;32m/Library/Frameworks/Python.framework/Versions/3.9/lib/python3.9/site-packages/pandas/core/series.py:4576\u001b[0m, in \u001b[0;36mSeries.replace\u001b[0;34m(self, to_replace, value, inplace, limit, regex, method)\u001b[0m\n\u001b[1;32m   4566\u001b[0m \u001b[38;5;129m@doc\u001b[39m(NDFrame\u001b[38;5;241m.\u001b[39mreplace, klass\u001b[38;5;241m=\u001b[39m_shared_doc_kwargs[\u001b[38;5;124m\"\u001b[39m\u001b[38;5;124mklass\u001b[39m\u001b[38;5;124m\"\u001b[39m])\n\u001b[1;32m   4567\u001b[0m \u001b[38;5;28;01mdef\u001b[39;00m \u001b[38;5;21mreplace\u001b[39m(\n\u001b[1;32m   4568\u001b[0m     \u001b[38;5;28mself\u001b[39m,\n\u001b[0;32m   (...)\u001b[0m\n\u001b[1;32m   4574\u001b[0m     method\u001b[38;5;241m=\u001b[39m\u001b[38;5;124m\"\u001b[39m\u001b[38;5;124mpad\u001b[39m\u001b[38;5;124m\"\u001b[39m,\n\u001b[1;32m   4575\u001b[0m ):\n\u001b[0;32m-> 4576\u001b[0m     \u001b[38;5;28;01mreturn\u001b[39;00m \u001b[38;5;28;43msuper\u001b[39;49m\u001b[43m(\u001b[49m\u001b[43m)\u001b[49m\u001b[38;5;241;43m.\u001b[39;49m\u001b[43mreplace\u001b[49m\u001b[43m(\u001b[49m\n\u001b[1;32m   4577\u001b[0m \u001b[43m        \u001b[49m\u001b[43mto_replace\u001b[49m\u001b[38;5;241;43m=\u001b[39;49m\u001b[43mto_replace\u001b[49m\u001b[43m,\u001b[49m\n\u001b[1;32m   4578\u001b[0m \u001b[43m        \u001b[49m\u001b[43mvalue\u001b[49m\u001b[38;5;241;43m=\u001b[39;49m\u001b[43mvalue\u001b[49m\u001b[43m,\u001b[49m\n\u001b[1;32m   4579\u001b[0m \u001b[43m        \u001b[49m\u001b[43minplace\u001b[49m\u001b[38;5;241;43m=\u001b[39;49m\u001b[43minplace\u001b[49m\u001b[43m,\u001b[49m\n\u001b[1;32m   4580\u001b[0m \u001b[43m        \u001b[49m\u001b[43mlimit\u001b[49m\u001b[38;5;241;43m=\u001b[39;49m\u001b[43mlimit\u001b[49m\u001b[43m,\u001b[49m\n\u001b[1;32m   4581\u001b[0m \u001b[43m        \u001b[49m\u001b[43mregex\u001b[49m\u001b[38;5;241;43m=\u001b[39;49m\u001b[43mregex\u001b[49m\u001b[43m,\u001b[49m\n\u001b[1;32m   4582\u001b[0m \u001b[43m        \u001b[49m\u001b[43mmethod\u001b[49m\u001b[38;5;241;43m=\u001b[39;49m\u001b[43mmethod\u001b[49m\u001b[43m,\u001b[49m\n\u001b[1;32m   4583\u001b[0m \u001b[43m    \u001b[49m\u001b[43m)\u001b[49m\n",
      "File \u001b[0;32m/Library/Frameworks/Python.framework/Versions/3.9/lib/python3.9/site-packages/pandas/core/generic.py:6549\u001b[0m, in \u001b[0;36mNDFrame.replace\u001b[0;34m(self, to_replace, value, inplace, limit, regex, method)\u001b[0m\n\u001b[1;32m   6544\u001b[0m         \u001b[38;5;28;01mraise\u001b[39;00m \u001b[38;5;167;01mValueError\u001b[39;00m(\n\u001b[1;32m   6545\u001b[0m             \u001b[38;5;124mf\u001b[39m\u001b[38;5;124m\"\u001b[39m\u001b[38;5;124mReplacement lists must match in length. \u001b[39m\u001b[38;5;124m\"\u001b[39m\n\u001b[1;32m   6546\u001b[0m             \u001b[38;5;124mf\u001b[39m\u001b[38;5;124m\"\u001b[39m\u001b[38;5;124mExpecting \u001b[39m\u001b[38;5;132;01m{\u001b[39;00m\u001b[38;5;28mlen\u001b[39m(to_replace)\u001b[38;5;132;01m}\u001b[39;00m\u001b[38;5;124m got \u001b[39m\u001b[38;5;132;01m{\u001b[39;00m\u001b[38;5;28mlen\u001b[39m(value)\u001b[38;5;132;01m}\u001b[39;00m\u001b[38;5;124m \u001b[39m\u001b[38;5;124m\"\u001b[39m\n\u001b[1;32m   6547\u001b[0m         )\n\u001b[1;32m   6548\u001b[0m     \u001b[38;5;28mself\u001b[39m\u001b[38;5;241m.\u001b[39m_consolidate_inplace()\n\u001b[0;32m-> 6549\u001b[0m     new_data \u001b[38;5;241m=\u001b[39m \u001b[38;5;28;43mself\u001b[39;49m\u001b[38;5;241;43m.\u001b[39;49m\u001b[43m_mgr\u001b[49m\u001b[38;5;241;43m.\u001b[39;49m\u001b[43mreplace_list\u001b[49m\u001b[43m(\u001b[49m\n\u001b[1;32m   6550\u001b[0m \u001b[43m        \u001b[49m\u001b[43msrc_list\u001b[49m\u001b[38;5;241;43m=\u001b[39;49m\u001b[43mto_replace\u001b[49m\u001b[43m,\u001b[49m\n\u001b[1;32m   6551\u001b[0m \u001b[43m        \u001b[49m\u001b[43mdest_list\u001b[49m\u001b[38;5;241;43m=\u001b[39;49m\u001b[43mvalue\u001b[49m\u001b[43m,\u001b[49m\n\u001b[1;32m   6552\u001b[0m \u001b[43m        \u001b[49m\u001b[43minplace\u001b[49m\u001b[38;5;241;43m=\u001b[39;49m\u001b[43minplace\u001b[49m\u001b[43m,\u001b[49m\n\u001b[1;32m   6553\u001b[0m \u001b[43m        \u001b[49m\u001b[43mregex\u001b[49m\u001b[38;5;241;43m=\u001b[39;49m\u001b[43mregex\u001b[49m\u001b[43m,\u001b[49m\n\u001b[1;32m   6554\u001b[0m \u001b[43m    \u001b[49m\u001b[43m)\u001b[49m\n\u001b[1;32m   6556\u001b[0m \u001b[38;5;28;01melse\u001b[39;00m:  \u001b[38;5;66;03m# [NA, ''] -> 0\u001b[39;00m\n\u001b[1;32m   6557\u001b[0m     new_data \u001b[38;5;241m=\u001b[39m \u001b[38;5;28mself\u001b[39m\u001b[38;5;241m.\u001b[39m_mgr\u001b[38;5;241m.\u001b[39mreplace(\n\u001b[1;32m   6558\u001b[0m         to_replace\u001b[38;5;241m=\u001b[39mto_replace, value\u001b[38;5;241m=\u001b[39mvalue, inplace\u001b[38;5;241m=\u001b[39minplace, regex\u001b[38;5;241m=\u001b[39mregex\n\u001b[1;32m   6559\u001b[0m     )\n",
      "File \u001b[0;32m/Library/Frameworks/Python.framework/Versions/3.9/lib/python3.9/site-packages/pandas/core/internals/managers.py:651\u001b[0m, in \u001b[0;36mBlockManager.replace_list\u001b[0;34m(self, src_list, dest_list, inplace, regex)\u001b[0m\n\u001b[1;32m    647\u001b[0m \u001b[38;5;66;03m# Calculate the mask once, prior to the call of comp\u001b[39;00m\n\u001b[1;32m    648\u001b[0m \u001b[38;5;66;03m# in order to avoid repeating the same computations\u001b[39;00m\n\u001b[1;32m    649\u001b[0m mask \u001b[38;5;241m=\u001b[39m \u001b[38;5;241m~\u001b[39misna(values)\n\u001b[0;32m--> 651\u001b[0m masks \u001b[38;5;241m=\u001b[39m [comp(s, mask, regex) \u001b[38;5;28;01mfor\u001b[39;00m s \u001b[38;5;129;01min\u001b[39;00m src_list]\n\u001b[1;32m    653\u001b[0m result_blocks \u001b[38;5;241m=\u001b[39m []\n\u001b[1;32m    654\u001b[0m src_len \u001b[38;5;241m=\u001b[39m \u001b[38;5;28mlen\u001b[39m(src_list) \u001b[38;5;241m-\u001b[39m \u001b[38;5;241m1\u001b[39m\n",
      "File \u001b[0;32m/Library/Frameworks/Python.framework/Versions/3.9/lib/python3.9/site-packages/pandas/core/internals/managers.py:651\u001b[0m, in \u001b[0;36m<listcomp>\u001b[0;34m(.0)\u001b[0m\n\u001b[1;32m    647\u001b[0m \u001b[38;5;66;03m# Calculate the mask once, prior to the call of comp\u001b[39;00m\n\u001b[1;32m    648\u001b[0m \u001b[38;5;66;03m# in order to avoid repeating the same computations\u001b[39;00m\n\u001b[1;32m    649\u001b[0m mask \u001b[38;5;241m=\u001b[39m \u001b[38;5;241m~\u001b[39misna(values)\n\u001b[0;32m--> 651\u001b[0m masks \u001b[38;5;241m=\u001b[39m [\u001b[43mcomp\u001b[49m\u001b[43m(\u001b[49m\u001b[43ms\u001b[49m\u001b[43m,\u001b[49m\u001b[43m \u001b[49m\u001b[43mmask\u001b[49m\u001b[43m,\u001b[49m\u001b[43m \u001b[49m\u001b[43mregex\u001b[49m\u001b[43m)\u001b[49m \u001b[38;5;28;01mfor\u001b[39;00m s \u001b[38;5;129;01min\u001b[39;00m src_list]\n\u001b[1;32m    653\u001b[0m result_blocks \u001b[38;5;241m=\u001b[39m []\n\u001b[1;32m    654\u001b[0m src_len \u001b[38;5;241m=\u001b[39m \u001b[38;5;28mlen\u001b[39m(src_list) \u001b[38;5;241m-\u001b[39m \u001b[38;5;241m1\u001b[39m\n",
      "File \u001b[0;32m/Library/Frameworks/Python.framework/Versions/3.9/lib/python3.9/site-packages/pandas/core/internals/managers.py:645\u001b[0m, in \u001b[0;36mBlockManager.replace_list.<locals>.comp\u001b[0;34m(s, mask, regex)\u001b[0m\n\u001b[1;32m    642\u001b[0m     \u001b[38;5;28;01mreturn\u001b[39;00m \u001b[38;5;241m~\u001b[39mmask\n\u001b[1;32m    644\u001b[0m s \u001b[38;5;241m=\u001b[39m com\u001b[38;5;241m.\u001b[39mmaybe_box_datetimelike(s)\n\u001b[0;32m--> 645\u001b[0m \u001b[38;5;28;01mreturn\u001b[39;00m \u001b[43m_compare_or_regex_search\u001b[49m\u001b[43m(\u001b[49m\u001b[43mvalues\u001b[49m\u001b[43m,\u001b[49m\u001b[43m \u001b[49m\u001b[43ms\u001b[49m\u001b[43m,\u001b[49m\u001b[43m \u001b[49m\u001b[43mregex\u001b[49m\u001b[43m,\u001b[49m\u001b[43m \u001b[49m\u001b[43mmask\u001b[49m\u001b[43m)\u001b[49m\n",
      "File \u001b[0;32m/Library/Frameworks/Python.framework/Versions/3.9/lib/python3.9/site-packages/pandas/core/internals/managers.py:2001\u001b[0m, in \u001b[0;36m_compare_or_regex_search\u001b[0;34m(a, b, regex, mask)\u001b[0m\n\u001b[1;32m   1997\u001b[0m     a \u001b[38;5;241m=\u001b[39m a[mask]\n\u001b[1;32m   1999\u001b[0m \u001b[38;5;28;01mif\u001b[39;00m is_datetimelike_v_numeric(a, b) \u001b[38;5;129;01mor\u001b[39;00m is_numeric_v_string_like(a, b):\n\u001b[1;32m   2000\u001b[0m     \u001b[38;5;66;03m# GH#29553 avoid deprecation warnings from numpy\u001b[39;00m\n\u001b[0;32m-> 2001\u001b[0m     \u001b[43m_check_comparison_types\u001b[49m\u001b[43m(\u001b[49m\u001b[38;5;28;43;01mFalse\u001b[39;49;00m\u001b[43m,\u001b[49m\u001b[43m \u001b[49m\u001b[43ma\u001b[49m\u001b[43m,\u001b[49m\u001b[43m \u001b[49m\u001b[43mb\u001b[49m\u001b[43m)\u001b[49m\n\u001b[1;32m   2002\u001b[0m     \u001b[38;5;28;01mreturn\u001b[39;00m \u001b[38;5;28;01mFalse\u001b[39;00m\n\u001b[1;32m   2004\u001b[0m result \u001b[38;5;241m=\u001b[39m op(a)\n",
      "File \u001b[0;32m/Library/Frameworks/Python.framework/Versions/3.9/lib/python3.9/site-packages/pandas/core/internals/managers.py:1980\u001b[0m, in \u001b[0;36m_compare_or_regex_search.<locals>._check_comparison_types\u001b[0;34m(result, a, b)\u001b[0m\n\u001b[1;32m   1977\u001b[0m \u001b[38;5;28;01mif\u001b[39;00m \u001b[38;5;28misinstance\u001b[39m(a, np\u001b[38;5;241m.\u001b[39mndarray):\n\u001b[1;32m   1978\u001b[0m     type_names[\u001b[38;5;241m0\u001b[39m] \u001b[38;5;241m=\u001b[39m \u001b[38;5;124mf\u001b[39m\u001b[38;5;124m\"\u001b[39m\u001b[38;5;124mndarray(dtype=\u001b[39m\u001b[38;5;132;01m{\u001b[39;00ma\u001b[38;5;241m.\u001b[39mdtype\u001b[38;5;132;01m}\u001b[39;00m\u001b[38;5;124m)\u001b[39m\u001b[38;5;124m\"\u001b[39m\n\u001b[0;32m-> 1980\u001b[0m \u001b[38;5;28;01mraise\u001b[39;00m \u001b[38;5;167;01mTypeError\u001b[39;00m(\n\u001b[1;32m   1981\u001b[0m     \u001b[38;5;124mf\u001b[39m\u001b[38;5;124m\"\u001b[39m\u001b[38;5;124mCannot compare types \u001b[39m\u001b[38;5;132;01m{\u001b[39;00m\u001b[38;5;28mrepr\u001b[39m(type_names[\u001b[38;5;241m0\u001b[39m])\u001b[38;5;132;01m}\u001b[39;00m\u001b[38;5;124m and \u001b[39m\u001b[38;5;132;01m{\u001b[39;00m\u001b[38;5;28mrepr\u001b[39m(type_names[\u001b[38;5;241m1\u001b[39m])\u001b[38;5;132;01m}\u001b[39;00m\u001b[38;5;124m\"\u001b[39m\n\u001b[1;32m   1982\u001b[0m )\n",
      "\u001b[0;31mTypeError\u001b[0m: Cannot compare types 'ndarray(dtype=int64)' and 'str'"
     ]
    }
   ],
   "source": [
    "df1['gender'].replace({'Female': 1, 'Male': 0}, inplace=True)"
   ]
  },
  {
   "cell_type": "code",
   "execution_count": 74,
   "id": "568fbb87-6781-4c31-bb4d-a5cedc8c19ef",
   "metadata": {},
   "outputs": [
    {
     "data": {
      "text/plain": [
       "array([1, 0])"
      ]
     },
     "execution_count": 74,
     "metadata": {},
     "output_type": "execute_result"
    }
   ],
   "source": [
    "df1.gender.unique()"
   ]
  },
  {
   "cell_type": "code",
   "execution_count": 76,
   "id": "482323a7-2b61-439b-90d0-0a23e8ec9d3a",
   "metadata": {},
   "outputs": [],
   "source": [
    "df2 = pd.get_dummies(data=df1, columns=['InternetService', 'Contract', 'PaymentMethod'])"
   ]
  },
  {
   "cell_type": "code",
   "execution_count": 77,
   "id": "1dd63b3b-1ac2-42f1-bb12-29db6ac086be",
   "metadata": {},
   "outputs": [
    {
     "name": "stdout",
     "output_type": "stream",
     "text": [
      "gender: [1 0]\n",
      "SeniorCitizen: [0 1]\n",
      "Partner: [1 0]\n",
      "Dependents: [0 1]\n",
      "tenure: [ 1 34  2 45  8 22 10 28 62 13 16 58 49 25 69 52 71 21 12 30 47 72 17 27\n",
      "  5 46 11 70 63 43 15 60 18 66  9  3 31 50 64 56  7 42 35 48 29 65 38 68\n",
      " 32 55 37 36 41  6  4 33 67 23 57 61 14 20 53 40 59 24 44 19 54 51 26 39]\n",
      "PhoneService: [0 1]\n",
      "MultipleLines: [0 1]\n",
      "OnlineSecurity: [0 1]\n",
      "OnlineBackup: [1 0]\n",
      "DeviceProtection: [0 1]\n",
      "TechSupport: [0 1]\n",
      "StreamingTV: [0 1]\n",
      "StreamingMovies: [0 1]\n",
      "PaperlessBilling: [1 0]\n",
      "MonthlyCharges: [29.85 56.95 53.85 ... 63.1  44.2  78.7 ]\n",
      "TotalCharges: [  29.85 1889.5   108.15 ...  346.45  306.6  6844.5 ]\n",
      "Churn: [0 1]\n",
      "InternetService_0: [0 1]\n",
      "InternetService_DSL: [1 0]\n",
      "InternetService_Fiber optic: [0 1]\n",
      "Contract_Month-to-month: [1 0]\n",
      "Contract_One year: [0 1]\n",
      "Contract_Two year: [0 1]\n",
      "PaymentMethod_Bank transfer (automatic): [0 1]\n",
      "PaymentMethod_Credit card (automatic): [0 1]\n",
      "PaymentMethod_Electronic check: [1 0]\n",
      "PaymentMethod_Mailed check: [0 1]\n"
     ]
    }
   ],
   "source": [
    "print_unique_col_values(df2)"
   ]
  },
  {
   "cell_type": "code",
   "execution_count": 78,
   "id": "abb4f03b-713e-43ec-a4a1-62d9ca6edfb6",
   "metadata": {},
   "outputs": [
    {
     "data": {
      "text/html": [
       "<div>\n",
       "<style scoped>\n",
       "    .dataframe tbody tr th:only-of-type {\n",
       "        vertical-align: middle;\n",
       "    }\n",
       "\n",
       "    .dataframe tbody tr th {\n",
       "        vertical-align: top;\n",
       "    }\n",
       "\n",
       "    .dataframe thead th {\n",
       "        text-align: right;\n",
       "    }\n",
       "</style>\n",
       "<table border=\"1\" class=\"dataframe\">\n",
       "  <thead>\n",
       "    <tr style=\"text-align: right;\">\n",
       "      <th></th>\n",
       "      <th>gender</th>\n",
       "      <th>SeniorCitizen</th>\n",
       "      <th>Partner</th>\n",
       "      <th>Dependents</th>\n",
       "      <th>tenure</th>\n",
       "      <th>PhoneService</th>\n",
       "      <th>MultipleLines</th>\n",
       "      <th>OnlineSecurity</th>\n",
       "      <th>OnlineBackup</th>\n",
       "      <th>DeviceProtection</th>\n",
       "      <th>...</th>\n",
       "      <th>InternetService_0</th>\n",
       "      <th>InternetService_DSL</th>\n",
       "      <th>InternetService_Fiber optic</th>\n",
       "      <th>Contract_Month-to-month</th>\n",
       "      <th>Contract_One year</th>\n",
       "      <th>Contract_Two year</th>\n",
       "      <th>PaymentMethod_Bank transfer (automatic)</th>\n",
       "      <th>PaymentMethod_Credit card (automatic)</th>\n",
       "      <th>PaymentMethod_Electronic check</th>\n",
       "      <th>PaymentMethod_Mailed check</th>\n",
       "    </tr>\n",
       "  </thead>\n",
       "  <tbody>\n",
       "    <tr>\n",
       "      <th>168</th>\n",
       "      <td>0</td>\n",
       "      <td>1</td>\n",
       "      <td>1</td>\n",
       "      <td>0</td>\n",
       "      <td>58</td>\n",
       "      <td>0</td>\n",
       "      <td>0</td>\n",
       "      <td>0</td>\n",
       "      <td>1</td>\n",
       "      <td>1</td>\n",
       "      <td>...</td>\n",
       "      <td>0</td>\n",
       "      <td>1</td>\n",
       "      <td>0</td>\n",
       "      <td>1</td>\n",
       "      <td>0</td>\n",
       "      <td>0</td>\n",
       "      <td>0</td>\n",
       "      <td>0</td>\n",
       "      <td>1</td>\n",
       "      <td>0</td>\n",
       "    </tr>\n",
       "    <tr>\n",
       "      <th>6474</th>\n",
       "      <td>1</td>\n",
       "      <td>0</td>\n",
       "      <td>0</td>\n",
       "      <td>0</td>\n",
       "      <td>6</td>\n",
       "      <td>1</td>\n",
       "      <td>0</td>\n",
       "      <td>0</td>\n",
       "      <td>0</td>\n",
       "      <td>0</td>\n",
       "      <td>...</td>\n",
       "      <td>1</td>\n",
       "      <td>0</td>\n",
       "      <td>0</td>\n",
       "      <td>0</td>\n",
       "      <td>0</td>\n",
       "      <td>1</td>\n",
       "      <td>0</td>\n",
       "      <td>0</td>\n",
       "      <td>0</td>\n",
       "      <td>1</td>\n",
       "    </tr>\n",
       "    <tr>\n",
       "      <th>1137</th>\n",
       "      <td>0</td>\n",
       "      <td>0</td>\n",
       "      <td>1</td>\n",
       "      <td>1</td>\n",
       "      <td>71</td>\n",
       "      <td>1</td>\n",
       "      <td>0</td>\n",
       "      <td>0</td>\n",
       "      <td>0</td>\n",
       "      <td>0</td>\n",
       "      <td>...</td>\n",
       "      <td>1</td>\n",
       "      <td>0</td>\n",
       "      <td>0</td>\n",
       "      <td>0</td>\n",
       "      <td>0</td>\n",
       "      <td>1</td>\n",
       "      <td>0</td>\n",
       "      <td>0</td>\n",
       "      <td>0</td>\n",
       "      <td>1</td>\n",
       "    </tr>\n",
       "    <tr>\n",
       "      <th>5244</th>\n",
       "      <td>1</td>\n",
       "      <td>0</td>\n",
       "      <td>0</td>\n",
       "      <td>0</td>\n",
       "      <td>45</td>\n",
       "      <td>1</td>\n",
       "      <td>1</td>\n",
       "      <td>0</td>\n",
       "      <td>0</td>\n",
       "      <td>1</td>\n",
       "      <td>...</td>\n",
       "      <td>0</td>\n",
       "      <td>0</td>\n",
       "      <td>1</td>\n",
       "      <td>1</td>\n",
       "      <td>0</td>\n",
       "      <td>0</td>\n",
       "      <td>0</td>\n",
       "      <td>1</td>\n",
       "      <td>0</td>\n",
       "      <td>0</td>\n",
       "    </tr>\n",
       "    <tr>\n",
       "      <th>5928</th>\n",
       "      <td>1</td>\n",
       "      <td>0</td>\n",
       "      <td>1</td>\n",
       "      <td>1</td>\n",
       "      <td>61</td>\n",
       "      <td>1</td>\n",
       "      <td>0</td>\n",
       "      <td>0</td>\n",
       "      <td>0</td>\n",
       "      <td>0</td>\n",
       "      <td>...</td>\n",
       "      <td>1</td>\n",
       "      <td>0</td>\n",
       "      <td>0</td>\n",
       "      <td>0</td>\n",
       "      <td>0</td>\n",
       "      <td>1</td>\n",
       "      <td>0</td>\n",
       "      <td>1</td>\n",
       "      <td>0</td>\n",
       "      <td>0</td>\n",
       "    </tr>\n",
       "  </tbody>\n",
       "</table>\n",
       "<p>5 rows × 27 columns</p>\n",
       "</div>"
      ],
      "text/plain": [
       "      gender  SeniorCitizen  Partner  Dependents  tenure  PhoneService  \\\n",
       "168        0              1        1           0      58             0   \n",
       "6474       1              0        0           0       6             1   \n",
       "1137       0              0        1           1      71             1   \n",
       "5244       1              0        0           0      45             1   \n",
       "5928       1              0        1           1      61             1   \n",
       "\n",
       "      MultipleLines  OnlineSecurity  OnlineBackup  DeviceProtection  ...  \\\n",
       "168               0               0             1                 1  ...   \n",
       "6474              0               0             0                 0  ...   \n",
       "1137              0               0             0                 0  ...   \n",
       "5244              1               0             0                 1  ...   \n",
       "5928              0               0             0                 0  ...   \n",
       "\n",
       "      InternetService_0  InternetService_DSL  InternetService_Fiber optic  \\\n",
       "168                   0                    1                            0   \n",
       "6474                  1                    0                            0   \n",
       "1137                  1                    0                            0   \n",
       "5244                  0                    0                            1   \n",
       "5928                  1                    0                            0   \n",
       "\n",
       "      Contract_Month-to-month  Contract_One year  Contract_Two year  \\\n",
       "168                         1                  0                  0   \n",
       "6474                        0                  0                  1   \n",
       "1137                        0                  0                  1   \n",
       "5244                        1                  0                  0   \n",
       "5928                        0                  0                  1   \n",
       "\n",
       "      PaymentMethod_Bank transfer (automatic)  \\\n",
       "168                                         0   \n",
       "6474                                        0   \n",
       "1137                                        0   \n",
       "5244                                        0   \n",
       "5928                                        0   \n",
       "\n",
       "      PaymentMethod_Credit card (automatic)  PaymentMethod_Electronic check  \\\n",
       "168                                       0                               1   \n",
       "6474                                      0                               0   \n",
       "1137                                      0                               0   \n",
       "5244                                      1                               0   \n",
       "5928                                      1                               0   \n",
       "\n",
       "      PaymentMethod_Mailed check  \n",
       "168                            0  \n",
       "6474                           1  \n",
       "1137                           1  \n",
       "5244                           0  \n",
       "5928                           0  \n",
       "\n",
       "[5 rows x 27 columns]"
      ]
     },
     "execution_count": 78,
     "metadata": {},
     "output_type": "execute_result"
    }
   ],
   "source": [
    "df2.sample(5)"
   ]
  },
  {
   "cell_type": "code",
   "execution_count": 79,
   "id": "26e961bc-11e6-4906-885b-a5a0b962f094",
   "metadata": {},
   "outputs": [
    {
     "data": {
      "text/plain": [
       "gender                                       int64\n",
       "SeniorCitizen                                int64\n",
       "Partner                                      int64\n",
       "Dependents                                   int64\n",
       "tenure                                       int64\n",
       "PhoneService                                 int64\n",
       "MultipleLines                                int64\n",
       "OnlineSecurity                               int64\n",
       "OnlineBackup                                 int64\n",
       "DeviceProtection                             int64\n",
       "TechSupport                                  int64\n",
       "StreamingTV                                  int64\n",
       "StreamingMovies                              int64\n",
       "PaperlessBilling                             int64\n",
       "MonthlyCharges                             float64\n",
       "TotalCharges                               float64\n",
       "Churn                                        int64\n",
       "InternetService_0                            uint8\n",
       "InternetService_DSL                          uint8\n",
       "InternetService_Fiber optic                  uint8\n",
       "Contract_Month-to-month                      uint8\n",
       "Contract_One year                            uint8\n",
       "Contract_Two year                            uint8\n",
       "PaymentMethod_Bank transfer (automatic)      uint8\n",
       "PaymentMethod_Credit card (automatic)        uint8\n",
       "PaymentMethod_Electronic check               uint8\n",
       "PaymentMethod_Mailed check                   uint8\n",
       "dtype: object"
      ]
     },
     "execution_count": 79,
     "metadata": {},
     "output_type": "execute_result"
    }
   ],
   "source": [
    "df2.dtypes"
   ]
  },
  {
   "cell_type": "markdown",
   "id": "5137c63b-6533-45fc-806a-e6003dab0724",
   "metadata": {},
   "source": [
    "NOW SCALE COLUMN VALUES OF tenure, MonthlyCharges AND TotalCharges"
   ]
  },
  {
   "cell_type": "code",
   "execution_count": 81,
   "id": "833867d4-f137-4064-b6d6-aa33d9d154d0",
   "metadata": {},
   "outputs": [],
   "source": [
    "column_to_scale = ['tenure', 'MonthlyCharges', 'TotalCharges']\n",
    "from sklearn.preprocessing import MinMaxScaler\n",
    "scaler = MinMaxScaler()\n",
    "df2[column_to_scale] = scaler.fit_transform(df2[column_to_scale])"
   ]
  },
  {
   "cell_type": "code",
   "execution_count": 82,
   "id": "b89ff11e-ea19-4dc4-8379-b1e5db296d49",
   "metadata": {},
   "outputs": [
    {
     "name": "stdout",
     "output_type": "stream",
     "text": [
      "gender: [1 0]\n",
      "SeniorCitizen: [0 1]\n",
      "Partner: [1 0]\n",
      "Dependents: [0 1]\n",
      "tenure: [0.         0.46478873 0.01408451 0.61971831 0.09859155 0.29577465\n",
      " 0.12676056 0.38028169 0.85915493 0.16901408 0.21126761 0.8028169\n",
      " 0.67605634 0.33802817 0.95774648 0.71830986 0.98591549 0.28169014\n",
      " 0.15492958 0.4084507  0.64788732 1.         0.22535211 0.36619718\n",
      " 0.05633803 0.63380282 0.14084507 0.97183099 0.87323944 0.5915493\n",
      " 0.1971831  0.83098592 0.23943662 0.91549296 0.11267606 0.02816901\n",
      " 0.42253521 0.69014085 0.88732394 0.77464789 0.08450704 0.57746479\n",
      " 0.47887324 0.66197183 0.3943662  0.90140845 0.52112676 0.94366197\n",
      " 0.43661972 0.76056338 0.50704225 0.49295775 0.56338028 0.07042254\n",
      " 0.04225352 0.45070423 0.92957746 0.30985915 0.78873239 0.84507042\n",
      " 0.18309859 0.26760563 0.73239437 0.54929577 0.81690141 0.32394366\n",
      " 0.6056338  0.25352113 0.74647887 0.70422535 0.35211268 0.53521127]\n",
      "PhoneService: [0 1]\n",
      "MultipleLines: [0 1]\n",
      "OnlineSecurity: [0 1]\n",
      "OnlineBackup: [1 0]\n",
      "DeviceProtection: [0 1]\n",
      "TechSupport: [0 1]\n",
      "StreamingTV: [0 1]\n",
      "StreamingMovies: [0 1]\n",
      "PaperlessBilling: [1 0]\n",
      "MonthlyCharges: [0.11542289 0.38507463 0.35422886 ... 0.44626866 0.25820896 0.60149254]\n",
      "TotalCharges: [0.0012751  0.21586661 0.01031041 ... 0.03780868 0.03321025 0.78764136]\n",
      "Churn: [0 1]\n",
      "InternetService_0: [0 1]\n",
      "InternetService_DSL: [1 0]\n",
      "InternetService_Fiber optic: [0 1]\n",
      "Contract_Month-to-month: [1 0]\n",
      "Contract_One year: [0 1]\n",
      "Contract_Two year: [0 1]\n",
      "PaymentMethod_Bank transfer (automatic): [0 1]\n",
      "PaymentMethod_Credit card (automatic): [0 1]\n",
      "PaymentMethod_Electronic check: [1 0]\n",
      "PaymentMethod_Mailed check: [0 1]\n"
     ]
    }
   ],
   "source": [
    "print_unique_col_values(df2)"
   ]
  },
  {
   "cell_type": "markdown",
   "id": "9d56dee4-402d-4070-aadc-11486cc6114f",
   "metadata": {},
   "source": [
    "Split into TRAIN TEST sets"
   ]
  },
  {
   "cell_type": "code",
   "execution_count": 97,
   "id": "11cf6e01-7908-48e0-88bd-2adea0d14d67",
   "metadata": {},
   "outputs": [],
   "source": [
    "x = df2.drop('Churn', axis='columns')\n",
    "y = df2['Churn']\n",
    "\n",
    "from sklearn.model_selection import train_test_split\n",
    "X_train, X_test, y_train, y_test = train_test_split(x,y,test_size=0.2, random_state=5)"
   ]
  },
  {
   "cell_type": "code",
   "execution_count": 89,
   "id": "74964eed-4875-4dbc-b67a-9db722f00935",
   "metadata": {},
   "outputs": [
    {
     "data": {
      "text/plain": [
       "(5625, 26)"
      ]
     },
     "execution_count": 89,
     "metadata": {},
     "output_type": "execute_result"
    }
   ],
   "source": [
    "X_train.shape\n"
   ]
  },
  {
   "cell_type": "code",
   "execution_count": 98,
   "id": "f0c90212-1fa7-4706-af0c-328c06ebf6ae",
   "metadata": {},
   "outputs": [
    {
     "data": {
      "text/plain": [
       "(5625,)"
      ]
     },
     "execution_count": 98,
     "metadata": {},
     "output_type": "execute_result"
    }
   ],
   "source": [
    "y_train.shape"
   ]
  },
  {
   "cell_type": "code",
   "execution_count": 96,
   "id": "c116e0fa-da4b-4948-8a88-6f1f47338ac0",
   "metadata": {},
   "outputs": [
    {
     "data": {
      "text/plain": [
       "26"
      ]
     },
     "execution_count": 96,
     "metadata": {},
     "output_type": "execute_result"
    }
   ],
   "source": [
    "len(X_train.columns)"
   ]
  },
  {
   "cell_type": "markdown",
   "id": "13828436-6b03-48b6-b626-7b0b27c3caef",
   "metadata": {},
   "source": [
    "CREATE THE MODEL"
   ]
  },
  {
   "cell_type": "code",
   "execution_count": 114,
   "id": "04b4d2f5-72d1-4f8b-b9a2-91469a47c6e3",
   "metadata": {},
   "outputs": [
    {
     "name": "stdout",
     "output_type": "stream",
     "text": [
      "Epoch 1/100\n",
      "176/176 [==============================] - 1s 844us/step - loss: 0.4874 - accuracy: 0.7598\n",
      "Epoch 2/100\n",
      "176/176 [==============================] - 0s 785us/step - loss: 0.4226 - accuracy: 0.7979\n",
      "Epoch 3/100\n",
      "176/176 [==============================] - 0s 782us/step - loss: 0.4172 - accuracy: 0.8004\n",
      "Epoch 4/100\n",
      "176/176 [==============================] - 0s 856us/step - loss: 0.4131 - accuracy: 0.8030\n",
      "Epoch 5/100\n",
      "176/176 [==============================] - 0s 801us/step - loss: 0.4115 - accuracy: 0.8044\n",
      "Epoch 6/100\n",
      "176/176 [==============================] - 0s 766us/step - loss: 0.4086 - accuracy: 0.8059\n",
      "Epoch 7/100\n",
      "176/176 [==============================] - 0s 832us/step - loss: 0.4073 - accuracy: 0.8080\n",
      "Epoch 8/100\n",
      "176/176 [==============================] - 0s 794us/step - loss: 0.4059 - accuracy: 0.8100\n",
      "Epoch 9/100\n",
      "176/176 [==============================] - 0s 827us/step - loss: 0.4041 - accuracy: 0.8124\n",
      "Epoch 10/100\n",
      "176/176 [==============================] - 0s 827us/step - loss: 0.4032 - accuracy: 0.8101\n",
      "Epoch 11/100\n",
      "176/176 [==============================] - 0s 814us/step - loss: 0.4026 - accuracy: 0.8078\n",
      "Epoch 12/100\n",
      "176/176 [==============================] - 0s 823us/step - loss: 0.4014 - accuracy: 0.8117\n",
      "Epoch 13/100\n",
      "176/176 [==============================] - 0s 808us/step - loss: 0.3999 - accuracy: 0.8142\n",
      "Epoch 14/100\n",
      "176/176 [==============================] - 0s 779us/step - loss: 0.3985 - accuracy: 0.8110\n",
      "Epoch 15/100\n",
      "176/176 [==============================] - 0s 813us/step - loss: 0.3970 - accuracy: 0.8158\n",
      "Epoch 16/100\n",
      "176/176 [==============================] - 0s 794us/step - loss: 0.3969 - accuracy: 0.8137\n",
      "Epoch 17/100\n",
      "176/176 [==============================] - 0s 782us/step - loss: 0.3951 - accuracy: 0.8164\n",
      "Epoch 18/100\n",
      "176/176 [==============================] - 0s 969us/step - loss: 0.3946 - accuracy: 0.8149\n",
      "Epoch 19/100\n",
      "176/176 [==============================] - 0s 814us/step - loss: 0.3931 - accuracy: 0.8165\n",
      "Epoch 20/100\n",
      "176/176 [==============================] - 0s 794us/step - loss: 0.3927 - accuracy: 0.8174\n",
      "Epoch 21/100\n",
      "176/176 [==============================] - 0s 774us/step - loss: 0.3916 - accuracy: 0.8153\n",
      "Epoch 22/100\n",
      "176/176 [==============================] - 0s 799us/step - loss: 0.3914 - accuracy: 0.8164\n",
      "Epoch 23/100\n",
      "176/176 [==============================] - 0s 881us/step - loss: 0.3895 - accuracy: 0.8183\n",
      "Epoch 24/100\n",
      "176/176 [==============================] - 0s 944us/step - loss: 0.3897 - accuracy: 0.8199\n",
      "Epoch 25/100\n",
      "176/176 [==============================] - 0s 781us/step - loss: 0.3885 - accuracy: 0.8167\n",
      "Epoch 26/100\n",
      "176/176 [==============================] - 0s 760us/step - loss: 0.3863 - accuracy: 0.8188\n",
      "Epoch 27/100\n",
      "176/176 [==============================] - 0s 792us/step - loss: 0.3865 - accuracy: 0.8194\n",
      "Epoch 28/100\n",
      "176/176 [==============================] - 0s 791us/step - loss: 0.3848 - accuracy: 0.8192\n",
      "Epoch 29/100\n",
      "176/176 [==============================] - 0s 802us/step - loss: 0.3841 - accuracy: 0.8190\n",
      "Epoch 30/100\n",
      "176/176 [==============================] - 0s 822us/step - loss: 0.3846 - accuracy: 0.8171\n",
      "Epoch 31/100\n",
      "176/176 [==============================] - 0s 893us/step - loss: 0.3825 - accuracy: 0.8201\n",
      "Epoch 32/100\n",
      "176/176 [==============================] - 0s 931us/step - loss: 0.3823 - accuracy: 0.8213\n",
      "Epoch 33/100\n",
      "176/176 [==============================] - 0s 950us/step - loss: 0.3822 - accuracy: 0.8219\n",
      "Epoch 34/100\n",
      "176/176 [==============================] - 0s 813us/step - loss: 0.3806 - accuracy: 0.8210\n",
      "Epoch 35/100\n",
      "176/176 [==============================] - 0s 833us/step - loss: 0.3810 - accuracy: 0.8251\n",
      "Epoch 36/100\n",
      "176/176 [==============================] - 0s 819us/step - loss: 0.3792 - accuracy: 0.8210\n",
      "Epoch 37/100\n",
      "176/176 [==============================] - 0s 835us/step - loss: 0.3796 - accuracy: 0.8228\n",
      "Epoch 38/100\n",
      "176/176 [==============================] - 0s 825us/step - loss: 0.3790 - accuracy: 0.8233\n",
      "Epoch 39/100\n",
      "176/176 [==============================] - 0s 759us/step - loss: 0.3777 - accuracy: 0.8219\n",
      "Epoch 40/100\n",
      "176/176 [==============================] - 0s 801us/step - loss: 0.3775 - accuracy: 0.8213\n",
      "Epoch 41/100\n",
      "176/176 [==============================] - 0s 788us/step - loss: 0.3784 - accuracy: 0.8233\n",
      "Epoch 42/100\n",
      "176/176 [==============================] - 0s 794us/step - loss: 0.3760 - accuracy: 0.8217\n",
      "Epoch 43/100\n",
      "176/176 [==============================] - 0s 835us/step - loss: 0.3756 - accuracy: 0.8260\n",
      "Epoch 44/100\n",
      "176/176 [==============================] - 0s 1ms/step - loss: 0.3749 - accuracy: 0.8201\n",
      "Epoch 45/100\n",
      "176/176 [==============================] - 0s 885us/step - loss: 0.3737 - accuracy: 0.8256\n",
      "Epoch 46/100\n",
      "176/176 [==============================] - 0s 918us/step - loss: 0.3744 - accuracy: 0.8217\n",
      "Epoch 47/100\n",
      "176/176 [==============================] - 0s 979us/step - loss: 0.3723 - accuracy: 0.8217\n",
      "Epoch 48/100\n",
      "176/176 [==============================] - 0s 832us/step - loss: 0.3725 - accuracy: 0.8233\n",
      "Epoch 49/100\n",
      "176/176 [==============================] - 0s 825us/step - loss: 0.3715 - accuracy: 0.8256\n",
      "Epoch 50/100\n",
      "176/176 [==============================] - 0s 846us/step - loss: 0.3700 - accuracy: 0.8245\n",
      "Epoch 51/100\n",
      "176/176 [==============================] - 0s 824us/step - loss: 0.3694 - accuracy: 0.8277\n",
      "Epoch 52/100\n",
      "176/176 [==============================] - 0s 810us/step - loss: 0.3682 - accuracy: 0.8284\n",
      "Epoch 53/100\n",
      "176/176 [==============================] - 0s 776us/step - loss: 0.3683 - accuracy: 0.8265\n",
      "Epoch 54/100\n",
      "176/176 [==============================] - 0s 815us/step - loss: 0.3680 - accuracy: 0.8290\n",
      "Epoch 55/100\n",
      "176/176 [==============================] - 0s 787us/step - loss: 0.3674 - accuracy: 0.8286\n",
      "Epoch 56/100\n",
      "176/176 [==============================] - 0s 806us/step - loss: 0.3673 - accuracy: 0.8265\n",
      "Epoch 57/100\n",
      "176/176 [==============================] - 0s 1ms/step - loss: 0.3654 - accuracy: 0.8290\n",
      "Epoch 58/100\n",
      "176/176 [==============================] - 0s 820us/step - loss: 0.3648 - accuracy: 0.8297\n",
      "Epoch 59/100\n",
      "176/176 [==============================] - 0s 799us/step - loss: 0.3658 - accuracy: 0.8320\n",
      "Epoch 60/100\n",
      "176/176 [==============================] - 0s 841us/step - loss: 0.3647 - accuracy: 0.8315\n",
      "Epoch 61/100\n",
      "176/176 [==============================] - 0s 798us/step - loss: 0.3638 - accuracy: 0.8313\n",
      "Epoch 62/100\n",
      "176/176 [==============================] - 0s 780us/step - loss: 0.3635 - accuracy: 0.8315\n",
      "Epoch 63/100\n",
      "176/176 [==============================] - 0s 808us/step - loss: 0.3623 - accuracy: 0.8293\n",
      "Epoch 64/100\n",
      "176/176 [==============================] - 0s 797us/step - loss: 0.3619 - accuracy: 0.8295\n",
      "Epoch 65/100\n",
      "176/176 [==============================] - 0s 866us/step - loss: 0.3612 - accuracy: 0.8324\n",
      "Epoch 66/100\n",
      "176/176 [==============================] - 0s 798us/step - loss: 0.3607 - accuracy: 0.8325\n",
      "Epoch 67/100\n",
      "176/176 [==============================] - 0s 821us/step - loss: 0.3602 - accuracy: 0.8343\n",
      "Epoch 68/100\n",
      "176/176 [==============================] - 0s 877us/step - loss: 0.3599 - accuracy: 0.8313\n",
      "Epoch 69/100\n",
      "176/176 [==============================] - 0s 815us/step - loss: 0.3591 - accuracy: 0.8315\n",
      "Epoch 70/100\n",
      "176/176 [==============================] - 0s 1ms/step - loss: 0.3590 - accuracy: 0.8322\n",
      "Epoch 71/100\n",
      "176/176 [==============================] - 0s 835us/step - loss: 0.3590 - accuracy: 0.8331\n",
      "Epoch 72/100\n",
      "176/176 [==============================] - 0s 796us/step - loss: 0.3579 - accuracy: 0.8347\n",
      "Epoch 73/100\n",
      "176/176 [==============================] - 0s 827us/step - loss: 0.3569 - accuracy: 0.8336\n",
      "Epoch 74/100\n",
      "176/176 [==============================] - 0s 875us/step - loss: 0.3553 - accuracy: 0.8377\n",
      "Epoch 75/100\n",
      "176/176 [==============================] - 0s 1ms/step - loss: 0.3562 - accuracy: 0.8343\n",
      "Epoch 76/100\n",
      "176/176 [==============================] - 0s 854us/step - loss: 0.3554 - accuracy: 0.8363\n",
      "Epoch 77/100\n",
      "176/176 [==============================] - 0s 922us/step - loss: 0.3554 - accuracy: 0.8352\n",
      "Epoch 78/100\n",
      "176/176 [==============================] - 0s 898us/step - loss: 0.3544 - accuracy: 0.8368\n",
      "Epoch 79/100\n",
      "176/176 [==============================] - 0s 793us/step - loss: 0.3539 - accuracy: 0.8359\n",
      "Epoch 80/100\n",
      "176/176 [==============================] - 0s 805us/step - loss: 0.3546 - accuracy: 0.8347\n",
      "Epoch 81/100\n",
      "176/176 [==============================] - 0s 807us/step - loss: 0.3535 - accuracy: 0.8345\n",
      "Epoch 82/100\n",
      "176/176 [==============================] - 0s 804us/step - loss: 0.3538 - accuracy: 0.8356\n",
      "Epoch 83/100\n",
      "176/176 [==============================] - 0s 829us/step - loss: 0.3532 - accuracy: 0.8331\n",
      "Epoch 84/100\n",
      "176/176 [==============================] - 0s 841us/step - loss: 0.3529 - accuracy: 0.8336\n",
      "Epoch 85/100\n",
      "176/176 [==============================] - 0s 811us/step - loss: 0.3519 - accuracy: 0.8356\n",
      "Epoch 86/100\n",
      "176/176 [==============================] - 0s 892us/step - loss: 0.3517 - accuracy: 0.8368\n",
      "Epoch 87/100\n",
      "176/176 [==============================] - 0s 806us/step - loss: 0.3513 - accuracy: 0.8356\n",
      "Epoch 88/100\n",
      "176/176 [==============================] - 0s 838us/step - loss: 0.3520 - accuracy: 0.8370\n",
      "Epoch 89/100\n",
      "176/176 [==============================] - 0s 842us/step - loss: 0.3517 - accuracy: 0.8363\n",
      "Epoch 90/100\n",
      "176/176 [==============================] - 0s 947us/step - loss: 0.3504 - accuracy: 0.8380\n",
      "Epoch 91/100\n",
      "176/176 [==============================] - 0s 880us/step - loss: 0.3519 - accuracy: 0.8356\n",
      "Epoch 92/100\n",
      "176/176 [==============================] - 0s 844us/step - loss: 0.3499 - accuracy: 0.8354\n",
      "Epoch 93/100\n",
      "176/176 [==============================] - 0s 797us/step - loss: 0.3495 - accuracy: 0.8364\n",
      "Epoch 94/100\n",
      "176/176 [==============================] - 0s 769us/step - loss: 0.3484 - accuracy: 0.8402\n",
      "Epoch 95/100\n",
      "176/176 [==============================] - 0s 843us/step - loss: 0.3484 - accuracy: 0.8377\n",
      "Epoch 96/100\n",
      "176/176 [==============================] - 0s 794us/step - loss: 0.3472 - accuracy: 0.8405\n",
      "Epoch 97/100\n",
      "176/176 [==============================] - 0s 810us/step - loss: 0.3468 - accuracy: 0.8412\n",
      "Epoch 98/100\n",
      "176/176 [==============================] - 0s 881us/step - loss: 0.3503 - accuracy: 0.8366\n",
      "Epoch 99/100\n",
      "176/176 [==============================] - 0s 1ms/step - loss: 0.3463 - accuracy: 0.8388\n",
      "Epoch 100/100\n",
      "176/176 [==============================] - 0s 816us/step - loss: 0.3469 - accuracy: 0.8364\n"
     ]
    },
    {
     "data": {
      "text/plain": [
       "<keras.src.callbacks.History at 0x1464499d0>"
      ]
     },
     "execution_count": 114,
     "metadata": {},
     "output_type": "execute_result"
    }
   ],
   "source": [
    "import tensorflow as tf \n",
    "from tensorflow import keras \n",
    "\n",
    "model = keras.Sequential([\n",
    "    keras.layers.Dense(26, input_shape=(26,), activation='relu'),\n",
    "    keras.layers.Dense(16, activation='relu'),\n",
    "    keras.layers.Dense(1, activation='sigmoid')\n",
    "])\n",
    "\n",
    "\n",
    "model.compile(optimizer='adam',\n",
    "              loss='binary_crossentropy',\n",
    "              metrics=['accuracy']\n",
    "             )\n",
    "\n",
    "model.fit(X_train, y_train, epochs=100)"
   ]
  },
  {
   "cell_type": "code",
   "execution_count": 118,
   "id": "7e859aac-098b-4dd7-ad12-2e3f9b080562",
   "metadata": {},
   "outputs": [
    {
     "name": "stdout",
     "output_type": "stream",
     "text": [
      "44/44 [==============================] - 0s 686us/step\n"
     ]
    }
   ],
   "source": [
    "yp = model.predict(X_test)"
   ]
  },
  {
   "cell_type": "code",
   "execution_count": 119,
   "id": "1b551976-5980-4d3d-afb8-a618872c7e3d",
   "metadata": {},
   "outputs": [
    {
     "data": {
      "text/plain": [
       "array([[0.30060017],\n",
       "       [0.67852336],\n",
       "       [0.0099421 ],\n",
       "       [0.7226446 ],\n",
       "       [0.6242159 ]], dtype=float32)"
      ]
     },
     "execution_count": 119,
     "metadata": {},
     "output_type": "execute_result"
    }
   ],
   "source": [
    "yp[:5]"
   ]
  },
  {
   "cell_type": "code",
   "execution_count": 120,
   "id": "b0d44c5b-fe2a-4f8f-a8a7-1b0781c91bf4",
   "metadata": {},
   "outputs": [],
   "source": [
    "y_pred = []\n",
    "for element in yp:\n",
    "    if element > 0.5:\n",
    "        y_pred.append(1)\n",
    "    else:\n",
    "        y_pred.append(0)"
   ]
  },
  {
   "cell_type": "code",
   "execution_count": 121,
   "id": "c4649a09-6d2d-4d93-a46f-f5c12d3bba42",
   "metadata": {},
   "outputs": [
    {
     "data": {
      "text/plain": [
       "[0, 1, 0, 1, 1, 1, 0, 0, 0, 0]"
      ]
     },
     "execution_count": 121,
     "metadata": {},
     "output_type": "execute_result"
    }
   ],
   "source": [
    "y_pred[:10]"
   ]
  },
  {
   "cell_type": "code",
   "execution_count": 122,
   "id": "0fe00dc6-5770-4f34-abcf-272da3fefb57",
   "metadata": {},
   "outputs": [
    {
     "data": {
      "text/plain": [
       "2660    0\n",
       "744     0\n",
       "5579    1\n",
       "64      1\n",
       "3287    1\n",
       "816     1\n",
       "2670    0\n",
       "5920    0\n",
       "1023    0\n",
       "6087    0\n",
       "Name: Churn, dtype: int64"
      ]
     },
     "execution_count": 122,
     "metadata": {},
     "output_type": "execute_result"
    }
   ],
   "source": [
    "y_test[:10]"
   ]
  },
  {
   "cell_type": "code",
   "execution_count": 123,
   "id": "5b07e17f-9a5f-4cff-9aae-dc48d86922da",
   "metadata": {},
   "outputs": [
    {
     "name": "stdout",
     "output_type": "stream",
     "text": [
      "              precision    recall  f1-score   support\n",
      "\n",
      "           0       0.82      0.87      0.84       999\n",
      "           1       0.63      0.54      0.58       408\n",
      "\n",
      "    accuracy                           0.77      1407\n",
      "   macro avg       0.72      0.70      0.71      1407\n",
      "weighted avg       0.76      0.77      0.77      1407\n",
      "\n"
     ]
    }
   ],
   "source": [
    "from sklearn.metrics import confusion_matrix, classification_report\n",
    "print(classification_report(y_test, y_pred))"
   ]
  },
  {
   "cell_type": "code",
   "execution_count": 127,
   "id": "7345bc56-ec9e-439d-bc67-798e9c4323c1",
   "metadata": {},
   "outputs": [
    {
     "data": {
      "text/plain": [
       "Text(95.72222222222221, 0.5, 'Truth')"
      ]
     },
     "execution_count": 127,
     "metadata": {},
     "output_type": "execute_result"
    },
    {
     "data": {
      "image/png": "[encoded data removed]",
      "text/plain": [
       "<Figure size 1000x700 with 2 Axes>"
      ]
     },
     "metadata": {},
     "output_type": "display_data"
    }
   ],
   "source": [
    "import seaborn as sn\n",
    "cm = tf.math.confusion_matrix(labels=y_test,predictions=y_pred)\n",
    "\n",
    "plt.figure(figsize=(10,7))\n",
    "sn.heatmap(cm, annot=True, fmt='d')\n",
    "plt.xlabel('Prediction')\n",
    "plt.ylabel('Truth')\n"
   ]
  }
 ],
 "metadata": {
  "kernelspec": {
   "display_name": "Python 3 (ipykernel)",
   "language": "python",
   "name": "python3"
  },
  "language_info": {
   "codemirror_mode": {
    "name": "ipython",
    "version": 3
   },
   "file_extension": ".py",
   "mimetype": "text/x-python",
   "name": "python",
   "nbconvert_exporter": "python",
   "pygments_lexer": "ipython3",
   "version": "3.9.8"
  }
 },
 "nbformat": 4,
 "nbformat_minor": 5
}
