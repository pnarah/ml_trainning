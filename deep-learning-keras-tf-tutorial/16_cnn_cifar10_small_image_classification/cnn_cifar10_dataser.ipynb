{
 "cells": [
  {
   "cell_type": "code",
   "execution_count": 2,
   "id": "563d2618-758c-4145-a2e8-2b15886ded8b",
   "metadata": {},
   "outputs": [
    {
     "name": "stderr",
     "output_type": "stream",
     "text": [
      "2024-01-07 10:03:06.069408: I tensorflow/core/platform/cpu_feature_guard.cc:182] This TensorFlow binary is optimized to use available CPU instructions in performance-critical operations.\n",
      "To enable the following instructions: AVX2 FMA, in other operations, rebuild TensorFlow with the appropriate compiler flags.\n"
     ]
    }
   ],
   "source": [
    "import tensorflow as tf\n",
    "from tensorflow.keras import datasets, layers, models\n",
    "import numpy as np\n",
    "import matplotlib.pyplot as plt"
   ]
  },
  {
   "cell_type": "markdown",
   "id": "ec054ab0-dc04-48c0-b52f-cda4d9769a41",
   "metadata": {},
   "source": [
    "# Get data set from cifar10"
   ]
  },
  {
   "cell_type": "code",
   "execution_count": 3,
   "id": "1e0a1d79-3b63-4ab2-9a91-d5c2aa86a6c9",
   "metadata": {},
   "outputs": [],
   "source": [
    "(X_train, y_train), (X_test, y_test) = datasets.cifar10.load_data()"
   ]
  },
  {
   "cell_type": "code",
   "execution_count": 4,
   "id": "a0512c57-da7c-4279-965e-22313339119c",
   "metadata": {},
   "outputs": [
    {
     "data": {
      "text/plain": [
       "((50000, 32, 32, 3), (50000, 1))"
      ]
     },
     "execution_count": 4,
     "metadata": {},
     "output_type": "execute_result"
    }
   ],
   "source": [
    "X_train.shape , y_train.shape"
   ]
  },
  {
   "cell_type": "code",
   "execution_count": 5,
   "id": "f0b70d70-38ad-46f7-a972-c1deb557a57b",
   "metadata": {},
   "outputs": [
    {
     "data": {
      "text/plain": [
       "((10000, 32, 32, 3), (10000, 1))"
      ]
     },
     "execution_count": 5,
     "metadata": {},
     "output_type": "execute_result"
    }
   ],
   "source": [
    "X_test.shape, y_test.shape"
   ]
  },
  {
   "cell_type": "code",
   "execution_count": 6,
   "id": "69ff145f-d072-4433-b5d1-52824b04b587",
   "metadata": {},
   "outputs": [
    {
     "data": {
      "text/plain": [
       "array([[6],\n",
       "       [9],\n",
       "       [9],\n",
       "       [4],\n",
       "       [1]], dtype=uint8)"
      ]
     },
     "execution_count": 6,
     "metadata": {},
     "output_type": "execute_result"
    }
   ],
   "source": [
    "y_train[:5]"
   ]
  },
  {
   "cell_type": "code",
   "execution_count": 7,
   "id": "4d261051-324b-4c7c-8029-fb6be1f0d7c0",
   "metadata": {},
   "outputs": [],
   "source": [
    "y_train = y_train.reshape(-1,)"
   ]
  },
  {
   "cell_type": "code",
   "execution_count": 8,
   "id": "3304c613-6e51-4b06-bd77-97179793d9b0",
   "metadata": {},
   "outputs": [
    {
     "data": {
      "text/plain": [
       "array([6, 9, 9, 4, 1], dtype=uint8)"
      ]
     },
     "execution_count": 8,
     "metadata": {},
     "output_type": "execute_result"
    }
   ],
   "source": [
    "y_train[:5]"
   ]
  },
  {
   "cell_type": "code",
   "execution_count": 9,
   "id": "e494a789-2fcc-4e7c-b533-90eb2b104542",
   "metadata": {},
   "outputs": [],
   "source": [
    "y_test = y_test.reshape(-1,)"
   ]
  },
  {
   "cell_type": "code",
   "execution_count": 10,
   "id": "a1ab8055-d042-4f44-a2e2-6cdd091aba51",
   "metadata": {},
   "outputs": [
    {
     "data": {
      "text/plain": [
       "array([3, 8, 8, 0, 6], dtype=uint8)"
      ]
     },
     "execution_count": 10,
     "metadata": {},
     "output_type": "execute_result"
    }
   ],
   "source": [
    "y_test[:5]"
   ]
  },
  {
   "cell_type": "code",
   "execution_count": 11,
   "id": "e463e1a6-3c63-4fc1-9c42-5860445ecb1b",
   "metadata": {},
   "outputs": [],
   "source": [
    "classes = [\"airplane\",\"automobile\",\"bird\",\"cat\",\"deer\",\"dog\",\"frog\",\"horse\",\"ship\",\"truck\"]"
   ]
  },
  {
   "cell_type": "code",
   "execution_count": 12,
   "id": "f7f876a2-605a-4c24-80a6-f7ac0636659b",
   "metadata": {},
   "outputs": [],
   "source": [
    "def plot_sample(X, y, index):\n",
    "    plt.figure(figsize = (15,2))\n",
    "    plt.imshow(X[index])\n",
    "    plt.xlabel(classes[y[index]])"
   ]
  },
  {
   "cell_type": "code",
   "execution_count": 13,
   "id": "fc06eb13-64be-4c54-a99f-406ed607cb43",
   "metadata": {},
   "outputs": [
    {
     "data": {
      "image/png": "[encoded data removed]",
      "text/plain": [
       "<Figure size 1500x200 with 1 Axes>"
      ]
     },
     "metadata": {},
     "output_type": "display_data"
    }
   ],
   "source": [
    "plot_sample(X_train, y_train, 7)"
   ]
  },
  {
   "cell_type": "markdown",
   "id": "67e639c5-dbac-4a4f-b3b5-86d6dba43638",
   "metadata": {},
   "source": [
    "# Normalize training and test data"
   ]
  },
  {
   "cell_type": "code",
   "execution_count": 14,
   "id": "2d0c2f33-9a84-406d-ad33-a1889a1d7de8",
   "metadata": {},
   "outputs": [
    {
     "data": {
      "text/plain": [
       "array([[[[158, 112,  49],\n",
       "         [159, 111,  47],\n",
       "         [165, 116,  51],\n",
       "         ...,\n",
       "         [137,  95,  36],\n",
       "         [126,  91,  36],\n",
       "         [116,  85,  33]],\n",
       "\n",
       "        [[152, 112,  51],\n",
       "         [151, 110,  40],\n",
       "         [159, 114,  45],\n",
       "         ...,\n",
       "         [136,  95,  31],\n",
       "         [125,  91,  32],\n",
       "         [119,  88,  34]],\n",
       "\n",
       "        [[151, 110,  47],\n",
       "         [151, 109,  33],\n",
       "         [158, 111,  36],\n",
       "         ...,\n",
       "         [139,  98,  34],\n",
       "         [130,  95,  34],\n",
       "         [120,  89,  33]],\n",
       "\n",
       "        ...,\n",
       "\n",
       "        [[ 68, 124, 177],\n",
       "         [ 42, 100, 148],\n",
       "         [ 31,  88, 137],\n",
       "         ...,\n",
       "         [ 38,  97, 146],\n",
       "         [ 13,  64, 108],\n",
       "         [ 40,  85, 127]],\n",
       "\n",
       "        [[ 61, 116, 168],\n",
       "         [ 49, 102, 148],\n",
       "         [ 35,  85, 132],\n",
       "         ...,\n",
       "         [ 26,  82, 130],\n",
       "         [ 29,  82, 126],\n",
       "         [ 20,  64, 107]],\n",
       "\n",
       "        [[ 54, 107, 160],\n",
       "         [ 56, 105, 149],\n",
       "         [ 45,  89, 132],\n",
       "         ...,\n",
       "         [ 24,  77, 124],\n",
       "         [ 34,  84, 129],\n",
       "         [ 21,  67, 110]]]], dtype=uint8)"
      ]
     },
     "execution_count": 14,
     "metadata": {},
     "output_type": "execute_result"
    }
   ],
   "source": [
    "# Image has 3 channels (R,G,B) and each value in the channel can range from 0 to 255. Hence to normalize in 0-->1 range, we need to divide it by 255\n",
    "X_test[:1]"
   ]
  },
  {
   "cell_type": "code",
   "execution_count": 15,
   "id": "71cc9c3d-bdcc-4598-82ff-2e5139dc25d3",
   "metadata": {},
   "outputs": [],
   "source": [
    "X_test = X_test / 255.0\n",
    "X_train = X_train / 255.0"
   ]
  },
  {
   "cell_type": "code",
   "execution_count": 16,
   "id": "5d2698e1-3a77-458c-823d-2455bbd32201",
   "metadata": {},
   "outputs": [
    {
     "data": {
      "text/plain": [
       "array([[[[0.23137255, 0.24313725, 0.24705882],\n",
       "         [0.16862745, 0.18039216, 0.17647059],\n",
       "         [0.19607843, 0.18823529, 0.16862745],\n",
       "         ...,\n",
       "         [0.61960784, 0.51764706, 0.42352941],\n",
       "         [0.59607843, 0.49019608, 0.4       ],\n",
       "         [0.58039216, 0.48627451, 0.40392157]],\n",
       "\n",
       "        [[0.0627451 , 0.07843137, 0.07843137],\n",
       "         [0.        , 0.        , 0.        ],\n",
       "         [0.07058824, 0.03137255, 0.        ],\n",
       "         ...,\n",
       "         [0.48235294, 0.34509804, 0.21568627],\n",
       "         [0.46666667, 0.3254902 , 0.19607843],\n",
       "         [0.47843137, 0.34117647, 0.22352941]],\n",
       "\n",
       "        [[0.09803922, 0.09411765, 0.08235294],\n",
       "         [0.0627451 , 0.02745098, 0.        ],\n",
       "         [0.19215686, 0.10588235, 0.03137255],\n",
       "         ...,\n",
       "         [0.4627451 , 0.32941176, 0.19607843],\n",
       "         [0.47058824, 0.32941176, 0.19607843],\n",
       "         [0.42745098, 0.28627451, 0.16470588]],\n",
       "\n",
       "        ...,\n",
       "\n",
       "        [[0.81568627, 0.66666667, 0.37647059],\n",
       "         [0.78823529, 0.6       , 0.13333333],\n",
       "         [0.77647059, 0.63137255, 0.10196078],\n",
       "         ...,\n",
       "         [0.62745098, 0.52156863, 0.2745098 ],\n",
       "         [0.21960784, 0.12156863, 0.02745098],\n",
       "         [0.20784314, 0.13333333, 0.07843137]],\n",
       "\n",
       "        [[0.70588235, 0.54509804, 0.37647059],\n",
       "         [0.67843137, 0.48235294, 0.16470588],\n",
       "         [0.72941176, 0.56470588, 0.11764706],\n",
       "         ...,\n",
       "         [0.72156863, 0.58039216, 0.36862745],\n",
       "         [0.38039216, 0.24313725, 0.13333333],\n",
       "         [0.3254902 , 0.20784314, 0.13333333]],\n",
       "\n",
       "        [[0.69411765, 0.56470588, 0.45490196],\n",
       "         [0.65882353, 0.50588235, 0.36862745],\n",
       "         [0.70196078, 0.55686275, 0.34117647],\n",
       "         ...,\n",
       "         [0.84705882, 0.72156863, 0.54901961],\n",
       "         [0.59215686, 0.4627451 , 0.32941176],\n",
       "         [0.48235294, 0.36078431, 0.28235294]]]])"
      ]
     },
     "execution_count": 16,
     "metadata": {},
     "output_type": "execute_result"
    }
   ],
   "source": [
    "X_train[:1]"
   ]
  },
  {
   "cell_type": "markdown",
   "id": "b19e889a-4351-49cb-9526-9407ffd977a6",
   "metadata": {},
   "source": [
    "# ANN "
   ]
  },
  {
   "cell_type": "code",
   "execution_count": 17,
   "id": "46642361-d87f-4074-ba5a-74d256ebfaf1",
   "metadata": {},
   "outputs": [
    {
     "name": "stdout",
     "output_type": "stream",
     "text": [
      "Epoch 1/5\n",
      "1563/1563 [==============================] - 70s 45ms/step - loss: 1.8044 - accuracy: 0.3614\n",
      "Epoch 2/5\n",
      "1563/1563 [==============================] - 70s 45ms/step - loss: 1.6179 - accuracy: 0.4307\n",
      "Epoch 3/5\n",
      "1563/1563 [==============================] - 70s 45ms/step - loss: 1.5372 - accuracy: 0.4591\n",
      "Epoch 4/5\n",
      "1563/1563 [==============================] - 70s 45ms/step - loss: 1.4753 - accuracy: 0.4805\n",
      "Epoch 5/5\n",
      "1563/1563 [==============================] - 71s 45ms/step - loss: 1.4252 - accuracy: 0.4984\n"
     ]
    },
    {
     "data": {
      "text/plain": [
       "<keras.src.callbacks.History at 0x16553b610>"
      ]
     },
     "execution_count": 17,
     "metadata": {},
     "output_type": "execute_result"
    }
   ],
   "source": [
    "ann_model = models.Sequential([\n",
    "    layers.Flatten(input_shape=(32,32,3)),\n",
    "    layers.Dense(3000, activation='relu'),\n",
    "    layers.Dense(3000, activation='relu'),\n",
    "    layers.Dense(10, activation='softmax')\n",
    "])\n",
    "\n",
    "ann_model.compile(\n",
    "    optimizer='SGD',\n",
    "    loss='sparse_categorical_crossentropy',\n",
    "    metrics=['accuracy']\n",
    ")\n",
    "\n",
    "ann_model.fit(X_train, y_train, epochs=5)\n"
   ]
  },
  {
   "cell_type": "markdown",
   "id": "9cf4b5da-cecf-4229-bc3e-bc0aa14cd0d5",
   "metadata": {},
   "source": [
    "# Classification Report"
   ]
  },
  {
   "cell_type": "code",
   "execution_count": 18,
   "id": "664d385e-5bdc-4b66-be31-2b4075419f83",
   "metadata": {},
   "outputs": [],
   "source": [
    "from sklearn.metrics import confusion_matrix, classification_report\n",
    "import numpy as np"
   ]
  },
  {
   "cell_type": "code",
   "execution_count": 19,
   "id": "1c2756da-71ae-40b0-9a98-ae33751e193b",
   "metadata": {},
   "outputs": [
    {
     "name": "stdout",
     "output_type": "stream",
     "text": [
      "313/313 [==============================] - 2s 7ms/step\n",
      "Classification Report: \n",
      "               precision    recall  f1-score   support\n",
      "\n",
      "           0       0.69      0.39      0.50      1000\n",
      "           1       0.54      0.56      0.55      1000\n",
      "           2       0.50      0.18      0.26      1000\n",
      "           3       0.38      0.28      0.32      1000\n",
      "           4       0.51      0.32      0.40      1000\n",
      "           5       0.47      0.30      0.36      1000\n",
      "           6       0.47      0.64      0.55      1000\n",
      "           7       0.42      0.67      0.51      1000\n",
      "           8       0.65      0.54      0.59      1000\n",
      "           9       0.35      0.78      0.49      1000\n",
      "\n",
      "    accuracy                           0.47     10000\n",
      "   macro avg       0.50      0.47      0.45     10000\n",
      "weighted avg       0.50      0.47      0.45     10000\n",
      "\n"
     ]
    }
   ],
   "source": [
    "y_pred = ann_model.predict(X_test)\n",
    "y_pred_classes = [np.argmax(element) for element in y_pred]\n",
    "\n",
    "print(\"Classification Report: \\n\", classification_report(y_test, y_pred_classes))"
   ]
  },
  {
   "cell_type": "markdown",
   "id": "48db7c5f-3993-4ec5-af36-a66701e0cea6",
   "metadata": {},
   "source": [
    "# Create CNN and train with the training set"
   ]
  },
  {
   "cell_type": "code",
   "execution_count": 24,
   "id": "41daa6dd-0ba5-4b84-b2f3-86fdf1905ddf",
   "metadata": {},
   "outputs": [],
   "source": [
    "cnn_model = models.Sequential([\n",
    "    layers.Conv2D(filters=32, kernel_size=(3, 3), activation='relu', input_shape=(32, 32, 3)),\n",
    "    layers.MaxPooling2D((2, 2)),\n",
    "\n",
    "    layers.Conv2D(filters=62, kernel_size=(3,3), activation='relu'),\n",
    "    layers.MaxPooling2D((2, 2)),\n",
    "\n",
    "    layers.Flatten(),\n",
    "    layers.Dense(64, activation='relu'),\n",
    "    layers.Dense(10, activation='softmax')\n",
    "])"
   ]
  },
  {
   "cell_type": "code",
   "execution_count": 28,
   "id": "0d024da5-8607-47ce-86b5-c583b66b79db",
   "metadata": {},
   "outputs": [],
   "source": [
    "cnn_model.compile(\n",
    "    optimizer='adam',\n",
    "    loss='sparse_categorical_crossentropy',\n",
    "    metrics=['accuracy']\n",
    ")"
   ]
  },
  {
   "cell_type": "markdown",
   "id": "2069d2ca-f265-4684-b2ad-20032e66eac1",
   "metadata": {},
   "source": [
    "### Trai the CNN model with training set"
   ]
  },
  {
   "cell_type": "code",
   "execution_count": 29,
   "id": "b5ddce19-7f31-4b46-93cf-45bb3b21bea6",
   "metadata": {},
   "outputs": [
    {
     "name": "stdout",
     "output_type": "stream",
     "text": [
      "Epoch 1/5\n",
      "1563/1563 [==============================] - 23s 14ms/step - loss: 1.4422 - accuracy: 0.4839\n",
      "Epoch 2/5\n",
      "1563/1563 [==============================] - 23s 15ms/step - loss: 1.1028 - accuracy: 0.6148\n",
      "Epoch 3/5\n",
      "1563/1563 [==============================] - 24s 15ms/step - loss: 0.9719 - accuracy: 0.6634\n",
      "Epoch 4/5\n",
      "1563/1563 [==============================] - 23s 15ms/step - loss: 0.8837 - accuracy: 0.6944\n",
      "Epoch 5/5\n",
      "1563/1563 [==============================] - 23s 15ms/step - loss: 0.8129 - accuracy: 0.7199\n"
     ]
    },
    {
     "data": {
      "text/plain": [
       "<keras.src.callbacks.History at 0x168719b80>"
      ]
     },
     "execution_count": 29,
     "metadata": {},
     "output_type": "execute_result"
    }
   ],
   "source": [
    "cnn_model.fit(X_train, y_train, epochs=5)"
   ]
  },
  {
   "cell_type": "code",
   "execution_count": 31,
   "id": "5238c317-3d7d-4add-8cb4-e8f36f044698",
   "metadata": {},
   "outputs": [
    {
     "name": "stdout",
     "output_type": "stream",
     "text": [
      "313/313 [==============================] - 1s 2ms/step - loss: 0.9266 - accuracy: 0.6808\n"
     ]
    },
    {
     "data": {
      "text/plain": [
       "[0.9265760779380798, 0.6808000206947327]"
      ]
     },
     "execution_count": 31,
     "metadata": {},
     "output_type": "execute_result"
    }
   ],
   "source": [
    "cnn_model.evaluate(X_test, y_test)"
   ]
  },
  {
   "cell_type": "code",
   "execution_count": 32,
   "id": "451b4b7e-e708-475d-a5fa-f357090e7f6f",
   "metadata": {},
   "outputs": [
    {
     "name": "stdout",
     "output_type": "stream",
     "text": [
      "313/313 [==============================] - 1s 2ms/step\n",
      "Classification Report: \n",
      "               precision    recall  f1-score   support\n",
      "\n",
      "           0       0.65      0.78      0.71      1000\n",
      "           1       0.76      0.85      0.80      1000\n",
      "           2       0.54      0.59      0.56      1000\n",
      "           3       0.57      0.37      0.45      1000\n",
      "           4       0.63      0.64      0.63      1000\n",
      "           5       0.56      0.64      0.60      1000\n",
      "           6       0.76      0.78      0.77      1000\n",
      "           7       0.72      0.76      0.74      1000\n",
      "           8       0.88      0.67      0.76      1000\n",
      "           9       0.78      0.74      0.76      1000\n",
      "\n",
      "    accuracy                           0.68     10000\n",
      "   macro avg       0.68      0.68      0.68     10000\n",
      "weighted avg       0.68      0.68      0.68     10000\n",
      "\n"
     ]
    }
   ],
   "source": [
    "y_pred = cnn_model.predict(X_test)\n",
    "y_pred_classes = [np.argmax(element) for element in y_pred]\n",
    "\n",
    "print(\"Classification Report: \\n\", classification_report(y_test, y_pred_classes))"
   ]
  }
 ],
 "metadata": {
  "kernelspec": {
   "display_name": "Python 3 (ipykernel)",
   "language": "python",
   "name": "python3"
  },
  "language_info": {
   "codemirror_mode": {
    "name": "ipython",
    "version": 3
   },
   "file_extension": ".py",
   "mimetype": "text/x-python",
   "name": "python",
   "nbconvert_exporter": "python",
   "pygments_lexer": "ipython3",
   "version": "3.9.8"
  }
 },
 "nbformat": 4,
 "nbformat_minor": 5
}
