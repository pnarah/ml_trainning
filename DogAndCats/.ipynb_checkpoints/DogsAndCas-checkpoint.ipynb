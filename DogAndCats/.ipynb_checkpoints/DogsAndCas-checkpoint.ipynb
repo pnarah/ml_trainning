{
 "cells": [
  {
   "cell_type": "code",
   "execution_count": null,
   "id": "12adec8d-a3b0-4526-b62c-1a26b25938b4",
   "metadata": {},
   "outputs": [],
   "source": [
    "import numpy as np\n",
    "import tensorflow as tf\n",
    "from tensorflow import keras\n",
    "from tensorflow.keras.models import Sequential\n",
    "from tensorflow.keras.layers import Activation, Dense, Flatten, BatchNormalization, Conv2D, MaxPool2D\n",
    "from tensorflow.keras.optimizers import Adam\n",
    "from tensorflow.keras.metrics import categorical_crossentropy\n",
    "from tensorflow.keras.preprocessing.image import ImageDataGenerator\n",
    "from sklearn.metrics import confusion_matrix\n",
    "import itertools\n",
    "import os\n",
    "import shutil\n",
    "import random\n",
    "import glob\n",
    "import matplotlib.pyplot as plt\n",
    "import warnings\n",
    "warnings.simplefilter(action='ignore', category=FutureWarning)\n",
    "%matplotlib inline"
   ]
  },
  {
   "cell_type": "code",
   "execution_count": null,
   "id": "ac5593f3-1e1b-40d6-a228-27efa61598ef",
   "metadata": {},
   "outputs": [],
   "source": [
    "# split data into train test and validate diractory\n",
    "os.chdir('dogsNcats')\n",
    "if os.path.isdir('train/dog') is False:\n",
    "    os.makedirs('train/dog')\n",
    "    os.makedirs('train/cat')\n",
    "    os.makedirs('valid/dog')\n",
    "    os.makedirs('valid/cat')\n",
    "    os.makedirs('test/dog')\n",
    "    os.makedirs('test/cat')\n",
    "\n",
    "# select random 500 cats sample to train/cat\n",
    "for c in random.sample(glob.glob('train/cat*'), 500):\n",
    "    shutil.move(c, 'train/cat')\n",
    "for c in random.sample(glob.glob('train/dog*'), 500):\n",
    "    shutil.move(c, 'train/dog')\n",
    "\n",
    "for c in random.sample(glob.glob('train/cat*'), 100):\n",
    "    shutil.move(c, 'valid/cat')\n",
    "for c in random.sample(glob.glob('train/dog*'), 100):\n",
    "    shutil.move(c, 'valid/dog')\n",
    "\n",
    "for c in random.sample(glob.glob('train/cat*'), 50):\n",
    "    shutil.move(c, 'test/cat')\n",
    "for c in random.sample(glob.glob('train/dog*'), 50):\n",
    "    shutil.move(c, 'test/dog')\n",
    "\n",
    "os.chdir('../')"
   ]
  },
  {
   "cell_type": "code",
   "execution_count": null,
   "id": "0b53735e-6b24-4d64-abee-f53e5a5d91a6",
   "metadata": {},
   "outputs": [],
   "source": [
    "train_path='dogsNcats/train'\n",
    "valid_path='dogsNcats/valid'\n",
    "test_path='dogsNcats/test'"
   ]
  },
  {
   "cell_type": "code",
   "execution_count": null,
   "id": "f235aea6-2fb4-4321-b39e-1776c747d663",
   "metadata": {},
   "outputs": [],
   "source": [
    "train_batches=ImageDataGenerator(preprocessing_function=tf.keras.applications.vgg16.preprocess_input) \\\n",
    ".flow_from_directory(directory=train_path, target_size=(224,224), classes=['cat', 'dog'], batch_size=10)\n",
    "valid_batches=ImageDataGenerator(preprocessing_function=tf.keras.applications.vgg16.preprocess_input) \\\n",
    ".flow_from_directory(directory=valid_path, target_size=(224,224), classes=['cat', 'dog'], batch_size=10)\n",
    "test_batches=ImageDataGenerator(preprocessing_function=tf.keras.applications.vgg16.preprocess_input) \\\n",
    ".flow_from_directory(directory=test_path, target_size=(224,224), classes=['cat', 'dog'], batch_size=10, shuffle=False)"
   ]
  },
  {
   "cell_type": "code",
   "execution_count": null,
   "id": "d38ab730-ce6e-4e4f-98e8-ada41fd27344",
   "metadata": {},
   "outputs": [],
   "source": [
    "images, labels = next(train_batches)"
   ]
  },
  {
   "cell_type": "code",
   "execution_count": null,
   "id": "7ff6620b-7c5d-4d9f-b36c-0014442f43a7",
   "metadata": {},
   "outputs": [],
   "source": [
    "def plotImages(images_arr):\n",
    "    fig, axes = plt.subplots(1, 10, figsize=(20, 20))\n",
    "    axes = axes.flatten()\n",
    "    for img, ax in zip(images_arr, axes):\n",
    "        ax.imshow(img)\n",
    "        ax.axis('off')\n",
    "    plt.tight_layout()\n",
    "    plt.show()"
   ]
  },
  {
   "cell_type": "code",
   "execution_count": null,
   "id": "85e5bfd1-a6d3-4bf3-af8b-cf448999e587",
   "metadata": {},
   "outputs": [],
   "source": [
    "plotImages(images)\n",
    "print(labels)"
   ]
  },
  {
   "cell_type": "code",
   "execution_count": null,
   "id": "74520e71-af38-4c8d-bf38-c9d47e340941",
   "metadata": {},
   "outputs": [],
   "source": [
    "model = Sequential([\n",
    "    Conv2D(filters=32, kernel_size=(3, 3), activation='relu', padding='same', input_shape=(224,224,3)),\n",
    "    MaxPool2D(pool_size=(2,2), strides=2 ),\n",
    "    Conv2D(filters=64, kernel_size=(3, 3), activation='relu', padding='same'),\n",
    "    MaxPool2D(pool_size=(2,2), strides=2 ),\n",
    "    Flatten(),\n",
    "    Dense(units=2, activation='softmax'),\n",
    "    \n",
    "])"
   ]
  },
  {
   "cell_type": "code",
   "execution_count": null,
   "id": "3956dc2b-7ccd-46cd-bf8b-d759870c20cb",
   "metadata": {},
   "outputs": [],
   "source": [
    "model.summary()"
   ]
  },
  {
   "cell_type": "code",
   "execution_count": null,
   "id": "8bff83fc-faa2-461b-b96b-c5bbfe666f15",
   "metadata": {},
   "outputs": [],
   "source": [
    "model.compile(optimizer=Adam(learning_rate=0.0001), loss='categorical_crossentropy', metrics=['accuracy'])"
   ]
  },
  {
   "cell_type": "code",
   "execution_count": null,
   "id": "5c42a87e-e2a1-4901-adf6-65a24c404030",
   "metadata": {},
   "outputs": [],
   "source": [
    "model.fit(x=train_batches, validation_data=valid_batches, epochs=10, verbose=2)"
   ]
  },
  {
   "cell_type": "markdown",
   "id": "dc94ca38-13fe-4420-b0e1-41330aba667a",
   "metadata": {},
   "source": [
    "PREDICT"
   ]
  },
  {
   "cell_type": "code",
   "execution_count": null,
   "id": "cb1ae19f-d54b-4885-b5ee-b5aab3bc7135",
   "metadata": {},
   "outputs": [],
   "source": [
    "test_imgs, test_labels = next(test_batches)\n",
    "plotImages(test_imgs)\n",
    "print(test_labels)"
   ]
  },
  {
   "cell_type": "code",
   "execution_count": null,
   "id": "09beff75-32c6-4db5-8ed9-2e3675735328",
   "metadata": {},
   "outputs": [],
   "source": [
    "test_batches.classes"
   ]
  },
  {
   "cell_type": "code",
   "execution_count": null,
   "id": "bb3a0666-8d44-4194-a57a-8be3c9b0f140",
   "metadata": {},
   "outputs": [],
   "source": [
    "predictions = model.predict(x = test_batches, verbose=0)"
   ]
  },
  {
   "cell_type": "code",
   "execution_count": null,
   "id": "1731a6a0-ad31-48da-bda5-30fc43c99807",
   "metadata": {},
   "outputs": [],
   "source": [
    "np.round(predictions)"
   ]
  },
  {
   "cell_type": "markdown",
   "id": "5f36307f-3bc3-4420-a9c2-c3176b3cdc20",
   "metadata": {},
   "source": [
    "CONFUSION METRICS TO VISUALIZE "
   ]
  },
  {
   "cell_type": "code",
   "execution_count": null,
   "id": "bae50db8-7cfe-4bf5-9ed7-50aa1e4b9c7b",
   "metadata": {},
   "outputs": [],
   "source": [
    "cm = confusion_matrix(y_true=test_batches.classes, y_pred=np.argmax(predictions, axis=-1))"
   ]
  },
  {
   "cell_type": "code",
   "execution_count": 25,
   "id": "03ecced3-1cef-4170-992c-1e19562b3bc9",
   "metadata": {},
   "outputs": [
    {
     "ename": "IndentationError",
     "evalue": "unindent does not match any outer indentation level (<tokenize>, line 22)",
     "output_type": "error",
     "traceback": [
      "\u001b[0;36m  File \u001b[0;32m<tokenize>:22\u001b[0;36m\u001b[0m\n\u001b[0;31m    )\u001b[0m\n\u001b[0m    ^\u001b[0m\n\u001b[0;31mIndentationError\u001b[0m\u001b[0;31m:\u001b[0m unindent does not match any outer indentation level\n"
     ]
    }
   ],
   "source": [
    "def plot_confusion_matrix(cm, classes, normalize=False, title=\"Confusion Matrix\", cmap=plt.Blues):\n",
    "    plt.imshow(cm, interpolation=\"nearest\", cmap=cmap)\n",
    "    plt.title(title)\n",
    "    plt.colorbar()\n",
    "    tick_marks= np.arange(len(classes))\n",
    "    plt.xticks(tick_marks, classes, rotation=45)\n",
    "    plt.yticks(tick_marks, classes)\n",
    "\n",
    "    if normalize:\n",
    "        cm = cm.astype('float') / cm.sum(axis=1)[:, np.newaxis]\n",
    "        print(\"Normalized confusion matrics\")\n",
    "    else:\n",
    "        print(\"Confusion matrics Not Normalized\")\n",
    "\n",
    "    print(cm)\n",
    "\n",
    "    thresh = cm.max()/2\n",
    "    fori, j in intertools.product(range(cm.shape[0]), cm.shape[1]):\n",
    "        plt.text(j, i, cm[i, j],\n",
    "                 horizontalalignment=\"center\",\n",
    "                 color=\"whilte\" if cm[i, j] > thresh else \"black\"\n",
    "                )\n",
    "    plt.tight_layout()\n",
    "    plt.ylabel('True label')\n",
    "    plt.xlabel('Predicted label')"
   ]
  },
  {
   "cell_type": "code",
   "execution_count": null,
   "id": "44a6765c-76df-48f0-9ce8-b06ad924d052",
   "metadata": {},
   "outputs": [],
   "source": [
    "test_batches.class_indices"
   ]
  },
  {
   "cell_type": "code",
   "execution_count": null,
   "id": "78038861-807b-4ee6-96e2-05cc3539893d",
   "metadata": {},
   "outputs": [],
   "source": [
    "cm_plot_labels = ['cat', 'dog']\n",
    "plot_confusion_matrics(cm=cm, classes=cm_plot_labels, title='Confusion Matrix')"
   ]
  }
 ],
 "metadata": {
  "kernelspec": {
   "display_name": "Python 3 (ipykernel)",
   "language": "python",
   "name": "python3"
  },
  "language_info": {
   "codemirror_mode": {
    "name": "ipython",
    "version": 3
   },
   "file_extension": ".py",
   "mimetype": "text/x-python",
   "name": "python",
   "nbconvert_exporter": "python",
   "pygments_lexer": "ipython3",
   "version": "3.9.8"
  }
 },
 "nbformat": 4,
 "nbformat_minor": 5
}
